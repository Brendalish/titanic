{
 "cells": [
  {
   "cell_type": "markdown",
   "metadata": {},
   "source": [
    "## Workflow for treating missing values and three tyes of missing data\n",
    "\n",
    "**Workflow:**[1]  \n",
    "(1) convert all missing values to null values  \n",
    "(2) analyze the amount and type of missingness in the data  \n",
    "(3) appropriately delete or impute missing values  \n",
    "(4) evaluate and compare the perfomances of the treated/imputed dataset  \n",
    "\n",
    "This notebook (Part 1) covers Step1 and Step2 for Titanic Kaggle Competition. The next notebook (Part 2) will cover Step3 and Step4.\n",
    "\n",
    "**Rubin (1976) classified missing data problems into three categories:**[2]  \n",
    "(1) **MCAR**, missing completely at random. If the probability of being missing is the same for all cases, then the data are said to be missing completely at random (MCAR). This effectively implies that causes of the missing data are unrelated to the data.  \n",
    "(2) **MAR**, missing at random.If the probability of being missing is the same only within groups defined by the observed data, then the data are missing at random (MAR). MAR is a much broader class than MCAR.  \n",
    "(3) **MNAR**, missing not at random.If neither MCAR nor MAR holds, then we speak of missing not at random (MNAR)."
   ]
  },
  {
   "cell_type": "markdown",
   "metadata": {},
   "source": [
    "## Load libraries, packages, modules and data"
   ]
  },
  {
   "cell_type": "code",
   "execution_count": 48,
   "metadata": {},
   "outputs": [],
   "source": [
    "import pandas as pd\n",
    "import numpy as np\n",
    "\n",
    "import matplotlib.pyplot as plt\n",
    "%matplotlib inline\n",
    "plt.style.use('seaborn')\n",
    "\n",
    "import kaggle\n",
    "import os\n",
    "\n",
    "#missingno is a python library enables a quick visual summary of the completeness of your dataset.\n",
    "import missingno as msno"
   ]
  },
  {
   "cell_type": "code",
   "execution_count": 49,
   "metadata": {},
   "outputs": [],
   "source": [
    "#load train data\n",
    "#train_df = pd.read_csv('../input/titanic/train.csv')\n",
    "#test_df = pd.read_csv('../input/titanic/test.csv')\n",
    "train_df = pd.read_csv('data/train.csv')\n",
    "test_df = pd.read_csv('data/test.csv')\n",
    "#create a new column 'Is_train' to differentiate the training data from the testing data, 1 = training, 0 = testing\n",
    "train_df['Is_train'] = 1\n",
    "test_df['Is_train'] = 0\n",
    "#create the 'Survived' column filled with null values in the testing data\n",
    "#so as to share the same columns as the training data\n",
    "test_df['Survived'] = np.nan\n",
    "#combine the trainning data and testing data\n",
    "full_df = pd.concat([train_df, test_df], ignore_index=True)\n",
    "# delete the two dataframes which are no longer needed\n",
    "del train_df, test_df"
   ]
  },
  {
   "cell_type": "markdown",
   "metadata": {},
   "source": [
    "## Convert all missing values to null values (None, np.nan)"
   ]
  },
  {
   "cell_type": "markdown",
   "metadata": {},
   "source": [
    "### Find the missing values which are not null values yet"
   ]
  },
  {
   "cell_type": "code",
   "execution_count": 50,
   "metadata": {},
   "outputs": [
    {
     "name": "stdout",
     "output_type": "stream",
     "text": [
      "<class 'pandas.core.frame.DataFrame'>\n",
      "RangeIndex: 1309 entries, 0 to 1308\n",
      "Data columns (total 13 columns):\n",
      " #   Column       Non-Null Count  Dtype  \n",
      "---  ------       --------------  -----  \n",
      " 0   PassengerId  1309 non-null   int64  \n",
      " 1   Survived     891 non-null    float64\n",
      " 2   Pclass       1309 non-null   int64  \n",
      " 3   Name         1309 non-null   object \n",
      " 4   Sex          1309 non-null   object \n",
      " 5   Age          1046 non-null   float64\n",
      " 6   SibSp        1309 non-null   int64  \n",
      " 7   Parch        1309 non-null   int64  \n",
      " 8   Ticket       1309 non-null   object \n",
      " 9   Fare         1308 non-null   float64\n",
      " 10  Cabin        295 non-null    object \n",
      " 11  Embarked     1307 non-null   object \n",
      " 12  Is_train     1309 non-null   int64  \n",
      "dtypes: float64(3), int64(5), object(5)\n",
      "memory usage: 133.1+ KB\n"
     ]
    }
   ],
   "source": [
    "#Check the data type of each column\n",
    "full_df.info()"
   ]
  },
  {
   "cell_type": "markdown",
   "metadata": {},
   "source": [
    "**Finding:**   \n",
    "'Name', 'Sex', 'Ticket', 'Cabin', 'Embarked' are of object type.   \n",
    "The rest are numerical (int or float).   "
   ]
  },
  {
   "cell_type": "markdown",
   "metadata": {},
   "source": [
    "#### Check the columns of object dtype\n",
    "Check if any of the columns which are supposed to be numerical types are now object type.\n",
    "The existence of missing values makes numerical columns into object dtype."
   ]
  },
  {
   "cell_type": "code",
   "execution_count": 51,
   "metadata": {},
   "outputs": [
    {
     "data": {
      "text/plain": [
       "['Name', 'Sex', 'Ticket', 'Cabin', 'Embarked']"
      ]
     },
     "execution_count": 51,
     "metadata": {},
     "output_type": "execute_result"
    }
   ],
   "source": [
    "#Find the columns of object dtype\n",
    "object_columns = [c for c in full_df.columns if full_df[c].dtype == 'object']\n",
    "object_columns"
   ]
  },
  {
   "cell_type": "code",
   "execution_count": 52,
   "metadata": {},
   "outputs": [
    {
     "data": {
      "text/html": [
       "<div>\n",
       "<style scoped>\n",
       "    .dataframe tbody tr th:only-of-type {\n",
       "        vertical-align: middle;\n",
       "    }\n",
       "\n",
       "    .dataframe tbody tr th {\n",
       "        vertical-align: top;\n",
       "    }\n",
       "\n",
       "    .dataframe thead th {\n",
       "        text-align: right;\n",
       "    }\n",
       "</style>\n",
       "<table border=\"1\" class=\"dataframe\">\n",
       "  <thead>\n",
       "    <tr style=\"text-align: right;\">\n",
       "      <th></th>\n",
       "      <th>Name</th>\n",
       "      <th>Sex</th>\n",
       "      <th>Ticket</th>\n",
       "      <th>Cabin</th>\n",
       "      <th>Embarked</th>\n",
       "    </tr>\n",
       "  </thead>\n",
       "  <tbody>\n",
       "    <tr>\n",
       "      <th>count</th>\n",
       "      <td>1309</td>\n",
       "      <td>1309</td>\n",
       "      <td>1309</td>\n",
       "      <td>295</td>\n",
       "      <td>1307</td>\n",
       "    </tr>\n",
       "    <tr>\n",
       "      <th>unique</th>\n",
       "      <td>1307</td>\n",
       "      <td>2</td>\n",
       "      <td>929</td>\n",
       "      <td>186</td>\n",
       "      <td>3</td>\n",
       "    </tr>\n",
       "    <tr>\n",
       "      <th>top</th>\n",
       "      <td>Connolly, Miss. Kate</td>\n",
       "      <td>male</td>\n",
       "      <td>CA. 2343</td>\n",
       "      <td>C23 C25 C27</td>\n",
       "      <td>S</td>\n",
       "    </tr>\n",
       "    <tr>\n",
       "      <th>freq</th>\n",
       "      <td>2</td>\n",
       "      <td>843</td>\n",
       "      <td>11</td>\n",
       "      <td>6</td>\n",
       "      <td>914</td>\n",
       "    </tr>\n",
       "  </tbody>\n",
       "</table>\n",
       "</div>"
      ],
      "text/plain": [
       "                        Name   Sex    Ticket        Cabin Embarked\n",
       "count                   1309  1309      1309          295     1307\n",
       "unique                  1307     2       929          186        3\n",
       "top     Connolly, Miss. Kate  male  CA. 2343  C23 C25 C27        S\n",
       "freq                       2   843        11            6      914"
      ]
     },
     "execution_count": 52,
     "metadata": {},
     "output_type": "execute_result"
    }
   ],
   "source": [
    "#Get the statistics of each object column (most frequent values, etc.)\n",
    "full_df[object_columns].describe()"
   ]
  },
  {
   "cell_type": "code",
   "execution_count": 53,
   "metadata": {},
   "outputs": [
    {
     "name": "stdout",
     "output_type": "stream",
     "text": [
      "1. Top 10 unique values for column 'Name':\n",
      "['Connolly, Miss. Kate', 'Kelly, Mr. James', 'Wright, Miss. Marion', 'Fox, Mr. Patrick', 'Goodwin, Master. William Frederick', 'Portaluppi, Mr. Emilio Ilario Giuseppe', 'Ostby, Miss. Helene Ragnhild', 'Pulbaum, Mr. Franz', 'Thayer, Mrs. John Borland (Marian Longstreth Morris)', 'Emanuel, Miss. Virginia Ethel'] \n",
      "\n",
      "Is 'na'(case insensitive) one of its unique values? False \n",
      "\n",
      "Is 'unknown' (case insensitive) one of its unique values? False \n",
      "\n",
      "2. Top 10 unique values for column 'Sex':\n",
      "['male', 'female'] \n",
      "\n",
      "Is 'na'(case insensitive) one of its unique values? False \n",
      "\n",
      "Is 'unknown' (case insensitive) one of its unique values? False \n",
      "\n",
      "3. Top 10 unique values for column 'Ticket':\n",
      "['CA. 2343', '1601', 'CA 2144', '347077', '347082', 'PC 17608', 'S.O.C. 14879', '3101295', '113781', '382652'] \n",
      "\n",
      "Is 'na'(case insensitive) one of its unique values? False \n",
      "\n",
      "Is 'unknown' (case insensitive) one of its unique values? False \n",
      "\n",
      "4. Top 10 unique values for column 'Cabin':\n",
      "['C23 C25 C27', 'B57 B59 B63 B66', 'G6', 'B96 B98', 'F33', 'D', 'C78', 'F2', 'C22 C26', 'F4'] \n",
      "\n",
      "Is 'na'(case insensitive) one of its unique values? False \n",
      "\n",
      "Is 'unknown' (case insensitive) one of its unique values? False \n",
      "\n",
      "5. Top 10 unique values for column 'Embarked':\n",
      "['S', 'C', 'Q'] \n",
      "\n",
      "Is 'na'(case insensitive) one of its unique values? False \n",
      "\n",
      "Is 'unknown' (case insensitive) one of its unique values? False \n",
      "\n"
     ]
    }
   ],
   "source": [
    "#Look for common symbols for missing values, like '?', 'NA', '-', '.', 'unknown'\n",
    "i=1\n",
    "for c in object_columns:\n",
    "    print(str(i)+'.', \"Top 10 unique values for column '{}':\".format(c))\n",
    "    unique_values = full_df[c].dropna().unique()\n",
    "    print(full_df[c].value_counts().index.to_list()[:10], '\\n')\n",
    "    unique_values_lowercase = np.char.lower(unique_values.astype('str'))\n",
    "    print(\"Is 'na'(case insensitive) one of its unique values?\", 'na' in unique_values_lowercase, '\\n')    \n",
    "    print(\"Is 'unknown' (case insensitive) one of its unique values?\", 'unknown' in unique_values_lowercase, '\\n')\n",
    "    i+=1"
   ]
  },
  {
   "cell_type": "markdown",
   "metadata": {},
   "source": [
    "**Finding:**   \n",
    "The common symbols or words representing missing values are not found in the Object columns. "
   ]
  },
  {
   "cell_type": "markdown",
   "metadata": {},
   "source": [
    "#### Check the numerical columns"
   ]
  },
  {
   "cell_type": "code",
   "execution_count": 54,
   "metadata": {},
   "outputs": [
    {
     "data": {
      "text/html": [
       "<div>\n",
       "<style scoped>\n",
       "    .dataframe tbody tr th:only-of-type {\n",
       "        vertical-align: middle;\n",
       "    }\n",
       "\n",
       "    .dataframe tbody tr th {\n",
       "        vertical-align: top;\n",
       "    }\n",
       "\n",
       "    .dataframe thead th {\n",
       "        text-align: right;\n",
       "    }\n",
       "</style>\n",
       "<table border=\"1\" class=\"dataframe\">\n",
       "  <thead>\n",
       "    <tr style=\"text-align: right;\">\n",
       "      <th></th>\n",
       "      <th>PassengerId</th>\n",
       "      <th>Survived</th>\n",
       "      <th>Pclass</th>\n",
       "      <th>Age</th>\n",
       "      <th>SibSp</th>\n",
       "      <th>Parch</th>\n",
       "      <th>Fare</th>\n",
       "      <th>Is_train</th>\n",
       "    </tr>\n",
       "  </thead>\n",
       "  <tbody>\n",
       "    <tr>\n",
       "      <th>count</th>\n",
       "      <td>1309.000000</td>\n",
       "      <td>891.000000</td>\n",
       "      <td>1309.000000</td>\n",
       "      <td>1046.000000</td>\n",
       "      <td>1309.000000</td>\n",
       "      <td>1309.000000</td>\n",
       "      <td>1308.000000</td>\n",
       "      <td>1309.000000</td>\n",
       "    </tr>\n",
       "    <tr>\n",
       "      <th>mean</th>\n",
       "      <td>655.000000</td>\n",
       "      <td>0.383838</td>\n",
       "      <td>2.294882</td>\n",
       "      <td>29.881138</td>\n",
       "      <td>0.498854</td>\n",
       "      <td>0.385027</td>\n",
       "      <td>33.295479</td>\n",
       "      <td>0.680672</td>\n",
       "    </tr>\n",
       "    <tr>\n",
       "      <th>std</th>\n",
       "      <td>378.020061</td>\n",
       "      <td>0.486592</td>\n",
       "      <td>0.837836</td>\n",
       "      <td>14.413493</td>\n",
       "      <td>1.041658</td>\n",
       "      <td>0.865560</td>\n",
       "      <td>51.758668</td>\n",
       "      <td>0.466394</td>\n",
       "    </tr>\n",
       "    <tr>\n",
       "      <th>min</th>\n",
       "      <td>1.000000</td>\n",
       "      <td>0.000000</td>\n",
       "      <td>1.000000</td>\n",
       "      <td>0.170000</td>\n",
       "      <td>0.000000</td>\n",
       "      <td>0.000000</td>\n",
       "      <td>0.000000</td>\n",
       "      <td>0.000000</td>\n",
       "    </tr>\n",
       "    <tr>\n",
       "      <th>25%</th>\n",
       "      <td>328.000000</td>\n",
       "      <td>0.000000</td>\n",
       "      <td>2.000000</td>\n",
       "      <td>21.000000</td>\n",
       "      <td>0.000000</td>\n",
       "      <td>0.000000</td>\n",
       "      <td>7.895800</td>\n",
       "      <td>0.000000</td>\n",
       "    </tr>\n",
       "    <tr>\n",
       "      <th>50%</th>\n",
       "      <td>655.000000</td>\n",
       "      <td>0.000000</td>\n",
       "      <td>3.000000</td>\n",
       "      <td>28.000000</td>\n",
       "      <td>0.000000</td>\n",
       "      <td>0.000000</td>\n",
       "      <td>14.454200</td>\n",
       "      <td>1.000000</td>\n",
       "    </tr>\n",
       "    <tr>\n",
       "      <th>75%</th>\n",
       "      <td>982.000000</td>\n",
       "      <td>1.000000</td>\n",
       "      <td>3.000000</td>\n",
       "      <td>39.000000</td>\n",
       "      <td>1.000000</td>\n",
       "      <td>0.000000</td>\n",
       "      <td>31.275000</td>\n",
       "      <td>1.000000</td>\n",
       "    </tr>\n",
       "    <tr>\n",
       "      <th>max</th>\n",
       "      <td>1309.000000</td>\n",
       "      <td>1.000000</td>\n",
       "      <td>3.000000</td>\n",
       "      <td>80.000000</td>\n",
       "      <td>8.000000</td>\n",
       "      <td>9.000000</td>\n",
       "      <td>512.329200</td>\n",
       "      <td>1.000000</td>\n",
       "    </tr>\n",
       "  </tbody>\n",
       "</table>\n",
       "</div>"
      ],
      "text/plain": [
       "       PassengerId    Survived       Pclass          Age        SibSp  \\\n",
       "count  1309.000000  891.000000  1309.000000  1046.000000  1309.000000   \n",
       "mean    655.000000    0.383838     2.294882    29.881138     0.498854   \n",
       "std     378.020061    0.486592     0.837836    14.413493     1.041658   \n",
       "min       1.000000    0.000000     1.000000     0.170000     0.000000   \n",
       "25%     328.000000    0.000000     2.000000    21.000000     0.000000   \n",
       "50%     655.000000    0.000000     3.000000    28.000000     0.000000   \n",
       "75%     982.000000    1.000000     3.000000    39.000000     1.000000   \n",
       "max    1309.000000    1.000000     3.000000    80.000000     8.000000   \n",
       "\n",
       "             Parch         Fare     Is_train  \n",
       "count  1309.000000  1308.000000  1309.000000  \n",
       "mean      0.385027    33.295479     0.680672  \n",
       "std       0.865560    51.758668     0.466394  \n",
       "min       0.000000     0.000000     0.000000  \n",
       "25%       0.000000     7.895800     0.000000  \n",
       "50%       0.000000    14.454200     1.000000  \n",
       "75%       0.000000    31.275000     1.000000  \n",
       "max       9.000000   512.329200     1.000000  "
      ]
     },
     "execution_count": 54,
     "metadata": {},
     "output_type": "execute_result"
    }
   ],
   "source": [
    "#Look for values out of expected data range, like 0 for age, or extremely large number like 9999 for age\n",
    "full_df.describe()"
   ]
  },
  {
   "cell_type": "code",
   "execution_count": 55,
   "metadata": {},
   "outputs": [
    {
     "name": "stdout",
     "output_type": "stream",
     "text": [
      "17 fare values are zero.\n"
     ]
    },
    {
     "data": {
      "text/html": [
       "<div>\n",
       "<style scoped>\n",
       "    .dataframe tbody tr th:only-of-type {\n",
       "        vertical-align: middle;\n",
       "    }\n",
       "\n",
       "    .dataframe tbody tr th {\n",
       "        vertical-align: top;\n",
       "    }\n",
       "\n",
       "    .dataframe thead th {\n",
       "        text-align: right;\n",
       "    }\n",
       "</style>\n",
       "<table border=\"1\" class=\"dataframe\">\n",
       "  <thead>\n",
       "    <tr style=\"text-align: right;\">\n",
       "      <th></th>\n",
       "      <th>PassengerId</th>\n",
       "      <th>Survived</th>\n",
       "      <th>Pclass</th>\n",
       "      <th>Name</th>\n",
       "      <th>Sex</th>\n",
       "      <th>Age</th>\n",
       "      <th>SibSp</th>\n",
       "      <th>Parch</th>\n",
       "      <th>Ticket</th>\n",
       "      <th>Fare</th>\n",
       "      <th>Cabin</th>\n",
       "      <th>Embarked</th>\n",
       "      <th>Is_train</th>\n",
       "    </tr>\n",
       "  </thead>\n",
       "  <tbody>\n",
       "    <tr>\n",
       "      <th>179</th>\n",
       "      <td>180</td>\n",
       "      <td>0.0</td>\n",
       "      <td>3</td>\n",
       "      <td>Leonard, Mr. Lionel</td>\n",
       "      <td>male</td>\n",
       "      <td>36.0</td>\n",
       "      <td>0</td>\n",
       "      <td>0</td>\n",
       "      <td>LINE</td>\n",
       "      <td>0.0</td>\n",
       "      <td>NaN</td>\n",
       "      <td>S</td>\n",
       "      <td>1</td>\n",
       "    </tr>\n",
       "    <tr>\n",
       "      <th>263</th>\n",
       "      <td>264</td>\n",
       "      <td>0.0</td>\n",
       "      <td>1</td>\n",
       "      <td>Harrison, Mr. William</td>\n",
       "      <td>male</td>\n",
       "      <td>40.0</td>\n",
       "      <td>0</td>\n",
       "      <td>0</td>\n",
       "      <td>112059</td>\n",
       "      <td>0.0</td>\n",
       "      <td>B94</td>\n",
       "      <td>S</td>\n",
       "      <td>1</td>\n",
       "    </tr>\n",
       "    <tr>\n",
       "      <th>271</th>\n",
       "      <td>272</td>\n",
       "      <td>1.0</td>\n",
       "      <td>3</td>\n",
       "      <td>Tornquist, Mr. William Henry</td>\n",
       "      <td>male</td>\n",
       "      <td>25.0</td>\n",
       "      <td>0</td>\n",
       "      <td>0</td>\n",
       "      <td>LINE</td>\n",
       "      <td>0.0</td>\n",
       "      <td>NaN</td>\n",
       "      <td>S</td>\n",
       "      <td>1</td>\n",
       "    </tr>\n",
       "    <tr>\n",
       "      <th>277</th>\n",
       "      <td>278</td>\n",
       "      <td>0.0</td>\n",
       "      <td>2</td>\n",
       "      <td>Parkes, Mr. Francis \"Frank\"</td>\n",
       "      <td>male</td>\n",
       "      <td>NaN</td>\n",
       "      <td>0</td>\n",
       "      <td>0</td>\n",
       "      <td>239853</td>\n",
       "      <td>0.0</td>\n",
       "      <td>NaN</td>\n",
       "      <td>S</td>\n",
       "      <td>1</td>\n",
       "    </tr>\n",
       "    <tr>\n",
       "      <th>302</th>\n",
       "      <td>303</td>\n",
       "      <td>0.0</td>\n",
       "      <td>3</td>\n",
       "      <td>Johnson, Mr. William Cahoone Jr</td>\n",
       "      <td>male</td>\n",
       "      <td>19.0</td>\n",
       "      <td>0</td>\n",
       "      <td>0</td>\n",
       "      <td>LINE</td>\n",
       "      <td>0.0</td>\n",
       "      <td>NaN</td>\n",
       "      <td>S</td>\n",
       "      <td>1</td>\n",
       "    </tr>\n",
       "    <tr>\n",
       "      <th>413</th>\n",
       "      <td>414</td>\n",
       "      <td>0.0</td>\n",
       "      <td>2</td>\n",
       "      <td>Cunningham, Mr. Alfred Fleming</td>\n",
       "      <td>male</td>\n",
       "      <td>NaN</td>\n",
       "      <td>0</td>\n",
       "      <td>0</td>\n",
       "      <td>239853</td>\n",
       "      <td>0.0</td>\n",
       "      <td>NaN</td>\n",
       "      <td>S</td>\n",
       "      <td>1</td>\n",
       "    </tr>\n",
       "    <tr>\n",
       "      <th>466</th>\n",
       "      <td>467</td>\n",
       "      <td>0.0</td>\n",
       "      <td>2</td>\n",
       "      <td>Campbell, Mr. William</td>\n",
       "      <td>male</td>\n",
       "      <td>NaN</td>\n",
       "      <td>0</td>\n",
       "      <td>0</td>\n",
       "      <td>239853</td>\n",
       "      <td>0.0</td>\n",
       "      <td>NaN</td>\n",
       "      <td>S</td>\n",
       "      <td>1</td>\n",
       "    </tr>\n",
       "    <tr>\n",
       "      <th>481</th>\n",
       "      <td>482</td>\n",
       "      <td>0.0</td>\n",
       "      <td>2</td>\n",
       "      <td>Frost, Mr. Anthony Wood \"Archie\"</td>\n",
       "      <td>male</td>\n",
       "      <td>NaN</td>\n",
       "      <td>0</td>\n",
       "      <td>0</td>\n",
       "      <td>239854</td>\n",
       "      <td>0.0</td>\n",
       "      <td>NaN</td>\n",
       "      <td>S</td>\n",
       "      <td>1</td>\n",
       "    </tr>\n",
       "    <tr>\n",
       "      <th>597</th>\n",
       "      <td>598</td>\n",
       "      <td>0.0</td>\n",
       "      <td>3</td>\n",
       "      <td>Johnson, Mr. Alfred</td>\n",
       "      <td>male</td>\n",
       "      <td>49.0</td>\n",
       "      <td>0</td>\n",
       "      <td>0</td>\n",
       "      <td>LINE</td>\n",
       "      <td>0.0</td>\n",
       "      <td>NaN</td>\n",
       "      <td>S</td>\n",
       "      <td>1</td>\n",
       "    </tr>\n",
       "    <tr>\n",
       "      <th>633</th>\n",
       "      <td>634</td>\n",
       "      <td>0.0</td>\n",
       "      <td>1</td>\n",
       "      <td>Parr, Mr. William Henry Marsh</td>\n",
       "      <td>male</td>\n",
       "      <td>NaN</td>\n",
       "      <td>0</td>\n",
       "      <td>0</td>\n",
       "      <td>112052</td>\n",
       "      <td>0.0</td>\n",
       "      <td>NaN</td>\n",
       "      <td>S</td>\n",
       "      <td>1</td>\n",
       "    </tr>\n",
       "    <tr>\n",
       "      <th>674</th>\n",
       "      <td>675</td>\n",
       "      <td>0.0</td>\n",
       "      <td>2</td>\n",
       "      <td>Watson, Mr. Ennis Hastings</td>\n",
       "      <td>male</td>\n",
       "      <td>NaN</td>\n",
       "      <td>0</td>\n",
       "      <td>0</td>\n",
       "      <td>239856</td>\n",
       "      <td>0.0</td>\n",
       "      <td>NaN</td>\n",
       "      <td>S</td>\n",
       "      <td>1</td>\n",
       "    </tr>\n",
       "    <tr>\n",
       "      <th>732</th>\n",
       "      <td>733</td>\n",
       "      <td>0.0</td>\n",
       "      <td>2</td>\n",
       "      <td>Knight, Mr. Robert J</td>\n",
       "      <td>male</td>\n",
       "      <td>NaN</td>\n",
       "      <td>0</td>\n",
       "      <td>0</td>\n",
       "      <td>239855</td>\n",
       "      <td>0.0</td>\n",
       "      <td>NaN</td>\n",
       "      <td>S</td>\n",
       "      <td>1</td>\n",
       "    </tr>\n",
       "    <tr>\n",
       "      <th>806</th>\n",
       "      <td>807</td>\n",
       "      <td>0.0</td>\n",
       "      <td>1</td>\n",
       "      <td>Andrews, Mr. Thomas Jr</td>\n",
       "      <td>male</td>\n",
       "      <td>39.0</td>\n",
       "      <td>0</td>\n",
       "      <td>0</td>\n",
       "      <td>112050</td>\n",
       "      <td>0.0</td>\n",
       "      <td>A36</td>\n",
       "      <td>S</td>\n",
       "      <td>1</td>\n",
       "    </tr>\n",
       "    <tr>\n",
       "      <th>815</th>\n",
       "      <td>816</td>\n",
       "      <td>0.0</td>\n",
       "      <td>1</td>\n",
       "      <td>Fry, Mr. Richard</td>\n",
       "      <td>male</td>\n",
       "      <td>NaN</td>\n",
       "      <td>0</td>\n",
       "      <td>0</td>\n",
       "      <td>112058</td>\n",
       "      <td>0.0</td>\n",
       "      <td>B102</td>\n",
       "      <td>S</td>\n",
       "      <td>1</td>\n",
       "    </tr>\n",
       "    <tr>\n",
       "      <th>822</th>\n",
       "      <td>823</td>\n",
       "      <td>0.0</td>\n",
       "      <td>1</td>\n",
       "      <td>Reuchlin, Jonkheer. John George</td>\n",
       "      <td>male</td>\n",
       "      <td>38.0</td>\n",
       "      <td>0</td>\n",
       "      <td>0</td>\n",
       "      <td>19972</td>\n",
       "      <td>0.0</td>\n",
       "      <td>NaN</td>\n",
       "      <td>S</td>\n",
       "      <td>1</td>\n",
       "    </tr>\n",
       "    <tr>\n",
       "      <th>1157</th>\n",
       "      <td>1158</td>\n",
       "      <td>NaN</td>\n",
       "      <td>1</td>\n",
       "      <td>Chisholm, Mr. Roderick Robert Crispin</td>\n",
       "      <td>male</td>\n",
       "      <td>NaN</td>\n",
       "      <td>0</td>\n",
       "      <td>0</td>\n",
       "      <td>112051</td>\n",
       "      <td>0.0</td>\n",
       "      <td>NaN</td>\n",
       "      <td>S</td>\n",
       "      <td>0</td>\n",
       "    </tr>\n",
       "    <tr>\n",
       "      <th>1263</th>\n",
       "      <td>1264</td>\n",
       "      <td>NaN</td>\n",
       "      <td>1</td>\n",
       "      <td>Ismay, Mr. Joseph Bruce</td>\n",
       "      <td>male</td>\n",
       "      <td>49.0</td>\n",
       "      <td>0</td>\n",
       "      <td>0</td>\n",
       "      <td>112058</td>\n",
       "      <td>0.0</td>\n",
       "      <td>B52 B54 B56</td>\n",
       "      <td>S</td>\n",
       "      <td>0</td>\n",
       "    </tr>\n",
       "  </tbody>\n",
       "</table>\n",
       "</div>"
      ],
      "text/plain": [
       "      PassengerId  Survived  Pclass                                   Name  \\\n",
       "179           180       0.0       3                    Leonard, Mr. Lionel   \n",
       "263           264       0.0       1                  Harrison, Mr. William   \n",
       "271           272       1.0       3           Tornquist, Mr. William Henry   \n",
       "277           278       0.0       2            Parkes, Mr. Francis \"Frank\"   \n",
       "302           303       0.0       3        Johnson, Mr. William Cahoone Jr   \n",
       "413           414       0.0       2         Cunningham, Mr. Alfred Fleming   \n",
       "466           467       0.0       2                  Campbell, Mr. William   \n",
       "481           482       0.0       2       Frost, Mr. Anthony Wood \"Archie\"   \n",
       "597           598       0.0       3                    Johnson, Mr. Alfred   \n",
       "633           634       0.0       1          Parr, Mr. William Henry Marsh   \n",
       "674           675       0.0       2             Watson, Mr. Ennis Hastings   \n",
       "732           733       0.0       2                   Knight, Mr. Robert J   \n",
       "806           807       0.0       1                 Andrews, Mr. Thomas Jr   \n",
       "815           816       0.0       1                       Fry, Mr. Richard   \n",
       "822           823       0.0       1        Reuchlin, Jonkheer. John George   \n",
       "1157         1158       NaN       1  Chisholm, Mr. Roderick Robert Crispin   \n",
       "1263         1264       NaN       1                Ismay, Mr. Joseph Bruce   \n",
       "\n",
       "       Sex   Age  SibSp  Parch  Ticket  Fare        Cabin Embarked  Is_train  \n",
       "179   male  36.0      0      0    LINE   0.0          NaN        S         1  \n",
       "263   male  40.0      0      0  112059   0.0          B94        S         1  \n",
       "271   male  25.0      0      0    LINE   0.0          NaN        S         1  \n",
       "277   male   NaN      0      0  239853   0.0          NaN        S         1  \n",
       "302   male  19.0      0      0    LINE   0.0          NaN        S         1  \n",
       "413   male   NaN      0      0  239853   0.0          NaN        S         1  \n",
       "466   male   NaN      0      0  239853   0.0          NaN        S         1  \n",
       "481   male   NaN      0      0  239854   0.0          NaN        S         1  \n",
       "597   male  49.0      0      0    LINE   0.0          NaN        S         1  \n",
       "633   male   NaN      0      0  112052   0.0          NaN        S         1  \n",
       "674   male   NaN      0      0  239856   0.0          NaN        S         1  \n",
       "732   male   NaN      0      0  239855   0.0          NaN        S         1  \n",
       "806   male  39.0      0      0  112050   0.0          A36        S         1  \n",
       "815   male   NaN      0      0  112058   0.0         B102        S         1  \n",
       "822   male  38.0      0      0   19972   0.0          NaN        S         1  \n",
       "1157  male   NaN      0      0  112051   0.0          NaN        S         0  \n",
       "1263  male  49.0      0      0  112058   0.0  B52 B54 B56        S         0  "
      ]
     },
     "execution_count": 55,
     "metadata": {},
     "output_type": "execute_result"
    }
   ],
   "source": [
    "print('{} fare values are zero.'.format(np.sum(full_df.Fare==0)))\n",
    "full_df[full_df.Fare==0]"
   ]
  },
  {
   "cell_type": "markdown",
   "metadata": {},
   "source": [
    "**Finding & Analysis:**  \n",
    "The minimum fare is zero, involving 17 tickets.It may indicate free tickets or missing values.However, Tammy found the evidence about the complimentary ticket for John George( https://www.kaggle.com/c/titanic/discussion/10570). As not any evidence was found about the missing fare data marked as 0, I interpreted the value 0 as it is (meaning free ticket).\n",
    "\n",
    "No unusal numerical values have been found representing missing values."
   ]
  },
  {
   "cell_type": "markdown",
   "metadata": {},
   "source": [
    "**Conclusion:**   \n",
    "All the missing values are already null values. So no conversion is needed."
   ]
  },
  {
   "cell_type": "markdown",
   "metadata": {},
   "source": [
    "## Analyze the number and type of missing values in the data"
   ]
  },
  {
   "cell_type": "markdown",
   "metadata": {},
   "source": [
    "### Analyze the number and percentages of missing values"
   ]
  },
  {
   "cell_type": "code",
   "execution_count": 56,
   "metadata": {},
   "outputs": [
    {
     "data": {
      "text/html": [
       "<div>\n",
       "<style scoped>\n",
       "    .dataframe tbody tr th:only-of-type {\n",
       "        vertical-align: middle;\n",
       "    }\n",
       "\n",
       "    .dataframe tbody tr th {\n",
       "        vertical-align: top;\n",
       "    }\n",
       "\n",
       "    .dataframe thead th {\n",
       "        text-align: right;\n",
       "    }\n",
       "</style>\n",
       "<table border=\"1\" class=\"dataframe\">\n",
       "  <thead>\n",
       "    <tr style=\"text-align: right;\">\n",
       "      <th></th>\n",
       "      <th>Number</th>\n",
       "      <th>Percentage %</th>\n",
       "    </tr>\n",
       "  </thead>\n",
       "  <tbody>\n",
       "    <tr>\n",
       "      <th>PassengerId</th>\n",
       "      <td>0</td>\n",
       "      <td>0.0</td>\n",
       "    </tr>\n",
       "    <tr>\n",
       "      <th>Survived</th>\n",
       "      <td>418</td>\n",
       "      <td>32.0</td>\n",
       "    </tr>\n",
       "    <tr>\n",
       "      <th>Pclass</th>\n",
       "      <td>0</td>\n",
       "      <td>0.0</td>\n",
       "    </tr>\n",
       "    <tr>\n",
       "      <th>Name</th>\n",
       "      <td>0</td>\n",
       "      <td>0.0</td>\n",
       "    </tr>\n",
       "    <tr>\n",
       "      <th>Sex</th>\n",
       "      <td>0</td>\n",
       "      <td>0.0</td>\n",
       "    </tr>\n",
       "    <tr>\n",
       "      <th>Age</th>\n",
       "      <td>263</td>\n",
       "      <td>20.0</td>\n",
       "    </tr>\n",
       "    <tr>\n",
       "      <th>SibSp</th>\n",
       "      <td>0</td>\n",
       "      <td>0.0</td>\n",
       "    </tr>\n",
       "    <tr>\n",
       "      <th>Parch</th>\n",
       "      <td>0</td>\n",
       "      <td>0.0</td>\n",
       "    </tr>\n",
       "    <tr>\n",
       "      <th>Ticket</th>\n",
       "      <td>0</td>\n",
       "      <td>0.0</td>\n",
       "    </tr>\n",
       "    <tr>\n",
       "      <th>Fare</th>\n",
       "      <td>1</td>\n",
       "      <td>0.0</td>\n",
       "    </tr>\n",
       "    <tr>\n",
       "      <th>Cabin</th>\n",
       "      <td>1014</td>\n",
       "      <td>77.0</td>\n",
       "    </tr>\n",
       "    <tr>\n",
       "      <th>Embarked</th>\n",
       "      <td>2</td>\n",
       "      <td>0.0</td>\n",
       "    </tr>\n",
       "    <tr>\n",
       "      <th>Is_train</th>\n",
       "      <td>0</td>\n",
       "      <td>0.0</td>\n",
       "    </tr>\n",
       "  </tbody>\n",
       "</table>\n",
       "</div>"
      ],
      "text/plain": [
       "             Number  Percentage %\n",
       "PassengerId       0           0.0\n",
       "Survived        418          32.0\n",
       "Pclass            0           0.0\n",
       "Name              0           0.0\n",
       "Sex               0           0.0\n",
       "Age             263          20.0\n",
       "SibSp             0           0.0\n",
       "Parch             0           0.0\n",
       "Ticket            0           0.0\n",
       "Fare              1           0.0\n",
       "Cabin          1014          77.0\n",
       "Embarked          2           0.0\n",
       "Is_train          0           0.0"
      ]
     },
     "execution_count": 56,
     "metadata": {},
     "output_type": "execute_result"
    }
   ],
   "source": [
    "#number of missing values\n",
    "missingness = full_df.isnull().sum().to_frame(name='Number') \n",
    "\n",
    "#percentage of missing values\n",
    "missingness['Percentage %'] = round(missingness['Number']/len(full_df)*100)\n",
    "\n",
    "missingness"
   ]
  },
  {
   "cell_type": "markdown",
   "metadata": {},
   "source": [
    "**Finding:**  \n",
    "1014 (77%) Cabin values are missing.Very large proportion!  \n",
    "263 (20%) Age values are missing. Not small proportion.  \n",
    "1 Fare value and 2 Embarked values are missing. Very small proportions."
   ]
  },
  {
   "cell_type": "markdown",
   "metadata": {},
   "source": [
    "### Analyze the types of missingness (MCAR, MAR, MNAR)"
   ]
  },
  {
   "cell_type": "markdown",
   "metadata": {},
   "source": [
    "#### Look for patterns of missingness related with column values"
   ]
  },
  {
   "cell_type": "code",
   "execution_count": 57,
   "metadata": {},
   "outputs": [
    {
     "data": {
      "text/plain": [
       "['Age', 'Cabin', 'Embarked']"
      ]
     },
     "execution_count": 57,
     "metadata": {},
     "output_type": "execute_result"
    }
   ],
   "source": [
    "s = full_df[full_df.Is_train==1].isnull().any()\n",
    "cols_missing = s.where(s==True).dropna().index.to_list()\n",
    "cols_missing"
   ]
  },
  {
   "cell_type": "code",
   "execution_count": 58,
   "metadata": {},
   "outputs": [
    {
     "data": {
      "image/png": "[encoded data removed]",
      "text/plain": [
       "<Figure size 360x360 with 1 Axes>"
      ]
     },
     "metadata": {},
     "output_type": "display_data"
    }
   ],
   "source": [
    "#Check nullity matrix for the columns with missingness and the 'Survived' column\n",
    "train_sorted = full_df[full_df.Is_train==1].sort_values(by='Survived')\n",
    "cols_matrix = cols_missing.copy()\n",
    "cols_matrix.append('Survived')\n",
    "msno.matrix(train_sorted[cols_matrix], figsize=(5, 5), sparkline=False);"
   ]
  },
  {
   "cell_type": "code",
   "execution_count": 59,
   "metadata": {},
   "outputs": [],
   "source": [
    "def missingness_by_value(col1, col2, df=full_df):\n",
    "    \"\"\"\n",
    "    check the missingness (%) of a colomn varied by the values of another column\n",
    "    \n",
    "    Args:\n",
    "    col1 (str): the name of a column with missing values\n",
    "    col2 (str): the name of a column of which the values may affect the missingness of col1\n",
    "    df (pd.DataFrame) : the dataframe contains both col1 and col2\n",
    "    \"\"\"\n",
    "    for v in np.sort(df[col2].dropna().unique()):\n",
    "        missingness = df.loc[df[col2]==v, col1].isnull().mean()*100\n",
    "        print(\"Missingness percentage of {} when the value of {} equals {}: {}%\".format(col1, col2, v, round(missingness)))"
   ]
  },
  {
   "cell_type": "code",
   "execution_count": 60,
   "metadata": {},
   "outputs": [
    {
     "name": "stdout",
     "output_type": "stream",
     "text": [
      "Missingness percentage of Cabin when the value of Survived equals 0.0: 88.0%\n",
      "Missingness percentage of Cabin when the value of Survived equals 1.0: 60.0%\n"
     ]
    }
   ],
   "source": [
    "#check the missingness of 'Cabin' column varied by the values of 'Survived' column\n",
    "missingness_by_value('Cabin', 'Survived')"
   ]
  },
  {
   "cell_type": "code",
   "execution_count": 61,
   "metadata": {},
   "outputs": [
    {
     "name": "stdout",
     "output_type": "stream",
     "text": [
      "Missingness percentage of Age when the value of Survived equals 0.0: 23.0%\n",
      "Missingness percentage of Age when the value of Survived equals 1.0: 15.0%\n"
     ]
    }
   ],
   "source": [
    "missingness_by_value('Age', 'Survived')"
   ]
  },
  {
   "cell_type": "markdown",
   "metadata": {},
   "source": [
    "**Finding & Analysis:**  \n",
    "The missing values are shown as white lines in the msno matrix.  \n",
    "\n",
    "In the matrix, the upper part of the 'Cabin' column  is whiter than its lower part, indicating that more missing values of 'Cabin' are found for the victims than for the survivors.It's confirmed by checking the missing percentages for the survivors and the victims. So the missingness of 'Cabin' column can not be categorized as 'MCAR'.\n",
    "\n",
    "The 'Age' column is the same as 'Cabin' so its missingness can not be categorized as 'MCAR' either.   \n",
    "\n",
    "Even though the two missing values of 'Embarked' are all for the survivors, considering the very few missing values (only 2), it doesn't necessarily mean the strong relationship between the 'Survived' variable and the missingness of 'Embarked'. Since only a couple of 'Embarked' values are missing, its missingness can be categorized as 'MCAR'.\n",
    "\n",
    "Only one 'Fare' value is missing. Its missingness can be categorized as 'MCAR'."
   ]
  },
  {
   "cell_type": "code",
   "execution_count": 62,
   "metadata": {},
   "outputs": [
    {
     "name": "stdout",
     "output_type": "stream",
     "text": [
      "Nullity matrix for data sorted by column 'PassengerId'\n"
     ]
    },
    {
     "data": {
      "image/png": "[encoded data removed]",
      "text/plain": [
       "<Figure size 360x360 with 1 Axes>"
      ]
     },
     "metadata": {},
     "output_type": "display_data"
    },
    {
     "name": "stdout",
     "output_type": "stream",
     "text": [
      "Nullity matrix for data sorted by column 'Pclass'\n"
     ]
    },
    {
     "data": {
      "image/png": "[encoded data removed]",
      "text/plain": [
       "<Figure size 360x360 with 1 Axes>"
      ]
     },
     "metadata": {},
     "output_type": "display_data"
    },
    {
     "name": "stdout",
     "output_type": "stream",
     "text": [
      "Nullity matrix for data sorted by column 'Name'\n"
     ]
    },
    {
     "data": {
      "image/png": "[encoded data removed]",
      "text/plain": [
       "<Figure size 360x360 with 1 Axes>"
      ]
     },
     "metadata": {},
     "output_type": "display_data"
    },
    {
     "name": "stdout",
     "output_type": "stream",
     "text": [
      "Nullity matrix for data sorted by column 'Sex'\n"
     ]
    },
    {
     "data": {
      "image/png": "[encoded data removed]",
      "text/plain": [
       "<Figure size 360x360 with 1 Axes>"
      ]
     },
     "metadata": {},
     "output_type": "display_data"
    },
    {
     "name": "stdout",
     "output_type": "stream",
     "text": [
      "Nullity matrix for data sorted by column 'Age'\n"
     ]
    },
    {
     "data": {
      "image/png": "[encoded data removed]",
      "text/plain": [
       "<Figure size 360x360 with 1 Axes>"
      ]
     },
     "metadata": {},
     "output_type": "display_data"
    },
    {
     "name": "stdout",
     "output_type": "stream",
     "text": [
      "Nullity matrix for data sorted by column 'SibSp'\n"
     ]
    },
    {
     "data": {
      "image/png": "[encoded data removed]",
      "text/plain": [
       "<Figure size 360x360 with 1 Axes>"
      ]
     },
     "metadata": {},
     "output_type": "display_data"
    },
    {
     "name": "stdout",
     "output_type": "stream",
     "text": [
      "Nullity matrix for data sorted by column 'Parch'\n"
     ]
    },
    {
     "data": {
      "image/png": "[encoded data removed]",
      "text/plain": [
       "<Figure size 360x360 with 1 Axes>"
      ]
     },
     "metadata": {},
     "output_type": "display_data"
    },
    {
     "name": "stdout",
     "output_type": "stream",
     "text": [
      "Nullity matrix for data sorted by column 'Ticket'\n"
     ]
    },
    {
     "data": {
      "image/png": "[encoded data removed]",
      "text/plain": [
       "<Figure size 360x360 with 1 Axes>"
      ]
     },
     "metadata": {},
     "output_type": "display_data"
    },
    {
     "name": "stdout",
     "output_type": "stream",
     "text": [
      "Nullity matrix for data sorted by column 'Fare'\n"
     ]
    },
    {
     "data": {
      "image/png": "[encoded data removed]",
      "text/plain": [
       "<Figure size 360x360 with 1 Axes>"
      ]
     },
     "metadata": {},
     "output_type": "display_data"
    },
    {
     "name": "stdout",
     "output_type": "stream",
     "text": [
      "Nullity matrix for data sorted by column 'Cabin'\n"
     ]
    },
    {
     "data": {
      "image/png": "[encoded data removed]",
      "text/plain": [
       "<Figure size 360x360 with 1 Axes>"
      ]
     },
     "metadata": {},
     "output_type": "display_data"
    },
    {
     "name": "stdout",
     "output_type": "stream",
     "text": [
      "Nullity matrix for data sorted by column 'Embarked'\n"
     ]
    },
    {
     "data": {
      "image/png": "[encoded data removed]",
      "text/plain": [
       "<Figure size 360x360 with 1 Axes>"
      ]
     },
     "metadata": {},
     "output_type": "display_data"
    },
    {
     "name": "stdout",
     "output_type": "stream",
     "text": [
      "Nullity matrix for data sorted by column 'Is_train'\n"
     ]
    },
    {
     "data": {
      "image/png": "[encoded data removed]",
      "text/plain": [
       "<Figure size 360x360 with 1 Axes>"
      ]
     },
     "metadata": {},
     "output_type": "display_data"
    }
   ],
   "source": [
    "#check if the variables' values affect the missingness of 'Cabin' or 'Age'\n",
    "for c in full_df.columns:\n",
    "    if c=='Survived':\n",
    "        continue\n",
    "    full_df_sorted = full_df.sort_values(by=c)\n",
    "    cols_matrix = ['Cabin', 'Age']\n",
    "    cols_matrix.append(c)\n",
    "    print(\"Nullity matrix for data sorted by column '{}'\".format(c))\n",
    "    msno.matrix(full_df_sorted[cols_matrix], figsize=(5, 5), sparkline=False)\n",
    "    plt.show()"
   ]
  },
  {
   "cell_type": "code",
   "execution_count": 63,
   "metadata": {},
   "outputs": [
    {
     "name": "stdout",
     "output_type": "stream",
     "text": [
      "Missingness percentage of Cabin when the value of Pclass equals 1: 21.0%\n",
      "Missingness percentage of Cabin when the value of Pclass equals 2: 92.0%\n",
      "Missingness percentage of Cabin when the value of Pclass equals 3: 98.0%\n"
     ]
    }
   ],
   "source": [
    "missingness_by_value('Cabin', 'Pclass')"
   ]
  },
  {
   "cell_type": "code",
   "execution_count": 64,
   "metadata": {},
   "outputs": [
    {
     "name": "stdout",
     "output_type": "stream",
     "text": [
      "Missingness percentage of Age when the value of Pclass equals 1: 12.0%\n",
      "Missingness percentage of Age when the value of Pclass equals 2: 6.0%\n",
      "Missingness percentage of Age when the value of Pclass equals 3: 29.0%\n"
     ]
    }
   ],
   "source": [
    "missingness_by_value('Age', 'Pclass')"
   ]
  },
  {
   "cell_type": "code",
   "execution_count": 65,
   "metadata": {},
   "outputs": [
    {
     "data": {
      "text/plain": [
       "array(['110152', '110413', '110465', '110469', '110489', '110564',\n",
       "       '110813', '111163', '111240', '111320', '111361', '111369',\n",
       "       '111426', '111427', '111428', '112050', '112051', '112052',\n",
       "       '112053', '112058', '112059', '112277', '112377', '112378',\n",
       "       '112379', '112901', '113028', '113038', '113043', '113044',\n",
       "       '113050', '113051', '113054', '113055', '113056', '113059',\n",
       "       '113501', '113503', '113505', '113509', '113510', '113514',\n",
       "       '113572', '113760', '113767', '113773', '113776', '113778',\n",
       "       '113780', '113781', '113783', '113784', '113786', '113787',\n",
       "       '113788', '113789', '113790', '113791', '113792', '113794',\n",
       "       '113795', '113796', '113798', '113800', '113801', '113803',\n",
       "       '113804', '113806', '113807', '11668', '11751', '11752', '11753',\n",
       "       '11755', '11765', '11767', '11769', '11770', '11771', '11774',\n",
       "       '11778', '11813', '11967', '1222', '12233', '12460', '12749',\n",
       "       '13049', '13050', '13213', '13214', '13236', '13502', '13507',\n",
       "       '13508', '13509', '13567', '13568', '13695', '13905', '14311',\n",
       "       '14312', '14313', '14973', '1601', '16966', '16988', '17421',\n",
       "       '17453', '17463', '17464', '17465', '17466', '17474', '17475',\n",
       "       '17764', '17765', '17770', '19877', '19924', '19928', '19943',\n",
       "       '19947', '19950', '19952', '19972', '19988', '19996', '2003',\n",
       "       '211535', '211536', '21228', '21332', '21440', '218629', '219533',\n",
       "       '220367', '220844', '220845', '2223', '223596', '226593', '226875',\n",
       "       '228414', '229236', '230080', '230136', '230433', '230434',\n",
       "       '231919', '231945', '233478', '233639', '233734', '233866',\n",
       "       '234360', '234604', '234686', '234818', '235509', '236171',\n",
       "       '236852', '236853', '236854', '237216', '237249', '237393',\n",
       "       '237442', '237565', '237668', '237670', '237671', '237734',\n",
       "       '237735', '237736', '237789', '237798', '239059', '239853',\n",
       "       '239854', '239855', '239856', '239865', '240261', '240276',\n",
       "       '24065', '240929', '24160', '242963', '243847', '243880', '244252',\n",
       "       '244270', '244278', '244310', '244346', '244358', '244360',\n",
       "       '244361', '244367', '244368', '244373', '248659', '248698',\n",
       "       '248706', '248723', '248726', '248727', '248731', '248733',\n",
       "       '248734', '248738', '248740', '248744', '248746', '248747',\n",
       "       '250643', '250644', '250646', '250647', '250648', '250649',\n",
       "       '250650', '250651', '250652', '250653', '250655', '2543', '2620',\n",
       "       '2621', '2622', '2623', '2624', '2625', '2626', '2627', '2628',\n",
       "       '2629', '2631', '26360', '2641', '2647', '2648', '2649', '2650',\n",
       "       '2651', '2652', '2653', '2654', '2655', '2656', '2657', '2658',\n",
       "       '2659', '2660', '2661', '2662', '2663', '2664', '2665', '2666',\n",
       "       '2667', '2668', '2669', '2670', '26707', '2671', '2672', '2673',\n",
       "       '2674', '2675', '2676', '2677', '2678', '2679', '2680', '2681',\n",
       "       '2682', '2683', '2684', '2685', '2686', '2687', '2688', '2689',\n",
       "       '2690', '2691', '2692', '2693', '2694', '2695', '2696', '2697',\n",
       "       '2698', '2699', '2700', '27042', '27267', '27849', '28004',\n",
       "       '28034', '28133', '28134', '28206', '28213', '28220', '28221',\n",
       "       '28228', '28403', '28404', '28424', '28425', '28551', '28664',\n",
       "       '28665', '28666', '29011', '2908', '29103', '29104', '29105',\n",
       "       '29106', '29107', '29108', '2926', '29750', '29751', '3101264',\n",
       "       '3101265', '3101266', '3101267', '3101276', '3101277', '3101278',\n",
       "       '3101281', '3101295', '3101296', '3101297', '3101298', '31027',\n",
       "       '31028', '312991', '312992', '312993', '31418', '315037', '315082',\n",
       "       '315083', '315084', '315085', '315086', '315087', '315088',\n",
       "       '315089', '315090', '315091', '315092', '315093', '315094',\n",
       "       '315095', '315096', '315097', '315098', '315151', '315152',\n",
       "       '315153', '315154', '32302', '323592', '323951', '324669',\n",
       "       '329944', '330844', '330877', '330909', '330910', '330911',\n",
       "       '330919', '330920', '330923', '330924', '330931', '330932',\n",
       "       '330935', '330958', '330959', '330963', '330968', '330971',\n",
       "       '330972', '330979', '330980', '334912', '334914', '334915',\n",
       "       '335097', '335432', '335677', '33638', '336439', '3410', '3411',\n",
       "       '341826', '34218', '342441', '342684', '342712', '342826',\n",
       "       '343095', '343120', '343271', '343275', '343276', '345364',\n",
       "       '345498', '345501', '345572', '345763', '345764', '345765',\n",
       "       '345767', '345768', '345769', '345770', '345771', '345773',\n",
       "       '345774', '345775', '345777', '345778', '345779', '345780',\n",
       "       '345781', '345783', '3460', '3470', '347054', '347060', '347061',\n",
       "       '347062', '347063', '347064', '347065', '347066', '347067',\n",
       "       '347068', '347069', '347070', '347071', '347072', '347073',\n",
       "       '347074', '347075', '347076', '347077', '347078', '347079',\n",
       "       '347080', '347081', '347082', '347083', '347085', '347086',\n",
       "       '347087', '347088', '347089', '347090', '347091', '3474', '347464',\n",
       "       '347465', '347466', '347467', '347468', '347469', '347470',\n",
       "       '347471', '347742', '347743', '348121', '348122', '348123',\n",
       "       '348124', '348125', '349201', '349202', '349203', '349204',\n",
       "       '349205', '349206', '349207', '349208', '349209', '349210',\n",
       "       '349211', '349212', '349213', '349214', '349215', '349216',\n",
       "       '349217', '349218', '349219', '349220', '349221', '349222',\n",
       "       '349223', '349224', '349225', '349226', '349227', '349228',\n",
       "       '349229', '349230', '349231', '349232', '349233', '349234',\n",
       "       '349235', '349236', '349237', '349238', '349239', '349240',\n",
       "       '349241', '349242', '349243', '349244', '349245', '349246',\n",
       "       '349247', '349248', '349249', '349250', '349251', '349252',\n",
       "       '349253', '349254', '349255', '349256', '349257', '349909',\n",
       "       '349910', '349911', '349912', '350025', '350026', '350029',\n",
       "       '350033', '350034', '350035', '350036', '350042', '350043',\n",
       "       '350045', '350046', '350047', '350048', '350050', '350052',\n",
       "       '350053', '350054', '350060', '350403', '350404', '350405',\n",
       "       '350406', '350407', '350408', '350409', '350410', '350416',\n",
       "       '350417', '35273', '35281', '35851', '35852', '358585', '359306',\n",
       "       '359309', '36209', '362316', '363272', '363291', '363294',\n",
       "       '363592', '363611', '364498', '364499', '364500', '364506',\n",
       "       '364511', '364512', '364516', '364846', '364848', '364849',\n",
       "       '364850', '364851', '364856', '364858', '364859', '365222',\n",
       "       '365226', '365235', '365237', '36568', '366713', '367226',\n",
       "       '367227', '367228', '367229', '367230', '367231', '367232',\n",
       "       '367655', '368323', '368364', '368402', '368573', '36864', '36865',\n",
       "       '36866', '368702', '368703', '368783', '36928', '36947', '36963',\n",
       "       '36967', '36973', '3701', '370129', '370365', '370368', '370369',\n",
       "       '370370', '370371', '370372', '370373', '370374', '370375',\n",
       "       '370376', '370377', '371060', '371109', '371110', '371362',\n",
       "       '372622', '373450', '374746', '374887', '374910', '376563',\n",
       "       '376564', '376566', '382649', '382650', '382651', '382652',\n",
       "       '382653', '383121', '383123', '383162', '384461', '386525',\n",
       "       '392091', '392092', '392095', '392096', '394140', '4133', '4134',\n",
       "       '4135', '4136', '4137', '4138', '4579', '54636', '5727', '65303',\n",
       "       '65304', '65305', '65306', '6563', '680', '693', '694', '695',\n",
       "       '7266', '7267', '7534', '7538', '7540', '7545', '7546', '7548',\n",
       "       '7552', '7553', '7598', '7935', '8471', '8475', '9232', '9234',\n",
       "       'A. 2. 39186', 'A./5. 2152', 'A./5. 3235', 'A./5. 3338',\n",
       "       'A.5. 11206', 'A.5. 18509', 'A.5. 3236', 'A/4 31416', 'A/4 45380',\n",
       "       'A/4 48871', 'A/4 48873', 'A/4. 20589', 'A/4. 34244', 'A/4. 39886',\n",
       "       'A/5 1478', 'A/5 21171', 'A/5 21172', 'A/5 21173', 'A/5 21174',\n",
       "       'A/5 21175', 'A/5 2466', 'A/5 2817', 'A/5 3536', 'A/5 3540',\n",
       "       'A/5 3594', 'A/5 3902', 'A/5. 10482', 'A/5. 13032', 'A/5. 2151',\n",
       "       'A/5. 3336', 'A/5. 3337', 'A/5. 851', 'A/S 2816', 'A4. 54510',\n",
       "       'AQ/3. 30631', 'AQ/4 3130', 'C 17368', 'C 17369', 'C 4001',\n",
       "       'C 7075', 'C 7076', 'C 7077', 'C.A. 15185', 'C.A. 17248',\n",
       "       'C.A. 18723', 'C.A. 2315', 'C.A. 24579', 'C.A. 24580', 'C.A. 2673',\n",
       "       'C.A. 29178', 'C.A. 29395', 'C.A. 29566', 'C.A. 30769',\n",
       "       'C.A. 31026', 'C.A. 31029', 'C.A. 31030', 'C.A. 31921',\n",
       "       'C.A. 33111', 'C.A. 33112', 'C.A. 33595', 'C.A. 34050',\n",
       "       'C.A. 34260', 'C.A. 34644', 'C.A. 34651', 'C.A. 37671',\n",
       "       'C.A. 42795', 'C.A. 49867', 'C.A. 5547', 'C.A. 6212',\n",
       "       'C.A./SOTON 34068', 'CA 2144', 'CA 31352', 'CA. 2314', 'CA. 2343',\n",
       "       'F.C. 12750', 'F.C. 12998', 'F.C.C. 13528', 'F.C.C. 13529',\n",
       "       'F.C.C. 13531', 'F.C.C. 13534', 'F.C.C. 13540', 'Fa 265302',\n",
       "       'LINE', 'LP 1588', 'P/PP 3381', 'PC 17318', 'PC 17473', 'PC 17474',\n",
       "       'PC 17475', 'PC 17476', 'PC 17477', 'PC 17482', 'PC 17483',\n",
       "       'PC 17485', 'PC 17531', 'PC 17558', 'PC 17562', 'PC 17569',\n",
       "       'PC 17572', 'PC 17580', 'PC 17582', 'PC 17585', 'PC 17590',\n",
       "       'PC 17591', 'PC 17592', 'PC 17593', 'PC 17594', 'PC 17595',\n",
       "       'PC 17596', 'PC 17597', 'PC 17598', 'PC 17599', 'PC 17600',\n",
       "       'PC 17601', 'PC 17603', 'PC 17604', 'PC 17605', 'PC 17606',\n",
       "       'PC 17607', 'PC 17608', 'PC 17609', 'PC 17610', 'PC 17611',\n",
       "       'PC 17612', 'PC 17613', 'PC 17754', 'PC 17755', 'PC 17756',\n",
       "       'PC 17757', 'PC 17758', 'PC 17759', 'PC 17760', 'PC 17761',\n",
       "       'PP 4348', 'PP 9549', 'S.C./A.4. 23567', 'S.C./PARIS 2079',\n",
       "       'S.O./P.P. 2', 'S.O./P.P. 251', 'S.O./P.P. 3', 'S.O./P.P. 751',\n",
       "       'S.O./P.P. 752', 'S.O.C. 14879', 'S.O.P. 1166', 'S.P. 3464',\n",
       "       'S.W./PP 752', 'SC 14888', 'SC 1748', 'SC/A.3 2861', 'SC/A4 23568',\n",
       "       'SC/AH 29037', 'SC/AH 3085', 'SC/AH Basle 541', 'SC/PARIS 2131',\n",
       "       'SC/PARIS 2133', 'SC/PARIS 2146', 'SC/PARIS 2147', 'SC/PARIS 2148',\n",
       "       'SC/PARIS 2149', 'SC/PARIS 2159', 'SC/PARIS 2166', 'SC/PARIS 2167',\n",
       "       'SC/PARIS 2168', 'SC/Paris 2123', 'SC/Paris 2163', 'SCO/W 1585',\n",
       "       'SO/C 14885', 'SOTON/O.Q. 3101262', 'SOTON/O.Q. 3101263',\n",
       "       'SOTON/O.Q. 3101305', 'SOTON/O.Q. 3101306', 'SOTON/O.Q. 3101307',\n",
       "       'SOTON/O.Q. 3101308', 'SOTON/O.Q. 3101309', 'SOTON/O.Q. 3101310',\n",
       "       'SOTON/O.Q. 3101311', 'SOTON/O.Q. 3101312', 'SOTON/O.Q. 3101314',\n",
       "       'SOTON/O.Q. 3101315', 'SOTON/O.Q. 392078', 'SOTON/O.Q. 392087',\n",
       "       'SOTON/O2 3101272', 'SOTON/O2 3101284', 'SOTON/O2 3101287',\n",
       "       'SOTON/OQ 3101316', 'SOTON/OQ 3101317', 'SOTON/OQ 392076',\n",
       "       'SOTON/OQ 392082', 'SOTON/OQ 392083', 'SOTON/OQ 392086',\n",
       "       'SOTON/OQ 392089', 'SOTON/OQ 392090', 'STON/O 2. 3101268',\n",
       "       'STON/O 2. 3101269', 'STON/O 2. 3101273', 'STON/O 2. 3101274',\n",
       "       'STON/O 2. 3101275', 'STON/O 2. 3101280', 'STON/O 2. 3101285',\n",
       "       'STON/O 2. 3101286', 'STON/O 2. 3101288', 'STON/O 2. 3101289',\n",
       "       'STON/O 2. 3101291', 'STON/O 2. 3101292', 'STON/O 2. 3101293',\n",
       "       'STON/O 2. 3101294', 'STON/O2. 3101270', 'STON/O2. 3101271',\n",
       "       'STON/O2. 3101279', 'STON/O2. 3101282', 'STON/O2. 3101283',\n",
       "       'STON/O2. 3101290', 'STON/OQ. 369943', 'SW/PP 751', 'W./C. 14258',\n",
       "       'W./C. 14260', 'W./C. 14263', 'W./C. 14266', 'W./C. 6607',\n",
       "       'W./C. 6608', 'W./C. 6609', 'W.E.P. 5734', 'W/C 14208',\n",
       "       'WE/P 5735'], dtype=object)"
      ]
     },
     "execution_count": 65,
     "metadata": {},
     "output_type": "execute_result"
    }
   ],
   "source": [
    "np.sort(full_df['Ticket'].unique())"
   ]
  },
  {
   "cell_type": "code",
   "execution_count": 66,
   "metadata": {},
   "outputs": [
    {
     "name": "stdout",
     "output_type": "stream",
     "text": [
      "Missingness percentage of Cabin when the value of Pure_Digit_Ticket equals False: 76.0%\n",
      "Missingness percentage of Cabin when the value of Pure_Digit_Ticket equals True: 78.0%\n"
     ]
    }
   ],
   "source": [
    "full_df['Pure_Digit_Ticket'] = full_df['Ticket'].apply(str.isdigit)\n",
    "missingness_by_value('Cabin', 'Pure_Digit_Ticket', full_df)"
   ]
  },
  {
   "cell_type": "code",
   "execution_count": 67,
   "metadata": {},
   "outputs": [
    {
     "data": {
      "text/plain": [
       "array(['Abbing, Mr. Anthony', 'Abbott, Master. Eugene Joseph',\n",
       "       'Abbott, Mr. Rossmore Edward', ...,\n",
       "       'van Billiard, Master. Walter John',\n",
       "       'van Billiard, Mr. Austin Blyler', 'van Melkebeke, Mr. Philemon'],\n",
       "      dtype=object)"
      ]
     },
     "execution_count": 67,
     "metadata": {},
     "output_type": "execute_result"
    }
   ],
   "source": [
    "np.sort(full_df['Name'].unique())"
   ]
  },
  {
   "cell_type": "code",
   "execution_count": 68,
   "metadata": {},
   "outputs": [
    {
     "name": "stdout",
     "output_type": "stream",
     "text": [
      "Missingness percentage of Age when the value of Embarked equals C: 21.0%\n",
      "Missingness percentage of Age when the value of Embarked equals Q: 59.0%\n",
      "Missingness percentage of Age when the value of Embarked equals S: 14.0%\n"
     ]
    }
   ],
   "source": [
    "missingness_by_value('Age', 'Embarked')"
   ]
  },
  {
   "cell_type": "markdown",
   "metadata": {},
   "source": [
    "**Finding & Analysis:**  \n",
    "According to the matrices, there are fewer missing values of 'Cabin' at smaller value of 'Pclass' and 'Ticket'. \n",
    "With the calculation of 'Cabin' missingness, the percentageis 21% for Pclass 1, 92% for Pclass 2, 98% for Pclass 3.   \n",
    "Most tickets are unique, the pure-digit values are smaller than the rest. After separating them into two groups, their missingness were calculated respectively and their results are the same.It will take further investigation to identify what ticket groups have fewer missingness.\n",
    "\n",
    "According to the webpage (https://www.encyclopedia-titanica.org/cabins.html), 'The allocation of cabins on the Titanic is a source of continuing interest and endless speculation. Apart from the recollections of survivors and a few tickets and boarding cards, the only authoritative source of cabin data is the incomplete first class passenger list recovered with the body of steward Herbert Cave.'. It's consistent with my finding from the data analysis. So there are fewer missing values of 'Cabin'for Pclass 1 and the survivors.\n",
    "\n",
    "Besides, the matrices also show that there are fewer missing values of 'Age' at smaller value of 'Name' and 'Pclass' and bigger value of 'Embarked'.\n",
    "Based on the calculation, the missingness of 'Age' is 64% for Embarked Q, much higher than for Embarkek C or S (23%, 14%). 12% for Pclass1, 6% for Pclass2, 29% for Pclass3.   \n",
    "Each name values are unique. It will take further investigation to identify what name groups have more missingness."
   ]
  },
  {
   "cell_type": "markdown",
   "metadata": {},
   "source": [
    "#### Check the dependency of missingness between columns ('Cabin', 'Age')"
   ]
  },
  {
   "cell_type": "code",
   "execution_count": 69,
   "metadata": {},
   "outputs": [
    {
     "data": {
      "image/png": "[encoded data removed]",
      "text/plain": [
       "<Figure size 360x360 with 2 Axes>"
      ]
     },
     "metadata": {},
     "output_type": "display_data"
    }
   ],
   "source": [
    "msno.heatmap(full_df[['Age', 'Cabin']], figsize=(5,5));"
   ]
  },
  {
   "cell_type": "markdown",
   "metadata": {},
   "source": [
    "**Finding:**   \n",
    "The dependency of missingness between 'Cabin' and 'Age' is low."
   ]
  },
  {
   "cell_type": "markdown",
   "metadata": {},
   "source": [
    "**Conclusion:**   \n",
    "\n",
    "Since 'Fare' and 'Embarked' have only one or two missing values, they can be categorized as MCAR (missing completely at random).\n",
    "\n",
    "'Cabin' has 77% missing values. Its missingness varies with 'Survived' and 'Pclass' variables. So it's categorized as MAR (missing at random).\n",
    "\n",
    "'Age' has 20% missing values. Its missingness varies with 'Survived', 'Pclass', 'Embarked'. So it's also categorized as MAR."
   ]
  },
  {
   "cell_type": "markdown",
   "metadata": {},
   "source": [
    "## Delete or impute missing values\n",
    "\n",
    "For small number of MCAR missin values, like 'Fare' and 'Embarked', either deletion or imputation is workable.\n",
    "\n",
    "For large number of missingness values, like 'Cabin', the variable can be dropped."
   ]
  },
  {
   "cell_type": "markdown",
   "metadata": {},
   "source": [
    "### For 'Fare'"
   ]
  },
  {
   "cell_type": "code",
   "execution_count": 70,
   "metadata": {},
   "outputs": [
    {
     "data": {
      "text/html": [
       "<div>\n",
       "<style scoped>\n",
       "    .dataframe tbody tr th:only-of-type {\n",
       "        vertical-align: middle;\n",
       "    }\n",
       "\n",
       "    .dataframe tbody tr th {\n",
       "        vertical-align: top;\n",
       "    }\n",
       "\n",
       "    .dataframe thead th {\n",
       "        text-align: right;\n",
       "    }\n",
       "</style>\n",
       "<table border=\"1\" class=\"dataframe\">\n",
       "  <thead>\n",
       "    <tr style=\"text-align: right;\">\n",
       "      <th></th>\n",
       "      <th>PassengerId</th>\n",
       "      <th>Survived</th>\n",
       "      <th>Pclass</th>\n",
       "      <th>Name</th>\n",
       "      <th>Sex</th>\n",
       "      <th>Age</th>\n",
       "      <th>SibSp</th>\n",
       "      <th>Parch</th>\n",
       "      <th>Ticket</th>\n",
       "      <th>Fare</th>\n",
       "      <th>Cabin</th>\n",
       "      <th>Embarked</th>\n",
       "      <th>Is_train</th>\n",
       "      <th>Pure_Digit_Ticket</th>\n",
       "    </tr>\n",
       "  </thead>\n",
       "  <tbody>\n",
       "    <tr>\n",
       "      <th>1043</th>\n",
       "      <td>1044</td>\n",
       "      <td>NaN</td>\n",
       "      <td>3</td>\n",
       "      <td>Storey, Mr. Thomas</td>\n",
       "      <td>male</td>\n",
       "      <td>60.5</td>\n",
       "      <td>0</td>\n",
       "      <td>0</td>\n",
       "      <td>3701</td>\n",
       "      <td>NaN</td>\n",
       "      <td>NaN</td>\n",
       "      <td>S</td>\n",
       "      <td>0</td>\n",
       "      <td>True</td>\n",
       "    </tr>\n",
       "  </tbody>\n",
       "</table>\n",
       "</div>"
      ],
      "text/plain": [
       "      PassengerId  Survived  Pclass                Name   Sex   Age  SibSp  \\\n",
       "1043         1044       NaN       3  Storey, Mr. Thomas  male  60.5      0   \n",
       "\n",
       "      Parch Ticket  Fare Cabin Embarked  Is_train  Pure_Digit_Ticket  \n",
       "1043      0   3701   NaN   NaN        S         0               True  "
      ]
     },
     "execution_count": 70,
     "metadata": {},
     "output_type": "execute_result"
    }
   ],
   "source": [
    "#display the record with missing fare value\n",
    "full_df.loc[full_df.Fare.isnull()]"
   ]
  },
  {
   "cell_type": "markdown",
   "metadata": {},
   "source": [
    "**Finding:**   \n",
    "The record is in the test data set. So the fare value has to be imputed.   \n",
    "In the [notebook](https://www.kaggle.com/bofangli/make-fare-crystal-clear-fare-sharing-zero-fare?scriptVersionId=47733767), it's found that the records of the same ticket number share the same fare value.   \n",
    "So if there's any other record of '3701', it should have the same fare value."
   ]
  },
  {
   "cell_type": "code",
   "execution_count": 71,
   "metadata": {},
   "outputs": [
    {
     "data": {
      "text/html": [
       "<div>\n",
       "<style scoped>\n",
       "    .dataframe tbody tr th:only-of-type {\n",
       "        vertical-align: middle;\n",
       "    }\n",
       "\n",
       "    .dataframe tbody tr th {\n",
       "        vertical-align: top;\n",
       "    }\n",
       "\n",
       "    .dataframe thead th {\n",
       "        text-align: right;\n",
       "    }\n",
       "</style>\n",
       "<table border=\"1\" class=\"dataframe\">\n",
       "  <thead>\n",
       "    <tr style=\"text-align: right;\">\n",
       "      <th></th>\n",
       "      <th>PassengerId</th>\n",
       "      <th>Survived</th>\n",
       "      <th>Pclass</th>\n",
       "      <th>Name</th>\n",
       "      <th>Sex</th>\n",
       "      <th>Age</th>\n",
       "      <th>SibSp</th>\n",
       "      <th>Parch</th>\n",
       "      <th>Ticket</th>\n",
       "      <th>Fare</th>\n",
       "      <th>Cabin</th>\n",
       "      <th>Embarked</th>\n",
       "      <th>Is_train</th>\n",
       "      <th>Pure_Digit_Ticket</th>\n",
       "    </tr>\n",
       "  </thead>\n",
       "  <tbody>\n",
       "    <tr>\n",
       "      <th>1043</th>\n",
       "      <td>1044</td>\n",
       "      <td>NaN</td>\n",
       "      <td>3</td>\n",
       "      <td>Storey, Mr. Thomas</td>\n",
       "      <td>male</td>\n",
       "      <td>60.5</td>\n",
       "      <td>0</td>\n",
       "      <td>0</td>\n",
       "      <td>3701</td>\n",
       "      <td>NaN</td>\n",
       "      <td>NaN</td>\n",
       "      <td>S</td>\n",
       "      <td>0</td>\n",
       "      <td>True</td>\n",
       "    </tr>\n",
       "  </tbody>\n",
       "</table>\n",
       "</div>"
      ],
      "text/plain": [
       "      PassengerId  Survived  Pclass                Name   Sex   Age  SibSp  \\\n",
       "1043         1044       NaN       3  Storey, Mr. Thomas  male  60.5      0   \n",
       "\n",
       "      Parch Ticket  Fare Cabin Embarked  Is_train  Pure_Digit_Ticket  \n",
       "1043      0   3701   NaN   NaN        S         0               True  "
      ]
     },
     "execution_count": 71,
     "metadata": {},
     "output_type": "execute_result"
    }
   ],
   "source": [
    "#check if there is any other record with the same ticket number\n",
    "full_df[full_df.Ticket=='3701']"
   ]
  },
  {
   "cell_type": "markdown",
   "metadata": {},
   "source": [
    "**Finding:**   \n",
    "No other record is found of '3701' ticket.  \n",
    "As the fare is strongly correlated with the pclass and the fare increases with the ticket group size, the missing fare value can be filled with the median fare value (7.8292, refered in the [notebook](https://www.kaggle.com/bofangli/make-fare-crystal-clear-fare-sharing-zero-fare?scriptVersionId=47733767)) of the samples which share the same pclass and ticket group size (pclass=3, ticket group size=1)."
   ]
  },
  {
   "cell_type": "code",
   "execution_count": 72,
   "metadata": {},
   "outputs": [
    {
     "data": {
      "text/html": [
       "<div>\n",
       "<style scoped>\n",
       "    .dataframe tbody tr th:only-of-type {\n",
       "        vertical-align: middle;\n",
       "    }\n",
       "\n",
       "    .dataframe tbody tr th {\n",
       "        vertical-align: top;\n",
       "    }\n",
       "\n",
       "    .dataframe thead th {\n",
       "        text-align: right;\n",
       "    }\n",
       "</style>\n",
       "<table border=\"1\" class=\"dataframe\">\n",
       "  <thead>\n",
       "    <tr style=\"text-align: right;\">\n",
       "      <th></th>\n",
       "      <th>PassengerId</th>\n",
       "      <th>Survived</th>\n",
       "      <th>Pclass</th>\n",
       "      <th>Name</th>\n",
       "      <th>Sex</th>\n",
       "      <th>Age</th>\n",
       "      <th>SibSp</th>\n",
       "      <th>Parch</th>\n",
       "      <th>Ticket</th>\n",
       "      <th>Fare</th>\n",
       "      <th>Cabin</th>\n",
       "      <th>Embarked</th>\n",
       "      <th>Is_train</th>\n",
       "      <th>Pure_Digit_Ticket</th>\n",
       "    </tr>\n",
       "  </thead>\n",
       "  <tbody>\n",
       "    <tr>\n",
       "      <th>1043</th>\n",
       "      <td>1044</td>\n",
       "      <td>NaN</td>\n",
       "      <td>3</td>\n",
       "      <td>Storey, Mr. Thomas</td>\n",
       "      <td>male</td>\n",
       "      <td>60.5</td>\n",
       "      <td>0</td>\n",
       "      <td>0</td>\n",
       "      <td>3701</td>\n",
       "      <td>7.8292</td>\n",
       "      <td>NaN</td>\n",
       "      <td>S</td>\n",
       "      <td>0</td>\n",
       "      <td>True</td>\n",
       "    </tr>\n",
       "  </tbody>\n",
       "</table>\n",
       "</div>"
      ],
      "text/plain": [
       "      PassengerId  Survived  Pclass                Name   Sex   Age  SibSp  \\\n",
       "1043         1044       NaN       3  Storey, Mr. Thomas  male  60.5      0   \n",
       "\n",
       "      Parch Ticket    Fare Cabin Embarked  Is_train  Pure_Digit_Ticket  \n",
       "1043      0   3701  7.8292   NaN        S         0               True  "
      ]
     },
     "execution_count": 72,
     "metadata": {},
     "output_type": "execute_result"
    }
   ],
   "source": [
    "#impute\n",
    "full_df.loc[1043, 'Fare'] = 7.8292\n",
    "full_df.loc[[1043]]"
   ]
  },
  {
   "cell_type": "markdown",
   "metadata": {},
   "source": [
    "### For 'Embarked'   "
   ]
  },
  {
   "cell_type": "code",
   "execution_count": 73,
   "metadata": {},
   "outputs": [
    {
     "data": {
      "text/html": [
       "<div>\n",
       "<style scoped>\n",
       "    .dataframe tbody tr th:only-of-type {\n",
       "        vertical-align: middle;\n",
       "    }\n",
       "\n",
       "    .dataframe tbody tr th {\n",
       "        vertical-align: top;\n",
       "    }\n",
       "\n",
       "    .dataframe thead th {\n",
       "        text-align: right;\n",
       "    }\n",
       "</style>\n",
       "<table border=\"1\" class=\"dataframe\">\n",
       "  <thead>\n",
       "    <tr style=\"text-align: right;\">\n",
       "      <th></th>\n",
       "      <th>PassengerId</th>\n",
       "      <th>Survived</th>\n",
       "      <th>Pclass</th>\n",
       "      <th>Name</th>\n",
       "      <th>Sex</th>\n",
       "      <th>Age</th>\n",
       "      <th>SibSp</th>\n",
       "      <th>Parch</th>\n",
       "      <th>Ticket</th>\n",
       "      <th>Fare</th>\n",
       "      <th>Cabin</th>\n",
       "      <th>Embarked</th>\n",
       "      <th>Is_train</th>\n",
       "      <th>Pure_Digit_Ticket</th>\n",
       "    </tr>\n",
       "  </thead>\n",
       "  <tbody>\n",
       "    <tr>\n",
       "      <th>61</th>\n",
       "      <td>62</td>\n",
       "      <td>1.0</td>\n",
       "      <td>1</td>\n",
       "      <td>Icard, Miss. Amelie</td>\n",
       "      <td>female</td>\n",
       "      <td>38.0</td>\n",
       "      <td>0</td>\n",
       "      <td>0</td>\n",
       "      <td>113572</td>\n",
       "      <td>80.0</td>\n",
       "      <td>B28</td>\n",
       "      <td>NaN</td>\n",
       "      <td>1</td>\n",
       "      <td>True</td>\n",
       "    </tr>\n",
       "    <tr>\n",
       "      <th>829</th>\n",
       "      <td>830</td>\n",
       "      <td>1.0</td>\n",
       "      <td>1</td>\n",
       "      <td>Stone, Mrs. George Nelson (Martha Evelyn)</td>\n",
       "      <td>female</td>\n",
       "      <td>62.0</td>\n",
       "      <td>0</td>\n",
       "      <td>0</td>\n",
       "      <td>113572</td>\n",
       "      <td>80.0</td>\n",
       "      <td>B28</td>\n",
       "      <td>NaN</td>\n",
       "      <td>1</td>\n",
       "      <td>True</td>\n",
       "    </tr>\n",
       "  </tbody>\n",
       "</table>\n",
       "</div>"
      ],
      "text/plain": [
       "     PassengerId  Survived  Pclass                                       Name  \\\n",
       "61            62       1.0       1                        Icard, Miss. Amelie   \n",
       "829          830       1.0       1  Stone, Mrs. George Nelson (Martha Evelyn)   \n",
       "\n",
       "        Sex   Age  SibSp  Parch  Ticket  Fare Cabin Embarked  Is_train  \\\n",
       "61   female  38.0      0      0  113572  80.0   B28      NaN         1   \n",
       "829  female  62.0      0      0  113572  80.0   B28      NaN         1   \n",
       "\n",
       "     Pure_Digit_Ticket  \n",
       "61                True  \n",
       "829               True  "
      ]
     },
     "execution_count": 73,
     "metadata": {},
     "output_type": "execute_result"
    }
   ],
   "source": [
    "#display the record with missing Embarked value\n",
    "full_df.loc[full_df.Embarked.isnull()]"
   ]
  },
  {
   "cell_type": "markdown",
   "metadata": {},
   "source": [
    "**Finding:**   \n",
    "The two records are in the train data sets. Either imputation or deletion is workable.   \n",
    "I choose imputation with the most frequent value, 'S'."
   ]
  },
  {
   "cell_type": "code",
   "execution_count": 74,
   "metadata": {},
   "outputs": [
    {
     "data": {
      "text/html": [
       "<div>\n",
       "<style scoped>\n",
       "    .dataframe tbody tr th:only-of-type {\n",
       "        vertical-align: middle;\n",
       "    }\n",
       "\n",
       "    .dataframe tbody tr th {\n",
       "        vertical-align: top;\n",
       "    }\n",
       "\n",
       "    .dataframe thead th {\n",
       "        text-align: right;\n",
       "    }\n",
       "</style>\n",
       "<table border=\"1\" class=\"dataframe\">\n",
       "  <thead>\n",
       "    <tr style=\"text-align: right;\">\n",
       "      <th></th>\n",
       "      <th>PassengerId</th>\n",
       "      <th>Survived</th>\n",
       "      <th>Pclass</th>\n",
       "      <th>Name</th>\n",
       "      <th>Sex</th>\n",
       "      <th>Age</th>\n",
       "      <th>SibSp</th>\n",
       "      <th>Parch</th>\n",
       "      <th>Ticket</th>\n",
       "      <th>Fare</th>\n",
       "      <th>Cabin</th>\n",
       "      <th>Embarked</th>\n",
       "      <th>Is_train</th>\n",
       "      <th>Pure_Digit_Ticket</th>\n",
       "    </tr>\n",
       "  </thead>\n",
       "  <tbody>\n",
       "    <tr>\n",
       "      <th>61</th>\n",
       "      <td>62</td>\n",
       "      <td>1.0</td>\n",
       "      <td>1</td>\n",
       "      <td>Icard, Miss. Amelie</td>\n",
       "      <td>female</td>\n",
       "      <td>38.0</td>\n",
       "      <td>0</td>\n",
       "      <td>0</td>\n",
       "      <td>113572</td>\n",
       "      <td>80.0</td>\n",
       "      <td>B28</td>\n",
       "      <td>S</td>\n",
       "      <td>1</td>\n",
       "      <td>True</td>\n",
       "    </tr>\n",
       "    <tr>\n",
       "      <th>829</th>\n",
       "      <td>830</td>\n",
       "      <td>1.0</td>\n",
       "      <td>1</td>\n",
       "      <td>Stone, Mrs. George Nelson (Martha Evelyn)</td>\n",
       "      <td>female</td>\n",
       "      <td>62.0</td>\n",
       "      <td>0</td>\n",
       "      <td>0</td>\n",
       "      <td>113572</td>\n",
       "      <td>80.0</td>\n",
       "      <td>B28</td>\n",
       "      <td>S</td>\n",
       "      <td>1</td>\n",
       "      <td>True</td>\n",
       "    </tr>\n",
       "  </tbody>\n",
       "</table>\n",
       "</div>"
      ],
      "text/plain": [
       "     PassengerId  Survived  Pclass                                       Name  \\\n",
       "61            62       1.0       1                        Icard, Miss. Amelie   \n",
       "829          830       1.0       1  Stone, Mrs. George Nelson (Martha Evelyn)   \n",
       "\n",
       "        Sex   Age  SibSp  Parch  Ticket  Fare Cabin Embarked  Is_train  \\\n",
       "61   female  38.0      0      0  113572  80.0   B28        S         1   \n",
       "829  female  62.0      0      0  113572  80.0   B28        S         1   \n",
       "\n",
       "     Pure_Digit_Ticket  \n",
       "61                True  \n",
       "829               True  "
      ]
     },
     "execution_count": 74,
     "metadata": {},
     "output_type": "execute_result"
    }
   ],
   "source": [
    "#impute\n",
    "full_df.loc[[61, 829], 'Embarked'] = 'S'\n",
    "full_df.loc[[61, 829]]"
   ]
  },
  {
   "cell_type": "markdown",
   "metadata": {},
   "source": [
    "### For 'Cabin'"
   ]
  },
  {
   "cell_type": "code",
   "execution_count": 75,
   "metadata": {},
   "outputs": [
    {
     "data": {
      "text/plain": [
       "Index(['PassengerId', 'Survived', 'Pclass', 'Name', 'Sex', 'Age', 'SibSp',\n",
       "       'Parch', 'Ticket', 'Fare', 'Embarked', 'Is_train', 'Pure_Digit_Ticket'],\n",
       "      dtype='object')"
      ]
     },
     "execution_count": 75,
     "metadata": {},
     "output_type": "execute_result"
    }
   ],
   "source": [
    "#Drop 'Cabin'\n",
    "full_df.drop('Cabin', axis=1, inplace=True)\n",
    "\n",
    "full_df.columns"
   ]
  },
  {
   "cell_type": "markdown",
   "metadata": {},
   "source": [
    "### For 'Age'"
   ]
  },
  {
   "cell_type": "code",
   "execution_count": 77,
   "metadata": {},
   "outputs": [
    {
     "data": {
      "text/plain": [
       "1    177\n",
       "0     86\n",
       "Name: Is_train, dtype: int64"
      ]
     },
     "execution_count": 77,
     "metadata": {},
     "output_type": "execute_result"
    }
   ],
   "source": [
    "#check how many records with missing age values there are in train data set and test data set respectively\n",
    "full_df.loc[full_df.Age.isnull(), 'Is_train'].value_counts()"
   ]
  },
  {
   "cell_type": "markdown",
   "metadata": {},
   "source": [
    "**Finding:**\n",
    "There are a few missing age values both in the train data set and the test data set.\n",
    "Deletion is not an option. A proper imputation strategy needs to be made."
   ]
  },
  {
   "cell_type": "markdown",
   "metadata": {},
   "source": [
    "## References:\n",
    "[1] [DataCamp Course \"Dealing with Missing Data in Python\"](https://www.datacamp.com/courses/dealing-with-missing-data-in-python)  \n",
    "[2] [Flexible Imputation of Missing Data, by Stef van Buuren](https://stefvanbuuren.name/fimd/sec-MCAR.html)"
   ]
  },
  {
   "cell_type": "code",
   "execution_count": null,
   "metadata": {},
   "outputs": [],
   "source": []
  }
 ],
 "metadata": {
  "kernelspec": {
   "display_name": "Python 3",
   "language": "python",
   "name": "python3"
  },
  "language_info": {
   "codemirror_mode": {
    "name": "ipython",
    "version": 3
   },
   "file_extension": ".py",
   "mimetype": "text/x-python",
   "name": "python",
   "nbconvert_exporter": "python",
   "pygments_lexer": "ipython3",
   "version": "3.6.9"
  },
  "toc": {
   "base_numbering": 1,
   "nav_menu": {},
   "number_sections": true,
   "sideBar": true,
   "skip_h1_title": false,
   "title_cell": "Table of Contents",
   "title_sidebar": "Contents",
   "toc_cell": false,
   "toc_position": {
    "height": "calc(100% - 180px)",
    "left": "10px",
    "top": "150px",
    "width": "256px"
   },
   "toc_section_display": true,
   "toc_window_display": true
  }
 },
 "nbformat": 4,
 "nbformat_minor": 2
}
