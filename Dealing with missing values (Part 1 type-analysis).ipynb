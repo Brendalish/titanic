{
 "cells": [
  {
   "cell_type": "markdown",
   "metadata": {},
   "source": [
    "## 1. Workflow for treating missing values:\n",
    "(1) convert all missing values to null values  \n",
    "(2) analyze the amount and type of missingness in the data  \n",
    "(3) appropriately delete or impute missing values  \n",
    "(4) evaluate and compare the perfomances of the treated/imputed dataset  \n",
    "\n",
    "Reference: DataCamp Course \"Dealing with Missing Data in Python\"."
   ]
  },
  {
   "cell_type": "markdown",
   "metadata": {},
   "source": [
    "This notebook (Part 1) covers Step1 and Step2 for Titanic Kaggle Competition. The next notebook (Part 2) will cover Step3 and Step4."
   ]
  },
  {
   "cell_type": "markdown",
   "metadata": {},
   "source": [
    "## 2. Load libraries, packages, modules and data"
   ]
  },
  {
   "cell_type": "code",
   "execution_count": 14,
   "metadata": {},
   "outputs": [],
   "source": [
    "import pandas as pd\n",
    "import numpy as np\n",
    "\n",
    "import matplotlib.pyplot as plt\n",
    "%matplotlib inline\n",
    "plt.style.use('seaborn')\n",
    "\n",
    "import kaggle\n",
    "import os\n",
    "\n",
    "#missingno is a python library enables a quick visual summary of the completeness of your dataset.\n",
    "import missingno as msno"
   ]
  },
  {
   "cell_type": "code",
   "execution_count": 15,
   "metadata": {},
   "outputs": [],
   "source": [
    "def get_titanic_data(folder_path='.\\data', force_download=False, file_name='train.csv'):\n",
    "#download and unzip all the data files for titanic from Kaggle through kaggle api if necessary\n",
    "#load the data file in dataframe format\n",
    "    if force_download or not os.path.exists(folder_path):\n",
    "        !kaggle competitions download -c titanic\n",
    "        !unzip \\*.zip -d $folder_path\n",
    "        os.remove('titanic.zip')\n",
    "    file_path = os.path.join(folder_path, file_name)\n",
    "    df = pd.read_csv(file_path)\n",
    "    return df"
   ]
  },
  {
   "cell_type": "code",
   "execution_count": 16,
   "metadata": {},
   "outputs": [],
   "source": [
    "df = get_titanic_data()"
   ]
  },
  {
   "cell_type": "markdown",
   "metadata": {},
   "source": [
    "## 3. Convert all missing values to null values (None, np.nan)"
   ]
  },
  {
   "cell_type": "markdown",
   "metadata": {},
   "source": [
    "### 3.1 Find the missing values which are not null values yet"
   ]
  },
  {
   "cell_type": "code",
   "execution_count": 17,
   "metadata": {},
   "outputs": [
    {
     "name": "stdout",
     "output_type": "stream",
     "text": [
      "<class 'pandas.core.frame.DataFrame'>\n",
      "RangeIndex: 891 entries, 0 to 890\n",
      "Data columns (total 12 columns):\n",
      " #   Column       Non-Null Count  Dtype  \n",
      "---  ------       --------------  -----  \n",
      " 0   PassengerId  891 non-null    int64  \n",
      " 1   Survived     891 non-null    int64  \n",
      " 2   Pclass       891 non-null    int64  \n",
      " 3   Name         891 non-null    object \n",
      " 4   Sex          891 non-null    object \n",
      " 5   Age          714 non-null    float64\n",
      " 6   SibSp        891 non-null    int64  \n",
      " 7   Parch        891 non-null    int64  \n",
      " 8   Ticket       891 non-null    object \n",
      " 9   Fare         891 non-null    float64\n",
      " 10  Cabin        204 non-null    object \n",
      " 11  Embarked     889 non-null    object \n",
      "dtypes: float64(2), int64(5), object(5)\n",
      "memory usage: 83.7+ KB\n"
     ]
    }
   ],
   "source": [
    "#Check if any of the columns which are supposed to be numerical types are now Object type. The existence of missing values makes numerical columns into Object dtype.\n",
    "df.info()"
   ]
  },
  {
   "cell_type": "markdown",
   "metadata": {},
   "source": [
    "#### 3.1.1 Check the columns of object dtype"
   ]
  },
  {
   "cell_type": "code",
   "execution_count": 18,
   "metadata": {},
   "outputs": [
    {
     "data": {
      "text/plain": [
       "['Name', 'Sex', 'Ticket', 'Cabin', 'Embarked']"
      ]
     },
     "execution_count": 18,
     "metadata": {},
     "output_type": "execute_result"
    }
   ],
   "source": [
    "#Find the columns of Object dtype\n",
    "object_columns = [c for c in df.columns if df[c].dtype == 'object']\n",
    "object_columns"
   ]
  },
  {
   "cell_type": "code",
   "execution_count": 19,
   "metadata": {},
   "outputs": [
    {
     "data": {
      "text/html": [
       "<div>\n",
       "<style scoped>\n",
       "    .dataframe tbody tr th:only-of-type {\n",
       "        vertical-align: middle;\n",
       "    }\n",
       "\n",
       "    .dataframe tbody tr th {\n",
       "        vertical-align: top;\n",
       "    }\n",
       "\n",
       "    .dataframe thead th {\n",
       "        text-align: right;\n",
       "    }\n",
       "</style>\n",
       "<table border=\"1\" class=\"dataframe\">\n",
       "  <thead>\n",
       "    <tr style=\"text-align: right;\">\n",
       "      <th></th>\n",
       "      <th>Name</th>\n",
       "      <th>Sex</th>\n",
       "      <th>Ticket</th>\n",
       "      <th>Cabin</th>\n",
       "      <th>Embarked</th>\n",
       "    </tr>\n",
       "  </thead>\n",
       "  <tbody>\n",
       "    <tr>\n",
       "      <th>count</th>\n",
       "      <td>891</td>\n",
       "      <td>891</td>\n",
       "      <td>891</td>\n",
       "      <td>204</td>\n",
       "      <td>889</td>\n",
       "    </tr>\n",
       "    <tr>\n",
       "      <th>unique</th>\n",
       "      <td>891</td>\n",
       "      <td>2</td>\n",
       "      <td>681</td>\n",
       "      <td>147</td>\n",
       "      <td>3</td>\n",
       "    </tr>\n",
       "    <tr>\n",
       "      <th>top</th>\n",
       "      <td>Fortune, Mr. Mark</td>\n",
       "      <td>male</td>\n",
       "      <td>1601</td>\n",
       "      <td>G6</td>\n",
       "      <td>S</td>\n",
       "    </tr>\n",
       "    <tr>\n",
       "      <th>freq</th>\n",
       "      <td>1</td>\n",
       "      <td>577</td>\n",
       "      <td>7</td>\n",
       "      <td>4</td>\n",
       "      <td>644</td>\n",
       "    </tr>\n",
       "  </tbody>\n",
       "</table>\n",
       "</div>"
      ],
      "text/plain": [
       "                     Name   Sex Ticket Cabin Embarked\n",
       "count                 891   891    891   204      889\n",
       "unique                891     2    681   147        3\n",
       "top     Fortune, Mr. Mark  male   1601    G6        S\n",
       "freq                    1   577      7     4      644"
      ]
     },
     "execution_count": 19,
     "metadata": {},
     "output_type": "execute_result"
    }
   ],
   "source": [
    "#Get the number of uniuqe values of each Object columns\n",
    "df[object_columns].describe()"
   ]
  },
  {
   "cell_type": "code",
   "execution_count": 20,
   "metadata": {},
   "outputs": [
    {
     "name": "stdout",
     "output_type": "stream",
     "text": [
      "1. Top 10 unique values for column 'Name':\n",
      "['Abbing, Mr. Anthony' 'Abbott, Mr. Rossmore Edward'\n",
      " 'Abbott, Mrs. Stanton (Rosa Hunt)' 'Abelson, Mr. Samuel'\n",
      " 'Abelson, Mrs. Samuel (Hannah Wizosky)' 'Adahl, Mr. Mauritz Nils Martin'\n",
      " 'Adams, Mr. John' 'Ahlin, Mrs. Johan (Johanna Persdotter Larsson)'\n",
      " 'Aks, Mrs. Sam (Leah Rosen)' 'Albimona, Mr. Nassef Cassem'] \n",
      "\n",
      "Is'NA' one of its unique values? False \n",
      "\n",
      "Is 'unknown' (case insensitive) one of its unique values? False \n",
      "\n",
      "2. Top 10 unique values for column 'Sex':\n",
      "['female' 'male'] \n",
      "\n",
      "Is'NA' one of its unique values? False \n",
      "\n",
      "Is 'unknown' (case insensitive) one of its unique values? False \n",
      "\n",
      "3. Top 10 unique values for column 'Ticket':\n",
      "['110152' '110413' '110465' '110564' '110813' '111240' '111320' '111361'\n",
      " '111369' '111426'] \n",
      "\n",
      "Is'NA' one of its unique values? False \n",
      "\n",
      "Is 'unknown' (case insensitive) one of its unique values? False \n",
      "\n",
      "4. Top 10 unique values for column 'Cabin':\n",
      "['A10' 'A14' 'A16' 'A19' 'A20' 'A23' 'A24' 'A26' 'A31' 'A32'] \n",
      "\n",
      "Is'NA' one of its unique values? False \n",
      "\n",
      "Is 'unknown' (case insensitive) one of its unique values? False \n",
      "\n",
      "5. Top 10 unique values for column 'Embarked':\n",
      "['C' 'Q' 'S'] \n",
      "\n",
      "Is'NA' one of its unique values? False \n",
      "\n",
      "Is 'unknown' (case insensitive) one of its unique values? False \n",
      "\n"
     ]
    }
   ],
   "source": [
    "#Look for common symbols for missing values, like '?', 'NA', '-', '.', 'unknown'\n",
    "i=1\n",
    "for c in object_columns:\n",
    "    print(str(i)+'.', \"Top 10 unique values for column '{}':\".format(c))\n",
    "    unique_values = df[c].dropna().unique()\n",
    "    print(np.sort(unique_values)[:10], '\\n')\n",
    "    print(\"Is'NA' one of its unique values?\", 'NA' in unique_values, '\\n')\n",
    "    unique_values_lowercase = [v.lower() for v in unique_values]\n",
    "    print(\"Is 'unknown' (case insensitive) one of its unique values?\", 'unknown' in unique_values_lowercase, '\\n')\n",
    "    i+=1"
   ]
  },
  {
   "cell_type": "markdown",
   "metadata": {},
   "source": [
    "#### Comment:\n",
    "The common symbols or words representing missing values are not found in the Object columns. "
   ]
  },
  {
   "cell_type": "markdown",
   "metadata": {},
   "source": [
    "#### 3.1.2 Check the numerical columns"
   ]
  },
  {
   "cell_type": "code",
   "execution_count": 21,
   "metadata": {},
   "outputs": [
    {
     "data": {
      "text/html": [
       "<div>\n",
       "<style scoped>\n",
       "    .dataframe tbody tr th:only-of-type {\n",
       "        vertical-align: middle;\n",
       "    }\n",
       "\n",
       "    .dataframe tbody tr th {\n",
       "        vertical-align: top;\n",
       "    }\n",
       "\n",
       "    .dataframe thead th {\n",
       "        text-align: right;\n",
       "    }\n",
       "</style>\n",
       "<table border=\"1\" class=\"dataframe\">\n",
       "  <thead>\n",
       "    <tr style=\"text-align: right;\">\n",
       "      <th></th>\n",
       "      <th>PassengerId</th>\n",
       "      <th>Survived</th>\n",
       "      <th>Pclass</th>\n",
       "      <th>Age</th>\n",
       "      <th>SibSp</th>\n",
       "      <th>Parch</th>\n",
       "      <th>Fare</th>\n",
       "    </tr>\n",
       "  </thead>\n",
       "  <tbody>\n",
       "    <tr>\n",
       "      <th>count</th>\n",
       "      <td>891.000000</td>\n",
       "      <td>891.000000</td>\n",
       "      <td>891.000000</td>\n",
       "      <td>714.000000</td>\n",
       "      <td>891.000000</td>\n",
       "      <td>891.000000</td>\n",
       "      <td>891.000000</td>\n",
       "    </tr>\n",
       "    <tr>\n",
       "      <th>mean</th>\n",
       "      <td>446.000000</td>\n",
       "      <td>0.383838</td>\n",
       "      <td>2.308642</td>\n",
       "      <td>29.699118</td>\n",
       "      <td>0.523008</td>\n",
       "      <td>0.381594</td>\n",
       "      <td>32.204208</td>\n",
       "    </tr>\n",
       "    <tr>\n",
       "      <th>std</th>\n",
       "      <td>257.353842</td>\n",
       "      <td>0.486592</td>\n",
       "      <td>0.836071</td>\n",
       "      <td>14.526497</td>\n",
       "      <td>1.102743</td>\n",
       "      <td>0.806057</td>\n",
       "      <td>49.693429</td>\n",
       "    </tr>\n",
       "    <tr>\n",
       "      <th>min</th>\n",
       "      <td>1.000000</td>\n",
       "      <td>0.000000</td>\n",
       "      <td>1.000000</td>\n",
       "      <td>0.420000</td>\n",
       "      <td>0.000000</td>\n",
       "      <td>0.000000</td>\n",
       "      <td>0.000000</td>\n",
       "    </tr>\n",
       "    <tr>\n",
       "      <th>25%</th>\n",
       "      <td>223.500000</td>\n",
       "      <td>0.000000</td>\n",
       "      <td>2.000000</td>\n",
       "      <td>20.125000</td>\n",
       "      <td>0.000000</td>\n",
       "      <td>0.000000</td>\n",
       "      <td>7.910400</td>\n",
       "    </tr>\n",
       "    <tr>\n",
       "      <th>50%</th>\n",
       "      <td>446.000000</td>\n",
       "      <td>0.000000</td>\n",
       "      <td>3.000000</td>\n",
       "      <td>28.000000</td>\n",
       "      <td>0.000000</td>\n",
       "      <td>0.000000</td>\n",
       "      <td>14.454200</td>\n",
       "    </tr>\n",
       "    <tr>\n",
       "      <th>75%</th>\n",
       "      <td>668.500000</td>\n",
       "      <td>1.000000</td>\n",
       "      <td>3.000000</td>\n",
       "      <td>38.000000</td>\n",
       "      <td>1.000000</td>\n",
       "      <td>0.000000</td>\n",
       "      <td>31.000000</td>\n",
       "    </tr>\n",
       "    <tr>\n",
       "      <th>max</th>\n",
       "      <td>891.000000</td>\n",
       "      <td>1.000000</td>\n",
       "      <td>3.000000</td>\n",
       "      <td>80.000000</td>\n",
       "      <td>8.000000</td>\n",
       "      <td>6.000000</td>\n",
       "      <td>512.329200</td>\n",
       "    </tr>\n",
       "  </tbody>\n",
       "</table>\n",
       "</div>"
      ],
      "text/plain": [
       "       PassengerId    Survived      Pclass         Age       SibSp  \\\n",
       "count   891.000000  891.000000  891.000000  714.000000  891.000000   \n",
       "mean    446.000000    0.383838    2.308642   29.699118    0.523008   \n",
       "std     257.353842    0.486592    0.836071   14.526497    1.102743   \n",
       "min       1.000000    0.000000    1.000000    0.420000    0.000000   \n",
       "25%     223.500000    0.000000    2.000000   20.125000    0.000000   \n",
       "50%     446.000000    0.000000    3.000000   28.000000    0.000000   \n",
       "75%     668.500000    1.000000    3.000000   38.000000    1.000000   \n",
       "max     891.000000    1.000000    3.000000   80.000000    8.000000   \n",
       "\n",
       "            Parch        Fare  \n",
       "count  891.000000  891.000000  \n",
       "mean     0.381594   32.204208  \n",
       "std      0.806057   49.693429  \n",
       "min      0.000000    0.000000  \n",
       "25%      0.000000    7.910400  \n",
       "50%      0.000000   14.454200  \n",
       "75%      0.000000   31.000000  \n",
       "max      6.000000  512.329200  "
      ]
     },
     "execution_count": 21,
     "metadata": {},
     "output_type": "execute_result"
    }
   ],
   "source": [
    "#Look for values out of expected data range, like 0 for age, or extremely large number like 9999 for age\n",
    "df.describe()"
   ]
  },
  {
   "cell_type": "code",
   "execution_count": 22,
   "metadata": {},
   "outputs": [
    {
     "data": {
      "text/html": [
       "<div>\n",
       "<style scoped>\n",
       "    .dataframe tbody tr th:only-of-type {\n",
       "        vertical-align: middle;\n",
       "    }\n",
       "\n",
       "    .dataframe tbody tr th {\n",
       "        vertical-align: top;\n",
       "    }\n",
       "\n",
       "    .dataframe thead th {\n",
       "        text-align: right;\n",
       "    }\n",
       "</style>\n",
       "<table border=\"1\" class=\"dataframe\">\n",
       "  <thead>\n",
       "    <tr style=\"text-align: right;\">\n",
       "      <th></th>\n",
       "      <th>PassengerId</th>\n",
       "      <th>Survived</th>\n",
       "      <th>Pclass</th>\n",
       "      <th>Name</th>\n",
       "      <th>Sex</th>\n",
       "      <th>Age</th>\n",
       "      <th>SibSp</th>\n",
       "      <th>Parch</th>\n",
       "      <th>Ticket</th>\n",
       "      <th>Fare</th>\n",
       "      <th>Cabin</th>\n",
       "      <th>Embarked</th>\n",
       "    </tr>\n",
       "  </thead>\n",
       "  <tbody>\n",
       "    <tr>\n",
       "      <th>179</th>\n",
       "      <td>180</td>\n",
       "      <td>0</td>\n",
       "      <td>3</td>\n",
       "      <td>Leonard, Mr. Lionel</td>\n",
       "      <td>male</td>\n",
       "      <td>36.0</td>\n",
       "      <td>0</td>\n",
       "      <td>0</td>\n",
       "      <td>LINE</td>\n",
       "      <td>0.0</td>\n",
       "      <td>NaN</td>\n",
       "      <td>S</td>\n",
       "    </tr>\n",
       "    <tr>\n",
       "      <th>263</th>\n",
       "      <td>264</td>\n",
       "      <td>0</td>\n",
       "      <td>1</td>\n",
       "      <td>Harrison, Mr. William</td>\n",
       "      <td>male</td>\n",
       "      <td>40.0</td>\n",
       "      <td>0</td>\n",
       "      <td>0</td>\n",
       "      <td>112059</td>\n",
       "      <td>0.0</td>\n",
       "      <td>B94</td>\n",
       "      <td>S</td>\n",
       "    </tr>\n",
       "    <tr>\n",
       "      <th>271</th>\n",
       "      <td>272</td>\n",
       "      <td>1</td>\n",
       "      <td>3</td>\n",
       "      <td>Tornquist, Mr. William Henry</td>\n",
       "      <td>male</td>\n",
       "      <td>25.0</td>\n",
       "      <td>0</td>\n",
       "      <td>0</td>\n",
       "      <td>LINE</td>\n",
       "      <td>0.0</td>\n",
       "      <td>NaN</td>\n",
       "      <td>S</td>\n",
       "    </tr>\n",
       "    <tr>\n",
       "      <th>277</th>\n",
       "      <td>278</td>\n",
       "      <td>0</td>\n",
       "      <td>2</td>\n",
       "      <td>Parkes, Mr. Francis \"Frank\"</td>\n",
       "      <td>male</td>\n",
       "      <td>NaN</td>\n",
       "      <td>0</td>\n",
       "      <td>0</td>\n",
       "      <td>239853</td>\n",
       "      <td>0.0</td>\n",
       "      <td>NaN</td>\n",
       "      <td>S</td>\n",
       "    </tr>\n",
       "    <tr>\n",
       "      <th>302</th>\n",
       "      <td>303</td>\n",
       "      <td>0</td>\n",
       "      <td>3</td>\n",
       "      <td>Johnson, Mr. William Cahoone Jr</td>\n",
       "      <td>male</td>\n",
       "      <td>19.0</td>\n",
       "      <td>0</td>\n",
       "      <td>0</td>\n",
       "      <td>LINE</td>\n",
       "      <td>0.0</td>\n",
       "      <td>NaN</td>\n",
       "      <td>S</td>\n",
       "    </tr>\n",
       "    <tr>\n",
       "      <th>413</th>\n",
       "      <td>414</td>\n",
       "      <td>0</td>\n",
       "      <td>2</td>\n",
       "      <td>Cunningham, Mr. Alfred Fleming</td>\n",
       "      <td>male</td>\n",
       "      <td>NaN</td>\n",
       "      <td>0</td>\n",
       "      <td>0</td>\n",
       "      <td>239853</td>\n",
       "      <td>0.0</td>\n",
       "      <td>NaN</td>\n",
       "      <td>S</td>\n",
       "    </tr>\n",
       "    <tr>\n",
       "      <th>466</th>\n",
       "      <td>467</td>\n",
       "      <td>0</td>\n",
       "      <td>2</td>\n",
       "      <td>Campbell, Mr. William</td>\n",
       "      <td>male</td>\n",
       "      <td>NaN</td>\n",
       "      <td>0</td>\n",
       "      <td>0</td>\n",
       "      <td>239853</td>\n",
       "      <td>0.0</td>\n",
       "      <td>NaN</td>\n",
       "      <td>S</td>\n",
       "    </tr>\n",
       "    <tr>\n",
       "      <th>481</th>\n",
       "      <td>482</td>\n",
       "      <td>0</td>\n",
       "      <td>2</td>\n",
       "      <td>Frost, Mr. Anthony Wood \"Archie\"</td>\n",
       "      <td>male</td>\n",
       "      <td>NaN</td>\n",
       "      <td>0</td>\n",
       "      <td>0</td>\n",
       "      <td>239854</td>\n",
       "      <td>0.0</td>\n",
       "      <td>NaN</td>\n",
       "      <td>S</td>\n",
       "    </tr>\n",
       "    <tr>\n",
       "      <th>597</th>\n",
       "      <td>598</td>\n",
       "      <td>0</td>\n",
       "      <td>3</td>\n",
       "      <td>Johnson, Mr. Alfred</td>\n",
       "      <td>male</td>\n",
       "      <td>49.0</td>\n",
       "      <td>0</td>\n",
       "      <td>0</td>\n",
       "      <td>LINE</td>\n",
       "      <td>0.0</td>\n",
       "      <td>NaN</td>\n",
       "      <td>S</td>\n",
       "    </tr>\n",
       "    <tr>\n",
       "      <th>633</th>\n",
       "      <td>634</td>\n",
       "      <td>0</td>\n",
       "      <td>1</td>\n",
       "      <td>Parr, Mr. William Henry Marsh</td>\n",
       "      <td>male</td>\n",
       "      <td>NaN</td>\n",
       "      <td>0</td>\n",
       "      <td>0</td>\n",
       "      <td>112052</td>\n",
       "      <td>0.0</td>\n",
       "      <td>NaN</td>\n",
       "      <td>S</td>\n",
       "    </tr>\n",
       "    <tr>\n",
       "      <th>674</th>\n",
       "      <td>675</td>\n",
       "      <td>0</td>\n",
       "      <td>2</td>\n",
       "      <td>Watson, Mr. Ennis Hastings</td>\n",
       "      <td>male</td>\n",
       "      <td>NaN</td>\n",
       "      <td>0</td>\n",
       "      <td>0</td>\n",
       "      <td>239856</td>\n",
       "      <td>0.0</td>\n",
       "      <td>NaN</td>\n",
       "      <td>S</td>\n",
       "    </tr>\n",
       "    <tr>\n",
       "      <th>732</th>\n",
       "      <td>733</td>\n",
       "      <td>0</td>\n",
       "      <td>2</td>\n",
       "      <td>Knight, Mr. Robert J</td>\n",
       "      <td>male</td>\n",
       "      <td>NaN</td>\n",
       "      <td>0</td>\n",
       "      <td>0</td>\n",
       "      <td>239855</td>\n",
       "      <td>0.0</td>\n",
       "      <td>NaN</td>\n",
       "      <td>S</td>\n",
       "    </tr>\n",
       "    <tr>\n",
       "      <th>806</th>\n",
       "      <td>807</td>\n",
       "      <td>0</td>\n",
       "      <td>1</td>\n",
       "      <td>Andrews, Mr. Thomas Jr</td>\n",
       "      <td>male</td>\n",
       "      <td>39.0</td>\n",
       "      <td>0</td>\n",
       "      <td>0</td>\n",
       "      <td>112050</td>\n",
       "      <td>0.0</td>\n",
       "      <td>A36</td>\n",
       "      <td>S</td>\n",
       "    </tr>\n",
       "    <tr>\n",
       "      <th>815</th>\n",
       "      <td>816</td>\n",
       "      <td>0</td>\n",
       "      <td>1</td>\n",
       "      <td>Fry, Mr. Richard</td>\n",
       "      <td>male</td>\n",
       "      <td>NaN</td>\n",
       "      <td>0</td>\n",
       "      <td>0</td>\n",
       "      <td>112058</td>\n",
       "      <td>0.0</td>\n",
       "      <td>B102</td>\n",
       "      <td>S</td>\n",
       "    </tr>\n",
       "    <tr>\n",
       "      <th>822</th>\n",
       "      <td>823</td>\n",
       "      <td>0</td>\n",
       "      <td>1</td>\n",
       "      <td>Reuchlin, Jonkheer. John George</td>\n",
       "      <td>male</td>\n",
       "      <td>38.0</td>\n",
       "      <td>0</td>\n",
       "      <td>0</td>\n",
       "      <td>19972</td>\n",
       "      <td>0.0</td>\n",
       "      <td>NaN</td>\n",
       "      <td>S</td>\n",
       "    </tr>\n",
       "  </tbody>\n",
       "</table>\n",
       "</div>"
      ],
      "text/plain": [
       "     PassengerId  Survived  Pclass                              Name   Sex  \\\n",
       "179          180         0       3               Leonard, Mr. Lionel  male   \n",
       "263          264         0       1             Harrison, Mr. William  male   \n",
       "271          272         1       3      Tornquist, Mr. William Henry  male   \n",
       "277          278         0       2       Parkes, Mr. Francis \"Frank\"  male   \n",
       "302          303         0       3   Johnson, Mr. William Cahoone Jr  male   \n",
       "413          414         0       2    Cunningham, Mr. Alfred Fleming  male   \n",
       "466          467         0       2             Campbell, Mr. William  male   \n",
       "481          482         0       2  Frost, Mr. Anthony Wood \"Archie\"  male   \n",
       "597          598         0       3               Johnson, Mr. Alfred  male   \n",
       "633          634         0       1     Parr, Mr. William Henry Marsh  male   \n",
       "674          675         0       2        Watson, Mr. Ennis Hastings  male   \n",
       "732          733         0       2              Knight, Mr. Robert J  male   \n",
       "806          807         0       1            Andrews, Mr. Thomas Jr  male   \n",
       "815          816         0       1                  Fry, Mr. Richard  male   \n",
       "822          823         0       1   Reuchlin, Jonkheer. John George  male   \n",
       "\n",
       "      Age  SibSp  Parch  Ticket  Fare Cabin Embarked  \n",
       "179  36.0      0      0    LINE   0.0   NaN        S  \n",
       "263  40.0      0      0  112059   0.0   B94        S  \n",
       "271  25.0      0      0    LINE   0.0   NaN        S  \n",
       "277   NaN      0      0  239853   0.0   NaN        S  \n",
       "302  19.0      0      0    LINE   0.0   NaN        S  \n",
       "413   NaN      0      0  239853   0.0   NaN        S  \n",
       "466   NaN      0      0  239853   0.0   NaN        S  \n",
       "481   NaN      0      0  239854   0.0   NaN        S  \n",
       "597  49.0      0      0    LINE   0.0   NaN        S  \n",
       "633   NaN      0      0  112052   0.0   NaN        S  \n",
       "674   NaN      0      0  239856   0.0   NaN        S  \n",
       "732   NaN      0      0  239855   0.0   NaN        S  \n",
       "806  39.0      0      0  112050   0.0   A36        S  \n",
       "815   NaN      0      0  112058   0.0  B102        S  \n",
       "822  38.0      0      0   19972   0.0   NaN        S  "
      ]
     },
     "execution_count": 22,
     "metadata": {},
     "output_type": "execute_result"
    }
   ],
   "source": [
    "df[df.Fare==0]"
   ]
  },
  {
   "cell_type": "markdown",
   "metadata": {},
   "source": [
    "#### Comment:\n",
    "The minimum fare is zero, involving 15 tickets.It may indicate free tickets or missing values.However, Tammy found the evidence about the complimentary ticket for John George( https://www.kaggle.com/c/titanic/discussion/10570). As not any evidence was found about the missing fare data marked as 0, I interpreted the value 0 as it is (meaning free ticket).\n",
    "\n",
    "No unusal numerical values have been found representing missing values."
   ]
  },
  {
   "cell_type": "markdown",
   "metadata": {},
   "source": [
    "#### Conclusion:\n",
    "All the missing values are already null values. So no conversion is needed."
   ]
  },
  {
   "cell_type": "markdown",
   "metadata": {},
   "source": [
    "## 4. Analyze the amount and type of missingness in the data"
   ]
  },
  {
   "cell_type": "markdown",
   "metadata": {},
   "source": [
    "### 4.1 Analyze the amount of missingness"
   ]
  },
  {
   "cell_type": "code",
   "execution_count": 23,
   "metadata": {},
   "outputs": [
    {
     "data": {
      "text/plain": [
       "PassengerId      0\n",
       "Survived         0\n",
       "Pclass           0\n",
       "Name             0\n",
       "Sex              0\n",
       "Age            177\n",
       "SibSp            0\n",
       "Parch            0\n",
       "Ticket           0\n",
       "Fare             0\n",
       "Cabin          687\n",
       "Embarked         2\n",
       "dtype: int64"
      ]
     },
     "execution_count": 23,
     "metadata": {},
     "output_type": "execute_result"
    }
   ],
   "source": [
    "# Amount of missingness\n",
    "df.isnull().sum()"
   ]
  },
  {
   "cell_type": "code",
   "execution_count": 24,
   "metadata": {},
   "outputs": [
    {
     "data": {
      "text/plain": [
       "PassengerId     0.000000\n",
       "Survived        0.000000\n",
       "Pclass          0.000000\n",
       "Name            0.000000\n",
       "Sex             0.000000\n",
       "Age            19.865320\n",
       "SibSp           0.000000\n",
       "Parch           0.000000\n",
       "Ticket          0.000000\n",
       "Fare            0.000000\n",
       "Cabin          77.104377\n",
       "Embarked        0.224467\n",
       "dtype: float64"
      ]
     },
     "execution_count": 24,
     "metadata": {},
     "output_type": "execute_result"
    }
   ],
   "source": [
    "#Percentage of missingness\n",
    "df.isnull().mean()*100"
   ]
  },
  {
   "cell_type": "markdown",
   "metadata": {},
   "source": [
    "#### Comment:\n",
    "687 (77%) Cabin values are missing.Very large proportion!  \n",
    "177 (20%) Age values are missing. Not small proportion.  \n",
    "2 (0.2%) Embarked values are missing. Very small proportion."
   ]
  },
  {
   "cell_type": "markdown",
   "metadata": {},
   "source": [
    "### 4.2 Analyze the types of missingness (MCAR, MAR, MNAR)"
   ]
  },
  {
   "cell_type": "markdown",
   "metadata": {},
   "source": [
    "#### 4.2.1 Look for patterns of missingness related with column values"
   ]
  },
  {
   "cell_type": "code",
   "execution_count": 25,
   "metadata": {},
   "outputs": [
    {
     "data": {
      "image/png": "[encoded data removed]",
      "text/plain": [
       "<Figure size 360x360 with 1 Axes>"
      ]
     },
     "metadata": {},
     "output_type": "display_data"
    }
   ],
   "source": [
    "#Check nullity matrix for the columns with missingness and the column used to sort the data\n",
    "df_sorted = df.sort_values(by='Survived')\n",
    "cols_missing = ['Cabin', 'Age', 'Embarked']\n",
    "cols_matrix = cols_missing.copy()\n",
    "cols_matrix.append('Survived')\n",
    "msno.matrix(df_sorted[cols_matrix], figsize=(5, 5), sparkline=False);"
   ]
  },
  {
   "cell_type": "code",
   "execution_count": 43,
   "metadata": {},
   "outputs": [],
   "source": [
    "def missingness_by_value(col1, col2, df=df):\n",
    "    \"\"\"\n",
    "    check the missingness (%) of a colomn varied by the values of another column\n",
    "    \n",
    "    Args:\n",
    "    col1 (str): the name of a column with missing values\n",
    "    col2 (str): the name of a column of which the values may affect the missingness of col1\n",
    "    df (pd.DataFrame) : the dataframe contains both col1 and col2\n",
    "    \"\"\"\n",
    "    for v in np.sort(df[col2].dropna().unique()):\n",
    "        missingness = df.loc[df[col2]==v, col1].isnull().mean()*100\n",
    "        print(\"Missingness percentage of {} when the value of {} equals {}: {}%\".format(col1, col2, v, round(missingness)))"
   ]
  },
  {
   "cell_type": "code",
   "execution_count": 44,
   "metadata": {},
   "outputs": [
    {
     "name": "stdout",
     "output_type": "stream",
     "text": [
      "Missingness percentage of Cabin when the value of Survived equals 0: 88.0%\n",
      "Missingness percentage of Cabin when the value of Survived equals 1: 60.0%\n"
     ]
    }
   ],
   "source": [
    "#check the missingness of 'Cabin' column varied by the values of 'Survived' column\n",
    "missingness_by_value('Cabin', 'Survived')"
   ]
  },
  {
   "cell_type": "markdown",
   "metadata": {},
   "source": [
    "#### Comment:\n",
    "The missing values are shown as white lines in the msno matrix.  \n",
    "\n",
    "In the matrix, the upper part of the 'Cabin' column  is whiter than its lower part, indicating that more missing values of 'Cabin' are found for the victims than for the survivors.It's confirmed by checking the missing percentages for the survivors and the victims. So the 'Cabin' column can not be categorized as 'MCAR'.\n",
    "\n",
    "In the 'Age column, the upper part doesn't look whiter or darker than its lower part, indicating no strong relationship between the 'Survived' variable and the missingness of 'Age'. Whether its missingness is related with the variable other than 'Survived', needs to be further investigated..\n",
    "\n",
    "Even though the two missing values of 'Embarked' are all for the survivors, considering the very few missing values (only 2), it doesn't necessarily mean the strong relationship between the 'Survived' variable and the missingness of 'Embarked'. Since only a few values are missing, the 'Embarked'column can be categorized as 'MCAR'."
   ]
  },
  {
   "cell_type": "code",
   "execution_count": 28,
   "metadata": {},
   "outputs": [
    {
     "name": "stdout",
     "output_type": "stream",
     "text": [
      "Nullity matrix for data sorted by column 'PassengerId'\n"
     ]
    },
    {
     "data": {
      "image/png": "[encoded data removed]",
      "text/plain": [
       "<Figure size 360x360 with 1 Axes>"
      ]
     },
     "metadata": {},
     "output_type": "display_data"
    },
    {
     "name": "stdout",
     "output_type": "stream",
     "text": [
      "Nullity matrix for data sorted by column 'Pclass'\n"
     ]
    },
    {
     "data": {
      "image/png": "[encoded data removed]",
      "text/plain": [
       "<Figure size 360x360 with 1 Axes>"
      ]
     },
     "metadata": {},
     "output_type": "display_data"
    },
    {
     "name": "stdout",
     "output_type": "stream",
     "text": [
      "Nullity matrix for data sorted by column 'Name'\n"
     ]
    },
    {
     "data": {
      "image/png": "[encoded data removed]",
      "text/plain": [
       "<Figure size 360x360 with 1 Axes>"
      ]
     },
     "metadata": {},
     "output_type": "display_data"
    },
    {
     "name": "stdout",
     "output_type": "stream",
     "text": [
      "Nullity matrix for data sorted by column 'Sex'\n"
     ]
    },
    {
     "data": {
      "image/png": "[encoded data removed]",
      "text/plain": [
       "<Figure size 360x360 with 1 Axes>"
      ]
     },
     "metadata": {},
     "output_type": "display_data"
    },
    {
     "name": "stdout",
     "output_type": "stream",
     "text": [
      "Nullity matrix for data sorted by column 'Age'\n"
     ]
    },
    {
     "data": {
      "image/png": "[encoded data removed]",
      "text/plain": [
       "<Figure size 360x360 with 1 Axes>"
      ]
     },
     "metadata": {},
     "output_type": "display_data"
    },
    {
     "name": "stdout",
     "output_type": "stream",
     "text": [
      "Nullity matrix for data sorted by column 'SibSp'\n"
     ]
    },
    {
     "data": {
      "image/png": "[encoded data removed]",
      "text/plain": [
       "<Figure size 360x360 with 1 Axes>"
      ]
     },
     "metadata": {},
     "output_type": "display_data"
    },
    {
     "name": "stdout",
     "output_type": "stream",
     "text": [
      "Nullity matrix for data sorted by column 'Parch'\n"
     ]
    },
    {
     "data": {
      "image/png": "[encoded data removed]",
      "text/plain": [
       "<Figure size 360x360 with 1 Axes>"
      ]
     },
     "metadata": {},
     "output_type": "display_data"
    },
    {
     "name": "stdout",
     "output_type": "stream",
     "text": [
      "Nullity matrix for data sorted by column 'Ticket'\n"
     ]
    },
    {
     "data": {
      "image/png": "[encoded data removed]",
      "text/plain": [
       "<Figure size 360x360 with 1 Axes>"
      ]
     },
     "metadata": {},
     "output_type": "display_data"
    },
    {
     "name": "stdout",
     "output_type": "stream",
     "text": [
      "Nullity matrix for data sorted by column 'Fare'\n"
     ]
    },
    {
     "data": {
      "image/png": "[encoded data removed]",
      "text/plain": [
       "<Figure size 360x360 with 1 Axes>"
      ]
     },
     "metadata": {},
     "output_type": "display_data"
    },
    {
     "name": "stdout",
     "output_type": "stream",
     "text": [
      "Nullity matrix for data sorted by column 'Cabin'\n"
     ]
    },
    {
     "data": {
      "image/png": "[encoded data removed]",
      "text/plain": [
       "<Figure size 360x360 with 1 Axes>"
      ]
     },
     "metadata": {},
     "output_type": "display_data"
    },
    {
     "name": "stdout",
     "output_type": "stream",
     "text": [
      "Nullity matrix for data sorted by column 'Embarked'\n"
     ]
    },
    {
     "data": {
      "image/png": "[encoded data removed]",
      "text/plain": [
       "<Figure size 360x360 with 1 Axes>"
      ]
     },
     "metadata": {},
     "output_type": "display_data"
    }
   ],
   "source": [
    "#check if the variables' values affect the missingness of 'Cabin' or 'Age'\n",
    "for c in df.columns:\n",
    "    if c=='Survived':\n",
    "        continue\n",
    "    df_sorted = df.sort_values(by=c)\n",
    "    cols_matrix = ['Cabin', 'Age']\n",
    "    cols_matrix.append(c)\n",
    "    print(\"Nullity matrix for data sorted by column '{}'\".format(c))\n",
    "    msno.matrix(df_sorted[cols_matrix], figsize=(5, 5), sparkline=False)\n",
    "    plt.show()"
   ]
  },
  {
   "cell_type": "code",
   "execution_count": 45,
   "metadata": {},
   "outputs": [
    {
     "name": "stdout",
     "output_type": "stream",
     "text": [
      "Missingness percentage of Cabin when the value of Pclass equals 1: 19.0%\n",
      "Missingness percentage of Cabin when the value of Pclass equals 2: 91.0%\n",
      "Missingness percentage of Cabin when the value of Pclass equals 3: 98.0%\n"
     ]
    }
   ],
   "source": [
    "missingness_by_value('Cabin', 'Pclass')"
   ]
  },
  {
   "cell_type": "code",
   "execution_count": 47,
   "metadata": {},
   "outputs": [
    {
     "data": {
      "text/plain": [
       "array(['110152', '110413', '110465', '110564', '110813', '111240',\n",
       "       '111320', '111361', '111369', '111426', '111427', '111428',\n",
       "       '112050', '112052', '112053', '112058', '112059', '112277',\n",
       "       '112379', '113028', '113043', '113050', '113051', '113055',\n",
       "       '113056', '113059', '113501', '113503', '113505', '113509',\n",
       "       '113510', '113514', '113572', '113760', '113767', '113773',\n",
       "       '113776', '113781', '113783', '113784', '113786', '113787',\n",
       "       '113788', '113789', '113792', '113794', '113796', '113798',\n",
       "       '113800', '113803', '113804', '113806', '113807', '11668', '11751',\n",
       "       '11752', '11753', '11755', '11765', '11767', '11769', '11771',\n",
       "       '11774', '11813', '11967', '12233', '12460', '12749', '13049',\n",
       "       '13213', '13214', '13502', '13507', '13509', '13567', '13568',\n",
       "       '14311', '14312', '14313', '14973', '1601', '16966', '16988',\n",
       "       '17421', '17453', '17463', '17464', '17465', '17466', '17474',\n",
       "       '17764', '19877', '19928', '19943', '19947', '19950', '19952',\n",
       "       '19972', '19988', '19996', '2003', '211536', '21440', '218629',\n",
       "       '219533', '220367', '220845', '2223', '223596', '226593', '226875',\n",
       "       '228414', '229236', '230080', '230136', '230433', '230434',\n",
       "       '231919', '231945', '233639', '233866', '234360', '234604',\n",
       "       '234686', '234818', '236171', '236852', '236853', '237442',\n",
       "       '237565', '237668', '237671', '237736', '237789', '237798',\n",
       "       '239853', '239854', '239855', '239856', '239865', '240929',\n",
       "       '24160', '243847', '243880', '244252', '244270', '244278',\n",
       "       '244310', '244358', '244361', '244367', '244373', '248698',\n",
       "       '248706', '248723', '248727', '248731', '248733', '248738',\n",
       "       '248740', '248747', '250643', '250644', '250646', '250647',\n",
       "       '250648', '250649', '250651', '250652', '250653', '250655', '2620',\n",
       "       '2623', '2624', '2625', '2626', '2627', '2628', '2629', '2631',\n",
       "       '26360', '2641', '2647', '2648', '2649', '2650', '2651', '2653',\n",
       "       '2659', '2661', '2662', '2663', '2664', '2665', '2666', '2667',\n",
       "       '2668', '2669', '26707', '2671', '2672', '2674', '2677', '2678',\n",
       "       '2680', '2683', '2685', '2686', '2687', '2689', '2690', '2691',\n",
       "       '2693', '2694', '2695', '2697', '2699', '2700', '27042', '27267',\n",
       "       '27849', '28134', '28206', '28213', '28220', '28228', '28403',\n",
       "       '28424', '28425', '28551', '28664', '28665', '29011', '2908',\n",
       "       '29103', '29104', '29105', '29106', '29108', '2926', '29750',\n",
       "       '29751', '3101264', '3101265', '3101267', '3101276', '3101277',\n",
       "       '3101278', '3101281', '3101295', '3101296', '3101298', '31027',\n",
       "       '31028', '312991', '312992', '312993', '31418', '315037', '315082',\n",
       "       '315084', '315086', '315088', '315089', '315090', '315093',\n",
       "       '315094', '315096', '315097', '315098', '315151', '315153',\n",
       "       '323592', '323951', '324669', '330877', '330909', '330919',\n",
       "       '330923', '330931', '330932', '330935', '330958', '330959',\n",
       "       '330979', '330980', '334912', '335097', '335677', '33638',\n",
       "       '336439', '3411', '341826', '34218', '342826', '343095', '343120',\n",
       "       '343275', '343276', '345364', '345572', '345763', '345764',\n",
       "       '345765', '345767', '345769', '345770', '345773', '345774',\n",
       "       '345777', '345778', '345779', '345780', '345781', '345783', '3460',\n",
       "       '347054', '347060', '347061', '347062', '347063', '347064',\n",
       "       '347067', '347068', '347069', '347071', '347073', '347074',\n",
       "       '347076', '347077', '347078', '347080', '347081', '347082',\n",
       "       '347083', '347085', '347087', '347088', '347089', '3474', '347464',\n",
       "       '347466', '347468', '347470', '347742', '347743', '348121',\n",
       "       '348123', '348124', '349201', '349203', '349204', '349205',\n",
       "       '349206', '349207', '349208', '349209', '349210', '349212',\n",
       "       '349213', '349214', '349215', '349216', '349217', '349218',\n",
       "       '349219', '349221', '349222', '349223', '349224', '349225',\n",
       "       '349227', '349228', '349231', '349233', '349234', '349236',\n",
       "       '349237', '349239', '349240', '349241', '349242', '349243',\n",
       "       '349244', '349245', '349246', '349247', '349248', '349249',\n",
       "       '349251', '349252', '349253', '349254', '349256', '349257',\n",
       "       '349909', '349910', '349912', '350025', '350026', '350029',\n",
       "       '350034', '350035', '350036', '350042', '350043', '350046',\n",
       "       '350047', '350048', '350050', '350052', '350060', '350404',\n",
       "       '350406', '350407', '350417', '35273', '35281', '35851', '35852',\n",
       "       '358585', '36209', '362316', '363291', '363294', '363592',\n",
       "       '364498', '364499', '364500', '364506', '364511', '364512',\n",
       "       '364516', '364846', '364848', '364849', '364850', '364851',\n",
       "       '365222', '365226', '36568', '367226', '367228', '367229',\n",
       "       '367230', '367231', '367232', '367655', '368323', '36864', '36865',\n",
       "       '36866', '368703', '36928', '36947', '36963', '36967', '36973',\n",
       "       '370129', '370365', '370369', '370370', '370371', '370372',\n",
       "       '370373', '370375', '370376', '370377', '371060', '371110',\n",
       "       '371362', '372622', '373450', '374746', '374887', '374910',\n",
       "       '376564', '376566', '382649', '382651', '382652', '383121',\n",
       "       '384461', '386525', '392091', '392092', '392096', '394140', '4133',\n",
       "       '4134', '4135', '4136', '4137', '4138', '4579', '54636', '5727',\n",
       "       '65303', '65304', '65306', '6563', '693', '695', '7267', '7534',\n",
       "       '7540', '7545', '7546', '7552', '7553', '7598', '8471', '8475',\n",
       "       '9234', 'A./5. 2152', 'A./5. 3235', 'A.5. 11206', 'A.5. 18509',\n",
       "       'A/4 45380', 'A/4 48871', 'A/4. 20589', 'A/4. 34244', 'A/4. 39886',\n",
       "       'A/5 21171', 'A/5 21172', 'A/5 21173', 'A/5 21174', 'A/5 2466',\n",
       "       'A/5 2817', 'A/5 3536', 'A/5 3540', 'A/5 3594', 'A/5 3902',\n",
       "       'A/5. 10482', 'A/5. 13032', 'A/5. 2151', 'A/5. 3336', 'A/5. 3337',\n",
       "       'A/5. 851', 'A/S 2816', 'A4. 54510', 'C 17369', 'C 4001', 'C 7075',\n",
       "       'C 7076', 'C 7077', 'C.A. 17248', 'C.A. 18723', 'C.A. 2315',\n",
       "       'C.A. 24579', 'C.A. 24580', 'C.A. 2673', 'C.A. 29178',\n",
       "       'C.A. 29395', 'C.A. 29566', 'C.A. 31026', 'C.A. 31921',\n",
       "       'C.A. 33111', 'C.A. 33112', 'C.A. 33595', 'C.A. 34260',\n",
       "       'C.A. 34651', 'C.A. 37671', 'C.A. 5547', 'C.A. 6212',\n",
       "       'C.A./SOTON 34068', 'CA 2144', 'CA. 2314', 'CA. 2343',\n",
       "       'F.C. 12750', 'F.C.C. 13528', 'F.C.C. 13529', 'F.C.C. 13531',\n",
       "       'Fa 265302', 'LINE', 'P/PP 3381', 'PC 17318', 'PC 17473',\n",
       "       'PC 17474', 'PC 17475', 'PC 17476', 'PC 17477', 'PC 17482',\n",
       "       'PC 17483', 'PC 17485', 'PC 17558', 'PC 17569', 'PC 17572',\n",
       "       'PC 17582', 'PC 17585', 'PC 17590', 'PC 17592', 'PC 17593',\n",
       "       'PC 17595', 'PC 17596', 'PC 17597', 'PC 17599', 'PC 17600',\n",
       "       'PC 17601', 'PC 17603', 'PC 17604', 'PC 17605', 'PC 17608',\n",
       "       'PC 17609', 'PC 17610', 'PC 17611', 'PC 17612', 'PC 17754',\n",
       "       'PC 17755', 'PC 17756', 'PC 17757', 'PC 17758', 'PC 17759',\n",
       "       'PC 17760', 'PC 17761', 'PP 4348', 'PP 9549', 'S.C./A.4. 23567',\n",
       "       'S.C./PARIS 2079', 'S.O./P.P. 3', 'S.O./P.P. 751', 'S.O.C. 14879',\n",
       "       'S.O.P. 1166', 'S.P. 3464', 'S.W./PP 752', 'SC 1748',\n",
       "       'SC/AH 29037', 'SC/AH 3085', 'SC/AH Basle 541', 'SC/PARIS 2131',\n",
       "       'SC/PARIS 2133', 'SC/PARIS 2146', 'SC/PARIS 2149', 'SC/PARIS 2167',\n",
       "       'SC/Paris 2123', 'SC/Paris 2163', 'SCO/W 1585', 'SO/C 14885',\n",
       "       'SOTON/O.Q. 3101305', 'SOTON/O.Q. 3101306', 'SOTON/O.Q. 3101307',\n",
       "       'SOTON/O.Q. 3101310', 'SOTON/O.Q. 3101311', 'SOTON/O.Q. 3101312',\n",
       "       'SOTON/O.Q. 392078', 'SOTON/O.Q. 392087', 'SOTON/O2 3101272',\n",
       "       'SOTON/O2 3101287', 'SOTON/OQ 3101316', 'SOTON/OQ 3101317',\n",
       "       'SOTON/OQ 392076', 'SOTON/OQ 392082', 'SOTON/OQ 392086',\n",
       "       'SOTON/OQ 392089', 'SOTON/OQ 392090', 'STON/O 2. 3101269',\n",
       "       'STON/O 2. 3101273', 'STON/O 2. 3101274', 'STON/O 2. 3101275',\n",
       "       'STON/O 2. 3101280', 'STON/O 2. 3101285', 'STON/O 2. 3101286',\n",
       "       'STON/O 2. 3101288', 'STON/O 2. 3101289', 'STON/O 2. 3101292',\n",
       "       'STON/O 2. 3101293', 'STON/O 2. 3101294', 'STON/O2. 3101271',\n",
       "       'STON/O2. 3101279', 'STON/O2. 3101282', 'STON/O2. 3101283',\n",
       "       'STON/O2. 3101290', 'SW/PP 751', 'W./C. 14258', 'W./C. 14263',\n",
       "       'W./C. 6607', 'W./C. 6608', 'W./C. 6609', 'W.E.P. 5734',\n",
       "       'W/C 14208', 'WE/P 5735'], dtype=object)"
      ]
     },
     "execution_count": 47,
     "metadata": {},
     "output_type": "execute_result"
    }
   ],
   "source": [
    "np.sort(df['Ticket'].unique())"
   ]
  },
  {
   "cell_type": "code",
   "execution_count": 54,
   "metadata": {},
   "outputs": [
    {
     "name": "stdout",
     "output_type": "stream",
     "text": [
      "Missingness percentage of Cabin when the value of Pure_Digit_Ticket equals False: 77.0%\n",
      "Missingness percentage of Cabin when the value of Pure_Digit_Ticket equals True: 77.0%\n"
     ]
    }
   ],
   "source": [
    "df['Pure_Digit_Ticket'] = df['Ticket'].apply(str.isdigit)\n",
    "missingness_by_value('Cabin', 'Pure_Digit_Ticket', df)"
   ]
  },
  {
   "cell_type": "code",
   "execution_count": 67,
   "metadata": {},
   "outputs": [
    {
     "data": {
      "text/plain": [
       "array(['Abbing, Mr. Anthony', 'Abbott, Mr. Rossmore Edward',\n",
       "       'Abbott, Mrs. Stanton (Rosa Hunt)', 'Abelson, Mr. Samuel',\n",
       "       'Abelson, Mrs. Samuel (Hannah Wizosky)',\n",
       "       'Adahl, Mr. Mauritz Nils Martin', 'Adams, Mr. John',\n",
       "       'Ahlin, Mrs. Johan (Johanna Persdotter Larsson)',\n",
       "       'Aks, Mrs. Sam (Leah Rosen)', 'Albimona, Mr. Nassef Cassem',\n",
       "       'Alexander, Mr. William', 'Alhomaki, Mr. Ilmari Rudolf',\n",
       "       'Ali, Mr. Ahmed', 'Ali, Mr. William',\n",
       "       'Allen, Miss. Elisabeth Walton', 'Allen, Mr. William Henry',\n",
       "       'Allison, Master. Hudson Trevor', 'Allison, Miss. Helen Loraine',\n",
       "       'Allison, Mrs. Hudson J C (Bessie Waldo Daniels)',\n",
       "       'Allum, Mr. Owen George',\n",
       "       'Andersen-Jensen, Miss. Carla Christine Nielsine',\n",
       "       'Anderson, Mr. Harry', 'Andersson, Master. Sigvard Harald Elias',\n",
       "       'Andersson, Miss. Ebba Iris Alfrida',\n",
       "       'Andersson, Miss. Ellis Anna Maria',\n",
       "       'Andersson, Miss. Erna Alexandra',\n",
       "       'Andersson, Miss. Ingeborg Constanzia',\n",
       "       'Andersson, Miss. Sigrid Elisabeth', 'Andersson, Mr. Anders Johan',\n",
       "       'Andersson, Mr. August Edvard (\"Wennerstrom\")',\n",
       "       'Andersson, Mrs. Anders Johan (Alfrida Konstantia Brogren)',\n",
       "       'Andreasson, Mr. Paul Edvin', 'Andrew, Mr. Edgardo Samuel',\n",
       "       'Andrews, Miss. Kornelia Theodosia', 'Andrews, Mr. Thomas Jr',\n",
       "       'Angle, Mrs. William A (Florence \"Mary\" Agnes Hughes)',\n",
       "       'Appleton, Mrs. Edward Dale (Charlotte Lamson)',\n",
       "       'Arnold-Franchi, Mr. Josef',\n",
       "       'Arnold-Franchi, Mrs. Josef (Josefine Franchi)',\n",
       "       'Artagaveytia, Mr. Ramon', 'Asim, Mr. Adola',\n",
       "       'Asplund, Master. Clarence Gustaf Hugo',\n",
       "       'Asplund, Master. Edvin Rojj Felix',\n",
       "       'Asplund, Miss. Lillian Gertrud',\n",
       "       'Asplund, Mrs. Carl Oscar (Selma Augusta Emilia Johansson)',\n",
       "       'Astor, Mrs. John Jacob (Madeleine Talmadge Force)',\n",
       "       'Attalah, Miss. Malake', 'Attalah, Mr. Sleiman',\n",
       "       'Aubart, Mme. Leontine Pauline', 'Augustsson, Mr. Albert',\n",
       "       'Ayoub, Miss. Banoura', 'Backstrom, Mr. Karl Alfred',\n",
       "       'Backstrom, Mrs. Karl Alfred (Maria Mathilda Gustafsson)',\n",
       "       'Baclini, Miss. Eugenie', 'Baclini, Miss. Helene Barbara',\n",
       "       'Baclini, Miss. Marie Catherine',\n",
       "       'Baclini, Mrs. Solomon (Latifa Qurban)', 'Badt, Mr. Mohamed',\n",
       "       'Bailey, Mr. Percy Andrew', 'Balkic, Mr. Cerin',\n",
       "       'Ball, Mrs. (Ada E Hall)', 'Banfield, Mr. Frederick James',\n",
       "       'Barah, Mr. Hanna Assi', 'Barbara, Miss. Saiide',\n",
       "       'Barbara, Mrs. (Catherine David)', 'Barber, Miss. Ellen \"Nellie\"',\n",
       "       'Barkworth, Mr. Algernon Henry Wilson', 'Barton, Mr. David John',\n",
       "       'Bateman, Rev. Robert James', 'Baumann, Mr. John D',\n",
       "       'Baxter, Mr. Quigg Edmond',\n",
       "       'Baxter, Mrs. James (Helene DeLaudeniere Chaput)',\n",
       "       'Bazzani, Miss. Albina', 'Beane, Mr. Edward',\n",
       "       'Beane, Mrs. Edward (Ethel Clarke)', 'Beavan, Mr. William Thomas',\n",
       "       'Becker, Master. Richard F', 'Becker, Miss. Marion Louise',\n",
       "       'Beckwith, Mr. Richard Leonard',\n",
       "       'Beckwith, Mrs. Richard Leonard (Sallie Monypeny)',\n",
       "       'Beesley, Mr. Lawrence', 'Behr, Mr. Karl Howell',\n",
       "       'Bengtsson, Mr. John Viktor', 'Berglund, Mr. Karl Ivar Sven',\n",
       "       'Berriman, Mr. William John', 'Betros, Mr. Tannous',\n",
       "       'Bidois, Miss. Rosalie', 'Bing, Mr. Lee',\n",
       "       'Birkeland, Mr. Hans Martin Monsen', 'Bishop, Mr. Dickinson H',\n",
       "       'Bishop, Mrs. Dickinson H (Helen Walton)',\n",
       "       'Bissette, Miss. Amelia',\n",
       "       'Bjornstrom-Steffansson, Mr. Mauritz Hakan',\n",
       "       'Blackwell, Mr. Stephen Weart', 'Blank, Mr. Henry',\n",
       "       'Bonnell, Miss. Elizabeth', 'Bostandyeff, Mr. Guentcho',\n",
       "       'Boulos, Miss. Nourelain', 'Boulos, Mr. Hanna',\n",
       "       'Boulos, Mrs. Joseph (Sultana)', 'Bourke, Miss. Mary',\n",
       "       'Bourke, Mr. John', 'Bourke, Mrs. John (Catherine)',\n",
       "       'Bowen, Mr. David John \"Dai\"', 'Bowerman, Miss. Elsie Edith',\n",
       "       'Bracken, Mr. James H',\n",
       "       'Bradley, Mr. George (\"George Arthur Brayton\")',\n",
       "       'Braund, Mr. Lewis Richard', 'Braund, Mr. Owen Harris',\n",
       "       'Brewe, Dr. Arthur Jackson', 'Brocklebank, Mr. William Alfred',\n",
       "       'Brown, Miss. Amelia \"Mildred\"',\n",
       "       'Brown, Mr. Thomas William Solomon',\n",
       "       'Brown, Mrs. James Joseph (Margaret Tobin)',\n",
       "       'Brown, Mrs. Thomas William Solomon (Elizabeth Catherine Ford)',\n",
       "       'Bryhl, Mr. Kurt Arnold Gottfrid', 'Burke, Mr. Jeremiah',\n",
       "       'Burns, Miss. Elizabeth Margaret', 'Buss, Miss. Kate',\n",
       "       'Butler, Mr. Reginald Fenton', 'Butt, Major. Archibald Willingham',\n",
       "       'Byles, Rev. Thomas Roussel Davids', 'Bystrom, Mrs. (Karolina)',\n",
       "       'Cacic, Miss. Marija', 'Cacic, Mr. Luka', 'Cairns, Mr. Alexander',\n",
       "       'Calderhead, Mr. Edward Pennington',\n",
       "       'Caldwell, Master. Alden Gates',\n",
       "       'Caldwell, Mrs. Albert Francis (Sylvia Mae Harbaugh)',\n",
       "       'Calic, Mr. Jovo', 'Calic, Mr. Petar',\n",
       "       'Cameron, Miss. Clear Annie', 'Campbell, Mr. William',\n",
       "       'Canavan, Miss. Mary', 'Cann, Mr. Ernest Charles',\n",
       "       'Caram, Mrs. Joseph (Maria Elias)', 'Carbines, Mr. William',\n",
       "       'Cardeza, Mr. Thomas Drake Martinez',\n",
       "       'Carlsson, Mr. August Sigfrid', 'Carlsson, Mr. Frans Olof',\n",
       "       'Carr, Miss. Helen \"Ellen\"', 'Carrau, Mr. Francisco M',\n",
       "       'Carter, Master. William Thornton II', 'Carter, Miss. Lucile Polk',\n",
       "       'Carter, Mr. William Ernest',\n",
       "       'Carter, Mrs. Ernest Courtenay (Lilian Hughes)',\n",
       "       'Carter, Mrs. William Ernest (Lucile Polk)',\n",
       "       'Carter, Rev. Ernest Courtenay', 'Cavendish, Mr. Tyrell William',\n",
       "       'Celotti, Mr. Francesco', 'Chaffee, Mr. Herbert Fuller',\n",
       "       'Chambers, Mr. Norman Campbell',\n",
       "       'Chambers, Mrs. Norman Campbell (Bertha Griggs)',\n",
       "       'Chapman, Mr. Charles Henry', 'Chapman, Mr. John Henry',\n",
       "       'Charters, Mr. David', 'Cherry, Miss. Gladys',\n",
       "       'Chibnall, Mrs. (Edith Martha Bowerman)', 'Chip, Mr. Chang',\n",
       "       'Christmann, Mr. Emil', 'Christy, Miss. Julie Rachel',\n",
       "       'Chronopoulos, Mr. Apostolos',\n",
       "       'Clarke, Mrs. Charles V (Ada Maria Winfield)',\n",
       "       'Cleaver, Miss. Alice', 'Clifford, Mr. George Quincy',\n",
       "       'Coelho, Mr. Domingos Fernandeo', 'Cohen, Mr. Gurshon \"Gus\"',\n",
       "       'Coleff, Mr. Peju', 'Coleff, Mr. Satio',\n",
       "       'Coleridge, Mr. Reginald Charles', 'Collander, Mr. Erik Gustaf',\n",
       "       'Colley, Mr. Edward Pomeroy', 'Collyer, Miss. Marjorie \"Lottie\"',\n",
       "       'Collyer, Mr. Harvey',\n",
       "       'Collyer, Mrs. Harvey (Charlotte Annie Tate)',\n",
       "       'Compton, Miss. Sara Rebecca', 'Connaghton, Mr. Michael',\n",
       "       'Connolly, Miss. Kate', 'Connors, Mr. Patrick', 'Cook, Mr. Jacob',\n",
       "       'Cor, Mr. Liudevit', 'Corn, Mr. Harry',\n",
       "       'Coutts, Master. Eden Leslie \"Neville\"',\n",
       "       'Coutts, Master. William Loch \"William\"', 'Coxon, Mr. Daniel',\n",
       "       'Crease, Mr. Ernest James', 'Cribb, Mr. John Hatfield',\n",
       "       'Crosby, Capt. Edward Gifford', 'Crosby, Miss. Harriet R',\n",
       "       'Culumovic, Mr. Jeso',\n",
       "       'Cumings, Mrs. John Bradley (Florence Briggs Thayer)',\n",
       "       'Cunningham, Mr. Alfred Fleming', 'Dahl, Mr. Karl Edwart',\n",
       "       'Dahlberg, Miss. Gerda Ulrika', 'Dakic, Mr. Branko',\n",
       "       'Daly, Mr. Eugene Patrick', 'Daly, Mr. Peter Denis ',\n",
       "       'Danbom, Mr. Ernst Gilbert',\n",
       "       'Danbom, Mrs. Ernst Gilbert (Anna Sigrid Maria Brogren)',\n",
       "       'Daniel, Mr. Robert Williams', 'Danoff, Mr. Yoto',\n",
       "       'Dantcheff, Mr. Ristiu', 'Davidson, Mr. Thornton',\n",
       "       'Davies, Master. John Morgan Jr', 'Davies, Mr. Alfred J',\n",
       "       'Davies, Mr. Charles Henry', 'Davis, Miss. Mary',\n",
       "       'Davison, Mrs. Thomas Henry (Mary E Finck)',\n",
       "       'Dean, Master. Bertram Vere', 'Dean, Mr. Bertram Frank',\n",
       "       'Denkoff, Mr. Mitto', 'Dennis, Mr. Samuel',\n",
       "       'Devaney, Miss. Margaret Delia', 'Dick, Mr. Albert Adrian',\n",
       "       'Dick, Mrs. Albert Adrian (Vera Gillespie)', 'Dimic, Mr. Jovan',\n",
       "       'Dodge, Master. Washington', 'Doharr, Mr. Tannous',\n",
       "       'Doling, Miss. Elsie', 'Doling, Mrs. John T (Ada Julia Bone)',\n",
       "       'Dooley, Mr. Patrick', 'Dorking, Mr. Edward Arthur',\n",
       "       'Douglas, Mr. Walter Donald', 'Dowdell, Miss. Elizabeth',\n",
       "       'Downton, Mr. William James', 'Drazenoic, Mr. Jozef',\n",
       "       'Drew, Mrs. James Vivian (Lulu Thorne Christian)',\n",
       "       'Duane, Mr. Frank',\n",
       "       'Duff Gordon, Lady. (Lucille Christiana Sutherland) (\"Mrs Morgan\")',\n",
       "       'Duff Gordon, Sir. Cosmo Edmund (\"Mr Morgan\")',\n",
       "       'Duran y More, Miss. Asuncion', 'Edvardsson, Mr. Gustaf Hjalmar',\n",
       "       'Eitemiller, Mr. George Floyd', 'Eklund, Mr. Hans Linus',\n",
       "       'Ekstrom, Mr. Johan', 'Elias, Mr. Dibo', 'Elias, Mr. Joseph Jr',\n",
       "       'Elias, Mr. Tannous', 'Elsbury, Mr. William James',\n",
       "       'Emanuel, Miss. Virginia Ethel', 'Emir, Mr. Farred Chehab',\n",
       "       'Endres, Miss. Caroline Louise', 'Eustis, Miss. Elizabeth Mussey',\n",
       "       'Fahlstrom, Mr. Arne Jonas', 'Farrell, Mr. James',\n",
       "       'Farthing, Mr. John',\n",
       "       'Faunthorpe, Mrs. Lizzie (Elizabeth Anne Wilkinson)',\n",
       "       'Fischer, Mr. Eberhard Thelander', 'Fleming, Miss. Margaret',\n",
       "       'Flynn, Mr. James', 'Flynn, Mr. John',\n",
       "       'Flynn, Mr. John Irwin (\"Irving\")', 'Foo, Mr. Choong',\n",
       "       'Ford, Miss. Doolina Margaret \"Daisy\"',\n",
       "       'Ford, Miss. Robina Maggie \"Ruby\"', 'Ford, Mr. William Neal',\n",
       "       'Ford, Mrs. Edward (Margaret Ann Watson)',\n",
       "       'Foreman, Mr. Benjamin Laventall',\n",
       "       'Fortune, Miss. Alice Elizabeth', 'Fortune, Miss. Mabel Helen',\n",
       "       'Fortune, Mr. Charles Alexander', 'Fortune, Mr. Mark',\n",
       "       'Fox, Mr. Stanley Hubert', 'Francatelli, Miss. Laura Mabel',\n",
       "       'Frauenthal, Dr. Henry William',\n",
       "       'Frauenthal, Mrs. Henry William (Clara Heinsheimer)',\n",
       "       'Frolicher, Miss. Hedwig Margaritha',\n",
       "       'Frolicher-Stehli, Mr. Maxmillian',\n",
       "       'Frost, Mr. Anthony Wood \"Archie\"', 'Fry, Mr. Richard',\n",
       "       'Funk, Miss. Annie Clemmer', 'Futrelle, Mr. Jacques Heath',\n",
       "       'Futrelle, Mrs. Jacques Heath (Lily May Peel)',\n",
       "       'Fynney, Mr. Joseph J', 'Gale, Mr. Shadrach',\n",
       "       'Gallagher, Mr. Martin', 'Garfirth, Mr. John',\n",
       "       'Garside, Miss. Ethel', 'Gaskell, Mr. Alfred',\n",
       "       'Gavey, Mr. Lawrence', 'Gee, Mr. Arthur H',\n",
       "       'Gheorgheff, Mr. Stanio', 'Giglio, Mr. Victor',\n",
       "       'Giles, Mr. Frederick Edward', 'Gilinski, Mr. Eliezer',\n",
       "       'Gill, Mr. John William', 'Gillespie, Mr. William Henry',\n",
       "       'Gilnagh, Miss. Katherine \"Katie\"', 'Givard, Mr. Hans Kristensen',\n",
       "       'Glynn, Miss. Mary Agatha', 'Goldenberg, Mr. Samuel L',\n",
       "       'Goldenberg, Mrs. Samuel L (Edwiga Grabowska)',\n",
       "       'Goldschmidt, Mr. George B',\n",
       "       'Goldsmith, Master. Frank John William \"Frankie\"',\n",
       "       'Goldsmith, Mr. Frank John',\n",
       "       'Goldsmith, Mrs. Frank John (Emily Alice Brown)',\n",
       "       'Goncalves, Mr. Manuel Estanslas',\n",
       "       'Goodwin, Master. Harold Victor',\n",
       "       'Goodwin, Master. Sidney Leonard',\n",
       "       'Goodwin, Master. William Frederick', 'Goodwin, Miss. Lillian Amy',\n",
       "       'Goodwin, Mr. Charles Edward',\n",
       "       'Goodwin, Mrs. Frederick (Augusta Tyler)',\n",
       "       'Graham, Miss. Margaret Edith', 'Graham, Mr. George Edward',\n",
       "       'Graham, Mrs. William Thompson (Edith Junkins)',\n",
       "       'Green, Mr. George Henry', 'Greenberg, Mr. Samuel',\n",
       "       'Greenfield, Mr. William Bertram',\n",
       "       'Gronnestad, Mr. Daniel Danielsen', 'Guggenheim, Mr. Benjamin',\n",
       "       'Gustafsson, Mr. Alfred Ossian', 'Gustafsson, Mr. Anders Vilhelm',\n",
       "       'Gustafsson, Mr. Johan Birger', 'Gustafsson, Mr. Karl Gideon',\n",
       "       'Haas, Miss. Aloisia', 'Hagland, Mr. Ingvald Olai Olsen',\n",
       "       'Hagland, Mr. Konrad Mathias Reiersen',\n",
       "       'Hakkarainen, Mr. Pekka Pietari',\n",
       "       'Hakkarainen, Mrs. Pekka Pietari (Elin Matilda Dolck)',\n",
       "       'Hale, Mr. Reginald', 'Hamalainen, Master. Viljo',\n",
       "       'Hamalainen, Mrs. William (Anna)', 'Hampe, Mr. Leon',\n",
       "       'Hanna, Mr. Mansour', 'Hansen, Mr. Claus Peter',\n",
       "       'Hansen, Mr. Henrik Juul', 'Hansen, Mr. Henry Damsgaard',\n",
       "       'Harder, Mr. George Achilles', 'Harknett, Miss. Alice Phoebe',\n",
       "       'Harmer, Mr. Abraham (David Lishin)',\n",
       "       'Harper, Miss. Annie Jessie \"Nina\"', 'Harper, Mr. Henry Sleeper',\n",
       "       'Harper, Mrs. Henry Sleeper (Myna Haxtun)', 'Harper, Rev. John',\n",
       "       'Harrington, Mr. Charles H', 'Harris, Mr. George',\n",
       "       'Harris, Mr. Henry Birkhardt', 'Harris, Mr. Walter',\n",
       "       'Harris, Mrs. Henry Birkhardt (Irene Wallach)',\n",
       "       'Harrison, Mr. William', 'Hart, Miss. Eva Miriam',\n",
       "       'Hart, Mr. Benjamin', 'Hart, Mr. Henry',\n",
       "       'Hart, Mrs. Benjamin (Esther Ada Bloomfield)',\n",
       "       'Hassab, Mr. Hammad', 'Hassan, Mr. Houssein G N',\n",
       "       'Hawksford, Mr. Walter James', 'Hays, Miss. Margaret Bechstein',\n",
       "       'Hays, Mrs. Charles Melville (Clara Jennings Gregg)',\n",
       "       'Healy, Miss. Hanora \"Nora\"', 'Hedman, Mr. Oskar Arvid',\n",
       "       'Hegarty, Miss. Hanora \"Nora\"', 'Heikkinen, Miss. Laina',\n",
       "       'Heininen, Miss. Wendla Maria', 'Hendekovic, Mr. Ignjac',\n",
       "       'Henry, Miss. Delia', 'Herman, Miss. Alice',\n",
       "       'Herman, Mrs. Samuel (Jane Laver)',\n",
       "       'Hewlett, Mrs. (Mary D Kingcome) ', 'Hickman, Mr. Leonard Mark',\n",
       "       'Hickman, Mr. Lewis', 'Hickman, Mr. Stanley George',\n",
       "       'Hippach, Miss. Jean Gertrude',\n",
       "       'Hippach, Mrs. Louis Albert (Ida Sophia Fischer)',\n",
       "       'Hirvonen, Miss. Hildur E', 'Hocking, Mr. Richard George',\n",
       "       'Hocking, Mrs. Elizabeth (Eliza Needs)', 'Hodges, Mr. Henry Price',\n",
       "       'Hogeboom, Mrs. John C (Anna Andrews)', 'Hold, Mr. Stephen',\n",
       "       'Holm, Mr. John Fredrik Alexander',\n",
       "       'Holverson, Mr. Alexander Oskar',\n",
       "       'Holverson, Mrs. Alexander Oskar (Mary Aline Towner)',\n",
       "       'Homer, Mr. Harry (\"Mr E Haven\")', 'Honkanen, Miss. Eliina',\n",
       "       'Hood, Mr. Ambrose Jr', 'Horgan, Mr. John', 'Hosono, Mr. Masabumi',\n",
       "       'Hoyt, Mr. Frederick Maxfield', 'Hoyt, Mr. William Fisher',\n",
       "       'Hoyt, Mrs. Frederick Maxfield (Jane Anne Forby)',\n",
       "       'Humblen, Mr. Adolf Mathias Nicolai Olsen',\n",
       "       'Hunt, Mr. George Henry', 'Ibrahim Shawah, Mr. Yousseff',\n",
       "       'Icard, Miss. Amelie', 'Ilett, Miss. Bertha',\n",
       "       'Ilmakangas, Miss. Pieta Sofia', 'Isham, Miss. Ann Elizabeth',\n",
       "       'Ivanoff, Mr. Kanio', 'Jacobsohn, Mr. Sidney Samuel',\n",
       "       'Jacobsohn, Mrs. Sidney Samuel (Amy Frances Christy)',\n",
       "       'Jalsevac, Mr. Ivan', 'Jansson, Mr. Carl Olof',\n",
       "       'Jardin, Mr. Jose Neto', 'Jarvis, Mr. John Denzil',\n",
       "       'Jenkin, Mr. Stephen Curnow', 'Jensen, Mr. Hans Peder',\n",
       "       'Jensen, Mr. Niels Peder', 'Jensen, Mr. Svend Lauritz',\n",
       "       'Jermyn, Miss. Annie',\n",
       "       'Jerwan, Mrs. Amin S (Marie Marthe Thuillard)',\n",
       "       'Johannesen-Bratthammer, Mr. Bernt', 'Johanson, Mr. Jakob Alfred',\n",
       "       'Johansson, Mr. Erik', 'Johansson, Mr. Gustaf Joel',\n",
       "       'Johansson, Mr. Karl Johan', 'Johnson, Master. Harold Theodor',\n",
       "       'Johnson, Miss. Eleanor Ileen', 'Johnson, Mr. Alfred',\n",
       "       'Johnson, Mr. Malkolm Joackim', 'Johnson, Mr. William Cahoone Jr',\n",
       "       'Johnson, Mrs. Oscar W (Elisabeth Vilhelmina Berg)',\n",
       "       'Johnston, Miss. Catherine Helen \"Carrie\"',\n",
       "       'Johnston, Mr. Andrew G', 'Jonkoff, Mr. Lalio',\n",
       "       'Jonsson, Mr. Carl', 'Jussila, Miss. Katriina',\n",
       "       'Jussila, Miss. Mari Aina', 'Jussila, Mr. Eiriik',\n",
       "       'Kallio, Mr. Nikolai Erland', 'Kalvik, Mr. Johannes Halvorsen',\n",
       "       'Kantor, Mr. Sinai', 'Kantor, Mrs. Sinai (Miriam Sternin)',\n",
       "       'Karaic, Mr. Milan', 'Karlsson, Mr. Nils August',\n",
       "       'Karun, Miss. Manca', 'Kassem, Mr. Fared', 'Keane, Miss. Nora A',\n",
       "       'Keane, Mr. Andrew \"Andy\"', 'Keefe, Mr. Arthur',\n",
       "       'Kelly, Miss. Anna Katherine \"Annie Kate\"', 'Kelly, Miss. Mary',\n",
       "       'Kelly, Mr. James', 'Kelly, Mrs. Florence \"Fannie\"',\n",
       "       'Kent, Mr. Edward Austin', 'Kenyon, Mrs. Frederick R (Marion)',\n",
       "       'Kiernan, Mr. Philip', 'Kilgannon, Mr. Thomas J',\n",
       "       'Kimball, Mr. Edwin Nelson Jr', 'Kink, Mr. Vincenz',\n",
       "       'Kink-Heilmann, Miss. Luise Gretchen',\n",
       "       'Kirkland, Rev. Charles Leonard', 'Klaber, Mr. Herman',\n",
       "       'Klasen, Mr. Klas Albin', 'Knight, Mr. Robert J',\n",
       "       'Kraeff, Mr. Theodor', 'Kvillner, Mr. Johan Henrik Johannesson',\n",
       "       'Lahoud, Mr. Sarkis', 'Lahtinen, Mrs. William (Anna Sylfven)',\n",
       "       'Laitinen, Miss. Kristina Sofia', 'Laleff, Mr. Kristo',\n",
       "       'Lam, Mr. Ali', 'Lam, Mr. Len', 'Landergren, Miss. Aurora Adelia',\n",
       "       'Lang, Mr. Fang', 'Laroche, Miss. Simonne Marie Anne Andree',\n",
       "       'Laroche, Mr. Joseph Philippe Lemercier',\n",
       "       'Laroche, Mrs. Joseph (Juliette Marie Louise Lafargue)',\n",
       "       'Larsson, Mr. August Viktor', 'Larsson, Mr. Bengt Edvin',\n",
       "       'LeRoy, Miss. Bertha', 'Leader, Dr. Alice (Farnham)',\n",
       "       'Leeni, Mr. Fahim (\"Philip Zenni\")',\n",
       "       'Lefebre, Master. Henry Forbes', 'Lefebre, Miss. Ida',\n",
       "       'Lefebre, Miss. Jeannie', 'Lefebre, Miss. Mathilde',\n",
       "       'Lehmann, Miss. Bertha', 'Leinonen, Mr. Antti Gustaf',\n",
       "       'Leitch, Miss. Jessie Wills', 'Lemberopolous, Mr. Peter L',\n",
       "       'Lemore, Mrs. (Amelia Milley)', 'Lennon, Mr. Denis',\n",
       "       'Leonard, Mr. Lionel', 'Lester, Mr. James',\n",
       "       'Lesurer, Mr. Gustave J', 'Levy, Mr. Rene Jacques',\n",
       "       'Lewy, Mr. Ervin G', 'Leyson, Mr. Robert William Norman',\n",
       "       'Lievens, Mr. Rene Aime', 'Lindahl, Miss. Agda Thorilda Viktoria',\n",
       "       'Lindblom, Miss. Augusta Charlotta',\n",
       "       'Lindell, Mr. Edvard Bengtsson', 'Lindqvist, Mr. Eino William',\n",
       "       'Lines, Miss. Mary Conover', 'Ling, Mr. Lee',\n",
       "       'Lobb, Mr. William Arthur',\n",
       "       'Lobb, Mrs. William Arthur (Cordelia K Stanlick)',\n",
       "       'Long, Mr. Milton Clyde', 'Longley, Miss. Gretchen Fiske',\n",
       "       'Louch, Mrs. Charles Alexander (Alice Adelaide Slow)',\n",
       "       'Lovell, Mr. John Hall (\"Henry\")', 'Lulic, Mr. Nikola',\n",
       "       'Lundahl, Mr. Johan Svensson', 'Lurette, Miss. Elise',\n",
       "       'Mack, Mrs. (Mary)', 'Madigan, Miss. Margaret \"Maggie\"',\n",
       "       'Madill, Miss. Georgette Alexandra', 'Madsen, Mr. Fridtjof Arne',\n",
       "       'Maenpaa, Mr. Matti Alexanteri', 'Maioni, Miss. Roberta',\n",
       "       'Maisner, Mr. Simon', 'Mallet, Master. Andre',\n",
       "       'Mallet, Mr. Albert', 'Mamee, Mr. Hanna', 'Mangan, Miss. Mary',\n",
       "       'Mannion, Miss. Margareth', 'Marechal, Mr. Pierre',\n",
       "       'Markoff, Mr. Marin', 'Markun, Mr. Johann',\n",
       "       'Marvin, Mr. Daniel Warner', 'Masselmani, Mrs. Fatima',\n",
       "       'Matthews, Mr. William John',\n",
       "       'Mayne, Mlle. Berthe Antonine (\"Mrs de Villiers\")',\n",
       "       'McCarthy, Mr. Timothy J', 'McCormack, Mr. Thomas Joseph',\n",
       "       'McCoy, Miss. Agnes', 'McCoy, Mr. Bernard',\n",
       "       'McDermott, Miss. Brigdet Delia', 'McEvoy, Mr. Michael',\n",
       "       'McGough, Mr. James Robert', 'McGovern, Miss. Mary',\n",
       "       'McGowan, Miss. Anna \"Annie\"', 'McKane, Mr. Peter David',\n",
       "       'McMahon, Mr. Martin', 'McNamee, Mr. Neal',\n",
       "       'Meanwell, Miss. (Marion Ogden)',\n",
       "       'Meek, Mrs. Thomas (Annie Louise Rowley)',\n",
       "       'Mellinger, Miss. Madeleine Violet',\n",
       "       'Mellinger, Mrs. (Elizabeth Anne Maidment)',\n",
       "       'Mellors, Mr. William John', 'Meo, Mr. Alfonzo',\n",
       "       'Mernagh, Mr. Robert', 'Meyer, Mr. August',\n",
       "       'Meyer, Mr. Edgar Joseph', 'Meyer, Mrs. Edgar Joseph (Leila Saks)',\n",
       "       'Millet, Mr. Francis Davis', 'Milling, Mr. Jacob Christian',\n",
       "       'Minahan, Dr. William Edward', 'Minahan, Miss. Daisy E',\n",
       "       'Mineff, Mr. Ivan', 'Mionoff, Mr. Stoytcho',\n",
       "       'Mitchell, Mr. Henry Michael', 'Mitkoff, Mr. Mito',\n",
       "       'Mockler, Miss. Helen Mary \"Ellie\"', 'Moen, Mr. Sigurd Hansen',\n",
       "       'Molson, Mr. Harry Markland', 'Montvila, Rev. Juozas',\n",
       "       'Moor, Master. Meier', 'Moor, Mrs. (Beila)',\n",
       "       'Moore, Mr. Leonard Charles', 'Moran, Miss. Bertha',\n",
       "       'Moran, Mr. Daniel J', 'Moran, Mr. James', 'Moraweck, Dr. Ernest',\n",
       "       'Morley, Mr. Henry Samuel (\"Mr Henry Marshall\")',\n",
       "       'Morley, Mr. William', 'Morrow, Mr. Thomas Rowan',\n",
       "       'Moss, Mr. Albert Johan', 'Moubarek, Master. Gerios',\n",
       "       'Moubarek, Master. Halim Gonios (\"William George\")',\n",
       "       'Moussa, Mrs. (Mantoura Boulos)', 'Moutal, Mr. Rahamin Haim',\n",
       "       'Mudd, Mr. Thomas Charles', 'Mullens, Miss. Katherine \"Katie\"',\n",
       "       'Murdlin, Mr. Joseph', 'Murphy, Miss. Katherine \"Kate\"',\n",
       "       'Murphy, Miss. Margaret Jane',\n",
       "       'Myhrman, Mr. Pehr Fabian Oliver Malkolm', 'Naidenoff, Mr. Penko',\n",
       "       'Najib, Miss. Adele Kiamie \"Jane\"', 'Nakid, Miss. Maria (\"Mary\")',\n",
       "       'Nakid, Mr. Sahid', 'Nankoff, Mr. Minko', 'Nasser, Mr. Nicholas',\n",
       "       'Nasser, Mrs. Nicholas (Adele Achem)', 'Natsch, Mr. Charles H',\n",
       "       'Navratil, Master. Edmond Roger', 'Navratil, Master. Michel M',\n",
       "       'Navratil, Mr. Michel (\"Louis M Hoffman\")', 'Nenkoff, Mr. Christo',\n",
       "       'Newell, Miss. Madeleine', 'Newell, Miss. Marjorie',\n",
       "       'Newell, Mr. Arthur Webster', 'Newsom, Miss. Helen Monypeny',\n",
       "       'Nicholls, Mr. Joseph Charles', 'Nicholson, Mr. Arthur Ernest',\n",
       "       'Nicola-Yarred, Master. Elias', 'Nicola-Yarred, Miss. Jamila',\n",
       "       'Nilsson, Miss. Helmina Josefina',\n",
       "       'Nirva, Mr. Iisakki Antino Aijo', 'Niskanen, Mr. Juha',\n",
       "       'Norman, Mr. Robert Douglas', 'Nosworthy, Mr. Richard Cater',\n",
       "       'Novel, Mr. Mansouer', 'Nye, Mrs. (Elizabeth Ramell)',\n",
       "       'Nysten, Miss. Anna Sofia', 'Nysveen, Mr. Johan Hansen',\n",
       "       \"O'Brien, Mr. Thomas\", \"O'Brien, Mr. Timothy\",\n",
       "       'O\\'Brien, Mrs. Thomas (Johanna \"Hannah\" Godfrey)',\n",
       "       \"O'Connell, Mr. Patrick D\", \"O'Connor, Mr. Maurice\",\n",
       "       \"O'Driscoll, Miss. Bridget\", 'O\\'Dwyer, Miss. Ellen \"Nellie\"',\n",
       "       'O\\'Leary, Miss. Hanora \"Norah\"', \"O'Sullivan, Miss. Bridget Mary\",\n",
       "       'Odahl, Mr. Nils Martin', 'Ohman, Miss. Velin',\n",
       "       'Olsen, Mr. Henry Margido', 'Olsen, Mr. Karl Siegwart Andreas',\n",
       "       'Olsen, Mr. Ole Martin', 'Olsson, Miss. Elina',\n",
       "       'Olsson, Mr. Nils Johan Goransson', 'Olsvigen, Mr. Thor Anderson',\n",
       "       'Oreskovic, Miss. Marija', 'Oreskovic, Mr. Luka',\n",
       "       'Osen, Mr. Olaf Elon', 'Osman, Mrs. Mara',\n",
       "       'Ostby, Mr. Engelhart Cornelius', 'Otter, Mr. Richard',\n",
       "       'Padro y Manent, Mr. Julian', 'Pain, Dr. Alfred',\n",
       "       'Palsson, Master. Gosta Leonard', 'Palsson, Miss. Stina Viola',\n",
       "       'Palsson, Miss. Torborg Danira',\n",
       "       'Palsson, Mrs. Nils (Alma Cornelia Berglund)',\n",
       "       'Panula, Master. Eino Viljami', 'Panula, Master. Juha Niilo',\n",
       "       'Panula, Master. Urho Abraham', 'Panula, Mr. Ernesti Arvid',\n",
       "       'Panula, Mr. Jaako Arnold',\n",
       "       'Panula, Mrs. Juha (Maria Emilia Ojala)',\n",
       "       'Parkes, Mr. Francis \"Frank\"', 'Parr, Mr. William Henry Marsh',\n",
       "       'Parrish, Mrs. (Lutie Davis)', 'Partner, Mr. Austen',\n",
       "       'Pasic, Mr. Jakob', 'Patchett, Mr. George', 'Paulner, Mr. Uscher',\n",
       "       'Pavlovic, Mr. Stefo', 'Pears, Mr. Thomas Clinton',\n",
       "       'Pears, Mrs. Thomas (Edith Wearne)', 'Peduzzi, Mr. Joseph',\n",
       "       'Pekoniemi, Mr. Edvard',\n",
       "       'Penasco y Castellana, Mr. Victor de Satode',\n",
       "       'Penasco y Castellana, Mrs. Victor de Satode (Maria Josefa Perez de Soto y Vallejo)',\n",
       "       'Pengelly, Mr. Frederick William', 'Perkin, Mr. John Henry',\n",
       "       'Pernot, Mr. Rene', 'Perreault, Miss. Anne',\n",
       "       'Persson, Mr. Ernst Ulrik', 'Peter, Miss. Anna',\n",
       "       'Peter, Mrs. Catherine (Catherine Rizk)', 'Peters, Miss. Katie',\n",
       "       'Petranec, Miss. Matilda', 'Petroff, Mr. Nedelio',\n",
       "       'Petroff, Mr. Pastcho (\"Pentcho\")', 'Petterson, Mr. Johan Emil',\n",
       "       'Pettersson, Miss. Ellen Natalia',\n",
       "       'Peuchen, Major. Arthur Godfrey',\n",
       "       'Phillips, Miss. Kate Florence (\"Mrs Kate Louise Phillips Marshall\")',\n",
       "       'Pickard, Mr. Berk (Berk Trembisky)', 'Pinsky, Mrs. (Rosa)',\n",
       "       'Plotcharsky, Mr. Vasil', 'Ponesell, Mr. Martin',\n",
       "       'Porter, Mr. Walter Chamberlain',\n",
       "       'Potter, Mrs. Thomas Jr (Lily Alexenia Wilson)',\n",
       "       'Quick, Miss. Phyllis May',\n",
       "       'Quick, Mrs. Frederick Charles (Jane Richards)',\n",
       "       'Radeff, Mr. Alexander', 'Razi, Mr. Raihed',\n",
       "       'Reed, Mr. James George', 'Reeves, Mr. David', 'Rekic, Mr. Tido',\n",
       "       'Renouf, Mr. Peter Henry',\n",
       "       'Renouf, Mrs. Peter Henry (Lillian Jefferys)',\n",
       "       'Reuchlin, Jonkheer. John George', 'Reynaldo, Ms. Encarnacion',\n",
       "       'Rice, Master. Arthur', 'Rice, Master. Eric',\n",
       "       'Rice, Master. Eugene', 'Rice, Master. George Hugh',\n",
       "       'Rice, Mrs. William (Margaret Norton)', 'Richard, Mr. Emile',\n",
       "       'Richards, Master. George Sibley',\n",
       "       'Richards, Master. William Rowe',\n",
       "       'Richards, Mrs. Sidney (Emily Hocking)', 'Ridsdale, Miss. Lucy',\n",
       "       'Ringhini, Mr. Sante', 'Rintamaki, Mr. Matti',\n",
       "       'Risien, Mr. Samuel Beard', 'Robbins, Mr. Victor',\n",
       "       'Robert, Mrs. Edward Scott (Elisabeth Walton McMillan)',\n",
       "       'Robins, Mrs. Alexander A (Grace Charity Laury)',\n",
       "       'Roebling, Mr. Washington Augustus II', 'Rogers, Mr. William John',\n",
       "       'Romaine, Mr. Charles Hallace (\"Mr C Rolmane\")',\n",
       "       'Rommetvedt, Mr. Knud Paust', 'Rood, Mr. Hugh Roscoe',\n",
       "       'Rosblom, Mr. Viktor Richard',\n",
       "       'Rosblom, Mrs. Viktor (Helena Wilhelmina)', 'Ross, Mr. John Hugo',\n",
       "       'Rothes, the Countess. of (Lucy Noel Martha Dyer-Edwards)',\n",
       "       'Rothschild, Mrs. Martin (Elizabeth L. Barrett)',\n",
       "       'Rouse, Mr. Richard Henry', 'Rugg, Miss. Emily',\n",
       "       'Rush, Mr. Alfred George John', 'Ryan, Mr. Patrick',\n",
       "       'Ryerson, Miss. Emily Borie',\n",
       "       'Ryerson, Miss. Susan Parker \"Suzette\"', 'Saad, Mr. Amin',\n",
       "       'Saad, Mr. Khalil', 'Saalfeld, Mr. Adolphe',\n",
       "       'Sadlier, Mr. Matthew', 'Sage, Master. Thomas Henry',\n",
       "       'Sage, Miss. Constance Gladys',\n",
       "       'Sage, Miss. Dorothy Edith \"Dolly\"', 'Sage, Miss. Stella Anna',\n",
       "       'Sage, Mr. Douglas Bullen', 'Sage, Mr. Frederick',\n",
       "       'Sage, Mr. George John Jr', 'Sagesser, Mlle. Emma',\n",
       "       'Salkjelsvik, Miss. Anna Kristine', 'Salonen, Mr. Johan Werner',\n",
       "       'Samaan, Mr. Youssef', 'Sandstrom, Miss. Marguerite Rut',\n",
       "       'Sandstrom, Mrs. Hjalmar (Agnes Charlotta Bengtsson)',\n",
       "       'Saundercock, Mr. William Henry', 'Sawyer, Mr. Frederick Charles',\n",
       "       'Scanlan, Mr. James', 'Sdycoff, Mr. Todor',\n",
       "       'Sedgwick, Mr. Charles Frederick Waddington',\n",
       "       'Serepeca, Miss. Augusta', 'Seward, Mr. Frederic Kimber',\n",
       "       'Sharp, Mr. Percival James R', 'Sheerlinck, Mr. Jan Baptist',\n",
       "       'Shellard, Mr. Frederick William',\n",
       "       'Shelley, Mrs. William (Imanita Parrish Hall)',\n",
       "       'Shorney, Mr. Charles Joseph', 'Shutes, Miss. Elizabeth W',\n",
       "       'Silven, Miss. Lyyli Karoliina',\n",
       "       'Silverthorne, Mr. Spencer Victor', 'Silvey, Mr. William Baird',\n",
       "       'Silvey, Mrs. William Baird (Alice Munger)', 'Simmons, Mr. John',\n",
       "       'Simonius-Blumer, Col. Oberst Alfons', 'Sinkkonen, Miss. Anna',\n",
       "       'Sirayanian, Mr. Orsen', 'Sirota, Mr. Maurice',\n",
       "       'Sivic, Mr. Husein', 'Sivola, Mr. Antti Wilhelm',\n",
       "       'Sjoblom, Miss. Anna Sofia', 'Sjostedt, Mr. Ernst Adolf',\n",
       "       'Skoog, Master. Harald', 'Skoog, Master. Karl Thorsten',\n",
       "       'Skoog, Miss. Mabel', 'Skoog, Miss. Margit Elizabeth',\n",
       "       'Skoog, Mr. Wilhelm',\n",
       "       'Skoog, Mrs. William (Anna Bernhardina Karlsson)',\n",
       "       'Slabenoff, Mr. Petco', 'Slayter, Miss. Hilda Mary',\n",
       "       'Slemen, Mr. Richard James', 'Slocovski, Mr. Selman Francis',\n",
       "       'Sloper, Mr. William Thompson', 'Smart, Mr. John Montgomery',\n",
       "       'Smiljanic, Mr. Mile', 'Smith, Miss. Marion Elsie',\n",
       "       'Smith, Mr. James Clinch', 'Smith, Mr. Richard William',\n",
       "       'Smith, Mr. Thomas', 'Sobey, Mr. Samuel James Hayden',\n",
       "       'Soholt, Mr. Peter Andreas Lauritz Andersen',\n",
       "       'Somerton, Mr. Francis William',\n",
       "       'Spedden, Mrs. Frederic Oakley (Margaretta Corning Stone)',\n",
       "       'Spencer, Mrs. William Augustus (Marie Eugenie)',\n",
       "       'Stahelin-Maeglin, Dr. Max', 'Staneff, Mr. Ivan',\n",
       "       'Stankovic, Mr. Ivan', 'Stanley, Miss. Amy Zillah Elsie',\n",
       "       'Stanley, Mr. Edward Roland', 'Stead, Mr. William Thomas',\n",
       "       'Stephenson, Mrs. Walter Bertram (Martha Eustis)',\n",
       "       'Stewart, Mr. Albert A',\n",
       "       'Stone, Mrs. George Nelson (Martha Evelyn)',\n",
       "       'Stoytcheff, Mr. Ilia', 'Strandberg, Miss. Ida Sofia',\n",
       "       'Stranden, Mr. Juho', 'Strom, Miss. Telma Matilda',\n",
       "       'Strom, Mrs. Wilhelm (Elna Matilda Persson)',\n",
       "       'Sunderland, Mr. Victor Francis', 'Sundman, Mr. Johan Julian',\n",
       "       'Sutehall, Mr. Henry Jr', 'Sutton, Mr. Frederick',\n",
       "       'Svensson, Mr. Johan', 'Svensson, Mr. Olof',\n",
       "       'Swift, Mrs. Frederick Joel (Margaret Welles Barron)',\n",
       "       'Taussig, Miss. Ruth', 'Taussig, Mr. Emil',\n",
       "       'Taussig, Mrs. Emil (Tillie Mandelbaum)',\n",
       "       'Taylor, Mr. Elmer Zebley',\n",
       "       'Taylor, Mrs. Elmer Zebley (Juliet Cummins Wright)',\n",
       "       'Thayer, Mr. John Borland', 'Thayer, Mr. John Borland Jr',\n",
       "       'Thayer, Mrs. John Borland (Marian Longstreth Morris)',\n",
       "       'Theobald, Mr. Thomas Leonard', 'Thomas, Master. Assad Alexander',\n",
       "       'Thorne, Mrs. Gertrude Maybelle', 'Thorneycroft, Mr. Percival',\n",
       "       'Thorneycroft, Mrs. Percival (Florence Kate White)',\n",
       "       'Tikkanen, Mr. Juho', 'Tobin, Mr. Roger', 'Todoroff, Mr. Lalio',\n",
       "       'Tomlin, Mr. Ernest Portage', 'Toomey, Miss. Ellen',\n",
       "       'Torber, Mr. Ernst William', 'Tornquist, Mr. William Henry',\n",
       "       'Toufik, Mr. Nakli', 'Touma, Mrs. Darwis (Hanne Youssef Razi)',\n",
       "       'Troupiansky, Mr. Moses Aaron', 'Trout, Mrs. William H (Jessie L)',\n",
       "       'Troutt, Miss. Edwina Celia \"Winnie\"', 'Turcin, Mr. Stjepan',\n",
       "       'Turja, Miss. Anna Sofia', 'Turkula, Mrs. (Hedwig)',\n",
       "       'Turpin, Mr. William John Robert',\n",
       "       'Turpin, Mrs. William John Robert (Dorothy Ann Wonnacott)',\n",
       "       'Uruchurtu, Don. Manuel E', 'Van Impe, Miss. Catharina',\n",
       "       'Van Impe, Mr. Jean Baptiste',\n",
       "       'Van Impe, Mrs. Jean Baptiste (Rosalie Paula Govaert)',\n",
       "       'Van der hoef, Mr. Wyckoff', 'Vande Velde, Mr. Johannes Joseph',\n",
       "       'Vande Walle, Mr. Nestor Cyriel', 'Vanden Steen, Mr. Leo Peter',\n",
       "       'Vander Cruyssen, Mr. Victor',\n",
       "       'Vander Planke, Miss. Augusta Maria',\n",
       "       'Vander Planke, Mr. Leo Edmondus',\n",
       "       'Vander Planke, Mrs. Julius (Emelia Maria Vandemoortele)',\n",
       "       'Vestrom, Miss. Hulda Amanda Adolfina', 'Vovk, Mr. Janko',\n",
       "       'Waelens, Mr. Achille', 'Walker, Mr. William Anderson',\n",
       "       'Ward, Miss. Anna',\n",
       "       'Warren, Mrs. Frank Manley (Anna Sophia Atkinson)',\n",
       "       'Watson, Mr. Ennis Hastings',\n",
       "       'Watt, Mrs. James (Elizabeth \"Bessie\" Inglis Milne)',\n",
       "       'Webber, Miss. Susan', 'Webber, Mr. James', 'Weir, Col. John',\n",
       "       'Weisz, Mrs. Leopold (Mathilde Francoise Pede)',\n",
       "       'Wells, Miss. Joan', 'West, Miss. Constance Mirium',\n",
       "       'West, Mr. Edwy Arthur', 'West, Mrs. Edwy Arthur (Ada Mary Worth)',\n",
       "       'Wheadon, Mr. Edward H', 'White, Mr. Percival Wayland',\n",
       "       'White, Mr. Richard Frasar', 'Wick, Miss. Mary Natalie',\n",
       "       'Wick, Mrs. George Dennick (Mary Hitchcock)',\n",
       "       'Widegren, Mr. Carl/Charles Peter', 'Widener, Mr. Harry Elkins',\n",
       "       'Wiklund, Mr. Jakob Alfred', 'Wilhelms, Mr. Charles',\n",
       "       'Willey, Mr. Edward', 'Williams, Mr. Charles Duane',\n",
       "       'Williams, Mr. Charles Eugene',\n",
       "       'Williams, Mr. Howard Hugh \"Harry\"', 'Williams, Mr. Leslie',\n",
       "       'Williams-Lambert, Mr. Fletcher Fellows', 'Windelov, Mr. Einar',\n",
       "       'Wiseman, Mr. Phillippe', 'Woolner, Mr. Hugh',\n",
       "       'Wright, Mr. George', 'Yasbeck, Mr. Antoni',\n",
       "       'Yasbeck, Mrs. Antoni (Selini Alexander)',\n",
       "       'Young, Miss. Marie Grice', 'Youseff, Mr. Gerious',\n",
       "       'Yousif, Mr. Wazli', 'Yousseff, Mr. Gerious',\n",
       "       'Yrois, Miss. Henriette (\"Mrs Harbeck\")', 'Zabour, Miss. Hileni',\n",
       "       'Zabour, Miss. Thamine', 'Zimmerman, Mr. Leo',\n",
       "       'de Messemaeker, Mrs. Guillaume Joseph (Emma)',\n",
       "       'de Mulder, Mr. Theodore', 'de Pelsmaeker, Mr. Alfons',\n",
       "       'del Carlo, Mr. Sebastiano', 'van Billiard, Mr. Austin Blyler',\n",
       "       'van Melkebeke, Mr. Philemon'], dtype=object)"
      ]
     },
     "execution_count": 67,
     "metadata": {},
     "output_type": "execute_result"
    }
   ],
   "source": [
    "np.sort(df['Name'].unique())"
   ]
  },
  {
   "cell_type": "code",
   "execution_count": 68,
   "metadata": {},
   "outputs": [
    {
     "name": "stdout",
     "output_type": "stream",
     "text": [
      "Missingness percentage of Age when the value of Embarked equals C: 23.0%\n",
      "Missingness percentage of Age when the value of Embarked equals Q: 64.0%\n",
      "Missingness percentage of Age when the value of Embarked equals S: 14.0%\n"
     ]
    }
   ],
   "source": [
    "missingness_by_value('Age', 'Embarked')"
   ]
  },
  {
   "cell_type": "markdown",
   "metadata": {},
   "source": [
    "#### Comment:\n",
    "According to the matrices, there are fewer missing values of 'Cabin' at smaller value of 'Pclass' and 'Ticket'. \n",
    "With the calculation of 'Cabin' missingness, the percentageis 19% for Pclass 1, 91% for Pclass 2, 98% for Pclass 3.\n",
    "Most tickets are unique, the pure-digit values are smaller than the rest. After separating them into two groups, their missingness were calculated respectively and their results are the same.It will take further investigation to identify what ticket groups have fewer missingness.\n",
    "\n",
    "According to the webpage (https://www.encyclopedia-titanica.org/cabins.html), 'The allocation of cabins on the Titanic is a source of continuing interest and endless speculation. Apart from the recollections of survivors and a few tickets and boarding cards, the only authoritative source of cabin data is the incomplete first class passenger list recovered with the body of steward Herbert Cave. The list below includes this data and includes the likely occupants of some other cabins determined by other means'. It's consistent with my finding from the data analysis. So there are fewer missing values of 'Cabin'for Pclass 1 and the survivors.\n",
    "\n",
    "Besides, the matices also show that there are fewer missing values of 'Age' at smaller value of 'Name' and bigger value of 'Embarked'.\n",
    "Based on the calculation, the missingness of 'Age' is 64% for Embarked Q, much higher than for Embarkek C or S (23%, 14%). \n",
    "Each name values are unique. It will take further investigation to identify what name groups have more missingness."
   ]
  },
  {
   "cell_type": "markdown",
   "metadata": {},
   "source": [
    "#### 4.2.2 Check the dependency of missingness between columns ('Cabin', 'Age')"
   ]
  },
  {
   "cell_type": "code",
   "execution_count": 72,
   "metadata": {},
   "outputs": [
    {
     "data": {
      "image/png": "[encoded data removed]",
      "text/plain": [
       "<Figure size 360x360 with 2 Axes>"
      ]
     },
     "metadata": {},
     "output_type": "display_data"
    }
   ],
   "source": [
    "msno.heatmap(df[['Age', 'Cabin']], figsize=(5,5));"
   ]
  },
  {
   "cell_type": "markdown",
   "metadata": {},
   "source": [
    "#### Comment:\n",
    "The dependency of missingness between 'Cabin' and 'Age' is low."
   ]
  },
  {
   "cell_type": "markdown",
   "metadata": {},
   "source": [
    "#### Conclusion:\n",
    "Rubin (1976) classified missing data problems into three categories:\n",
    "- MCAR, missing completely at random. If the probability of being missing is the same for all cases, then the data are said to be missing completely at random (MCAR). This effectively implies that causes of the missing data are unrelated to the data. \n",
    "- MAR, missing at random.If the probability of being missing is the same only within groups defined by the observed data, then the data are missing at random (MAR). MAR is a much broader class than MCAR.\n",
    "- MNAR, missing not at random.If neither MCAR nor MAR holds, then we speak of missing not at random (MNAR).\n",
    "Reference: Flexible Imputation of Missing Data, Stef van Buuren, https://stefvanbuuren.name/fimd/sec-MCAR.html\n",
    "\n",
    "Since 'Embarked' has only two missing values, it can be categorized as MCAR (missing compeltely at random).\n",
    "\n",
    "'Cabin' has 77% missing values. Its missingness depends on 'Survived' and 'Pclass' variables. So it's categorized as MAR (missing at random).\n",
    "\n",
    "'Age' has 20% missing values. Its missingness is related with 'Embarked' because the missing percentage is 2~3 times higher for Embarkd Q than for Embarked C or S. So it's also categorized as MAR."
   ]
  },
  {
   "cell_type": "code",
   "execution_count": null,
   "metadata": {},
   "outputs": [],
   "source": []
  }
 ],
 "metadata": {
  "kernelspec": {
   "display_name": "Python 3",
   "language": "python",
   "name": "python3"
  },
  "language_info": {
   "codemirror_mode": {
    "name": "ipython",
    "version": 3
   },
   "file_extension": ".py",
   "mimetype": "text/x-python",
   "name": "python",
   "nbconvert_exporter": "python",
   "pygments_lexer": "ipython3",
   "version": "3.6.9"
  }
 },
 "nbformat": 4,
 "nbformat_minor": 2
}
