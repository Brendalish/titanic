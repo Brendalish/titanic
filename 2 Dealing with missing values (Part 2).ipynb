{
 "cells": [
  {
   "cell_type": "markdown",
   "metadata": {},
   "source": [
    "## Background of this notebook"
   ]
  },
  {
   "cell_type": "markdown",
   "metadata": {},
   "source": [
    "In my previous notebook \"Dealing with missing values (Part 1)\", the number and types of missingness were analyzed for the combination of train data set and test data set. Based on the analysis results, the imputation was made for 'Fare' and 'Embarked' and the 'Cabin' variable was dropped.\n",
    "\n",
    "In this notebook, I'll work on the imputation for 'Age'."
   ]
  },
  {
   "cell_type": "markdown",
   "metadata": {},
   "source": [
    "## Load packages and modules"
   ]
  },
  {
   "cell_type": "markdown",
   "metadata": {},
   "source": [
    "### Load libraries, packages and modules"
   ]
  },
  {
   "cell_type": "code",
   "execution_count": 1,
   "metadata": {},
   "outputs": [],
   "source": [
    "import pandas as pd\n",
    "import matplotlib.pyplot as plt\n",
    "%matplotlib inline\n",
    "import numpy as np\n",
    "import seaborn as sns\n",
    "plt.style.use('fivethirtyeight')"
   ]
  },
  {
   "cell_type": "markdown",
   "metadata": {},
   "source": [
    "### Load the two datasets and combine them"
   ]
  },
  {
   "cell_type": "code",
   "execution_count": 2,
   "metadata": {},
   "outputs": [],
   "source": [
    "#load train data\n",
    "#train_df = pd.read_csv('../input/titanic/train.csv')\n",
    "#test_df = pd.read_csv('../input/titanic/test.csv')\n",
    "train_df = pd.read_csv('data/train.csv')\n",
    "test_df = pd.read_csv('data/test.csv')\n",
    "#create a new column 'Is_train' to differentiate the training data from the testing data, 1 = training, 0 = testing\n",
    "train_df['Is_train'] = 1\n",
    "test_df['Is_train'] = 0\n",
    "#create the 'Survived' column filled with null values in the testing data\n",
    "#so as to share the same columns as the training data\n",
    "test_df['Survived'] = np.nan\n",
    "#combine the trainning data and testing data\n",
    "full_df = pd.concat([train_df, test_df], ignore_index=True)\n",
    "# delete the two dataframes which are no longer needed\n",
    "del train_df, test_df"
   ]
  },
  {
   "cell_type": "markdown",
   "metadata": {},
   "source": [
    "### Load the functions"
   ]
  },
  {
   "cell_type": "code",
   "execution_count": 3,
   "metadata": {},
   "outputs": [],
   "source": [
    "def compare_hists(col_name, bins=None, df=full_df):\n",
    "    plt.hist(df[df.Survived==1][col_name].dropna(), bins=bins, density=False, label='survived', alpha=0.5)\n",
    "    plt.hist(df[df.Survived==0][col_name].dropna(), bins=bins, density=False, label='not survived',alpha=0.5)\n",
    "    plt.title('Histograms of {}'.format(col_name))\n",
    "    plt.xlabel(col_name)\n",
    "    plt.ylabel('Number')\n",
    "    plt.legend(loc='upper right')\n",
    "    plt.show()"
   ]
  },
  {
   "cell_type": "markdown",
   "metadata": {},
   "source": [
    "## Prepare data"
   ]
  },
  {
   "cell_type": "markdown",
   "metadata": {},
   "source": [
    "### Fix some data errors and fill in a couple of missing age values\n",
    "\n",
    "References:   \n",
    "[Some SibSp/Parch values are wrong](https://www.kaggle.com/c/titanic/discussion/39787)   \n",
    "[Miss Erna Alexandra Andersson](https://www.encyclopedia-titanica.org/titanic-survivor/erna-andersson.html)   \n",
    "[Miss Ida Augusta Margareta Andersson](https://www.encyclopedia-titanica.org/titanic-victim/ida-augusta-margareta-andersson.html)"
   ]
  },
  {
   "cell_type": "code",
   "execution_count": 4,
   "metadata": {},
   "outputs": [],
   "source": [
    "#fix the errors and fill in the missing age values for the Sammann family\n",
    "full_df.loc[279, ['SibSp', 'Parch']]= 0, 2\n",
    "full_df.loc[1283, ['SibSp', 'Parch']] = 1, 1\n",
    "full_df.loc[987, 'Age'] = 26\n",
    "full_df.loc[1188, ['Age', 'SibSp', 'Parch']] = 40, 0, 2\n",
    "full_df.loc[48, ['Age', 'SibSp', 'Parch']] = 16, 1, 1\n",
    "full_df.loc[920, ['Age', 'SibSp', 'Parch']] = 18, 1, 1\n",
    "full_df.loc[68, ['SibSp', 'Parch']] = 0, 0\n",
    "full_df.loc[1105, ['SibSp', 'Parch']] = 0, 0\n",
    "full_df.loc[736, ['SibSp', 'Parch']] = 0, 4\n",
    "full_df.loc[[436, 1058, 86, 147], ['SibSp', 'Parch']] = 3, 1\n",
    "\n",
    "#fix two more errors were found during my deep analysis of fare variable\n",
    "full_df.loc[[451, 490], 'Fare'] = 6.9667"
   ]
  },
  {
   "cell_type": "markdown",
   "metadata": {},
   "source": [
    "### Handling the missing values of 'Fare' and 'Embarked' and the 'Cabin'"
   ]
  },
  {
   "cell_type": "code",
   "execution_count": 5,
   "metadata": {},
   "outputs": [],
   "source": [
    "full_df.loc[1043, 'Fare'] = 7.8292\n",
    "full_df.loc[[61, 829], 'Embarked'] = 'S'\n",
    "df = full_df.drop('Cabin', axis=1)\n",
    "del full_df"
   ]
  },
  {
   "cell_type": "markdown",
   "metadata": {},
   "source": [
    "## Impute 'Age'"
   ]
  },
  {
   "cell_type": "markdown",
   "metadata": {},
   "source": [
    "### Review how survival rates vary with age"
   ]
  },
  {
   "cell_type": "code",
   "execution_count": 6,
   "metadata": {},
   "outputs": [
    {
     "data": {
      "image/png": "[encoded data removed]",
      "text/plain": [
       "<Figure size 432x288 with 1 Axes>"
      ]
     },
     "metadata": {
      "needs_background": "light"
     },
     "output_type": "display_data"
    }
   ],
   "source": [
    "compare_hists('Age', bins=np.arange(0, 90, 5))"
   ]
  },
  {
   "cell_type": "code",
   "execution_count": 7,
   "metadata": {},
   "outputs": [
    {
     "data": {
      "image/png": "[encoded data removed]",
      "text/plain": [
       "<Figure size 432x288 with 1 Axes>"
      ]
     },
     "metadata": {
      "needs_background": "light"
     },
     "output_type": "display_data"
    }
   ],
   "source": [
    "compare_hists('Age', bins=np.arange(21), df=df[df.Age<20])"
   ]
  },
  {
   "cell_type": "markdown",
   "metadata": {},
   "source": [
    "**Finding:**  \n",
    "The passengers under 15 (esp under 5) had much higher survival rates than the rest.  \n",
    "Very few passengers over 65 survived."
   ]
  },
  {
   "cell_type": "markdown",
   "metadata": {},
   "source": [
    "## Imputation strategy"
   ]
  },
  {
   "cell_type": "markdown",
   "metadata": {},
   "source": [
    "### Impute with the median of all the samples?"
   ]
  },
  {
   "cell_type": "code",
   "execution_count": 8,
   "metadata": {},
   "outputs": [
    {
     "data": {
      "text/plain": [
       "28.0"
      ]
     },
     "execution_count": 8,
     "metadata": {},
     "output_type": "execute_result"
    }
   ],
   "source": [
    "#the median of all the samples\n",
    "df.Age.median()"
   ]
  },
  {
   "cell_type": "markdown",
   "metadata": {},
   "source": [
    "With the imputation with this median, a boy who had a high chance of survival may be categorized as a man who had a low chance of survival. This imputation strategy is not good."
   ]
  },
  {
   "cell_type": "markdown",
   "metadata": {},
   "source": [
    "### Impute with the median of the samples of each Pclass?\n",
    "\n",
    "In my notebook \"titanic-eda-with-detailed-explanation\", Pclass has the highest coorelation with Age than the rest features."
   ]
  },
  {
   "cell_type": "code",
   "execution_count": 9,
   "metadata": {},
   "outputs": [
    {
     "data": {
      "text/plain": [
       "Pclass\n",
       "1    38.5\n",
       "2    29.0\n",
       "3    24.0\n",
       "Name: Age, dtype: float64"
      ]
     },
     "execution_count": 9,
     "metadata": {},
     "output_type": "execute_result"
    }
   ],
   "source": [
    "#the median values of the samples of three Pclasses\n",
    "df.groupby('Pclass').Age.median()"
   ]
  },
  {
   "cell_type": "markdown",
   "metadata": {},
   "source": [
    "This imputation strategy is not good either for the same reason as the last strategy."
   ]
  },
  {
   "cell_type": "markdown",
   "metadata": {},
   "source": [
    "### Impute with the median of the samples of each Title?"
   ]
  },
  {
   "cell_type": "code",
   "execution_count": 10,
   "metadata": {},
   "outputs": [
    {
     "data": {
      "text/plain": [
       "0"
      ]
     },
     "execution_count": 10,
     "metadata": {},
     "output_type": "execute_result"
    }
   ],
   "source": [
    "#extract titles from Nmae\n",
    "df['Title'] = df['Name'].str.extract('([A-Za-z]+)\\.', expand=False)\n",
    "#check for missing value(s)\n",
    "df.Title.isnull().sum()"
   ]
  },
  {
   "cell_type": "code",
   "execution_count": 11,
   "metadata": {},
   "outputs": [
    {
     "data": {
      "text/html": [
       "<div>\n",
       "<style scoped>\n",
       "    .dataframe tbody tr th:only-of-type {\n",
       "        vertical-align: middle;\n",
       "    }\n",
       "\n",
       "    .dataframe tbody tr th {\n",
       "        vertical-align: top;\n",
       "    }\n",
       "\n",
       "    .dataframe thead th {\n",
       "        text-align: right;\n",
       "    }\n",
       "</style>\n",
       "<table border=\"1\" class=\"dataframe\">\n",
       "  <thead>\n",
       "    <tr style=\"text-align: right;\">\n",
       "      <th></th>\n",
       "      <th>Mr</th>\n",
       "      <th>Miss</th>\n",
       "      <th>Mrs</th>\n",
       "      <th>Master</th>\n",
       "      <th>Dr</th>\n",
       "      <th>Rev</th>\n",
       "      <th>Col</th>\n",
       "      <th>Mlle</th>\n",
       "      <th>Ms</th>\n",
       "      <th>Major</th>\n",
       "      <th>Capt</th>\n",
       "      <th>Jonkheer</th>\n",
       "      <th>Lady</th>\n",
       "      <th>Don</th>\n",
       "      <th>Mme</th>\n",
       "      <th>Sir</th>\n",
       "      <th>Dona</th>\n",
       "      <th>Countess</th>\n",
       "    </tr>\n",
       "  </thead>\n",
       "  <tbody>\n",
       "    <tr>\n",
       "      <th>Title</th>\n",
       "      <td>757</td>\n",
       "      <td>260</td>\n",
       "      <td>197</td>\n",
       "      <td>61</td>\n",
       "      <td>8</td>\n",
       "      <td>8</td>\n",
       "      <td>4</td>\n",
       "      <td>2</td>\n",
       "      <td>2</td>\n",
       "      <td>2</td>\n",
       "      <td>1</td>\n",
       "      <td>1</td>\n",
       "      <td>1</td>\n",
       "      <td>1</td>\n",
       "      <td>1</td>\n",
       "      <td>1</td>\n",
       "      <td>1</td>\n",
       "      <td>1</td>\n",
       "    </tr>\n",
       "  </tbody>\n",
       "</table>\n",
       "</div>"
      ],
      "text/plain": [
       "        Mr  Miss  Mrs  Master  Dr  Rev  Col  Mlle  Ms  Major  Capt  Jonkheer  \\\n",
       "Title  757   260  197      61   8    8    4     2   2      2     1         1   \n",
       "\n",
       "       Lady  Don  Mme  Sir  Dona  Countess  \n",
       "Title     1    1    1    1     1         1  "
      ]
     },
     "execution_count": 11,
     "metadata": {},
     "output_type": "execute_result"
    }
   ],
   "source": [
    "#check the counts of each titles\n",
    "title_counts = df.Title.value_counts()\n",
    "\n",
    "title_counts.to_frame().T"
   ]
  },
  {
   "cell_type": "code",
   "execution_count": 12,
   "metadata": {},
   "outputs": [
    {
     "name": "stdout",
     "output_type": "stream",
     "text": [
      "mix_titles: {'Dr'}\n",
      "female_only_titles {'Mme', 'Countess', 'Miss', 'Dona', 'Ms', 'Lady', 'Mlle', 'Mrs'}\n",
      "male_only_titles {'Sir', 'Jonkheer', 'Capt', 'Rev', 'Mr', 'Master', 'Col', 'Major', 'Don'}\n"
     ]
    }
   ],
   "source": [
    "#check the sex of the passengers with different titles in the full dataset\n",
    "female_titles = set()\n",
    "male_titles = set()\n",
    "for t in df.Title.unique():\n",
    "    if ((df.Title== t) & (df.Sex=='female')).any():\n",
    "        female_titles.add(t)\n",
    "    if ((df.Title== t) & (df.Sex=='male')).any():\n",
    "        male_titles.add(t)\n",
    "\n",
    "mix_titles = female_titles & male_titles\n",
    "female_only_titles = female_titles - mix_titles\n",
    "male_only_titles = male_titles - mix_titles\n",
    "print('mix_titles:', mix_titles)\n",
    "print('female_only_titles', female_only_titles)\n",
    "print('male_only_titles', male_only_titles)"
   ]
  },
  {
   "cell_type": "markdown",
   "metadata": {},
   "source": [
    "**Categorize title by count and sex**\n",
    "\n",
    "|Sex\\Counts|>10|<10|\n",
    "|:--|:--|:--|\n",
    "|Male|'Mr', 'Master'|'Major', 'Sir', 'Don', 'Capt', 'Jonkheer', 'Rev', 'Col'|\n",
    "|Female|'Miss', 'Mrs'|'Ms', 'Lady', 'Countess', 'Mme', 'Mlle', 'Dona'|\n",
    "|Mix||'Dr'|"
   ]
  },
  {
   "cell_type": "code",
   "execution_count": 13,
   "metadata": {},
   "outputs": [
    {
     "data": {
      "image/png": "[encoded data removed]",
      "text/plain": [
       "<Figure size 1440x360 with 1 Axes>"
      ]
     },
     "metadata": {
      "needs_background": "light"
     },
     "output_type": "display_data"
    }
   ],
   "source": [
    "#check the Age ranges of different titles of the full data\n",
    "plt.figure(figsize=(20,5))\n",
    "sns.boxplot(x='Title', y='Age', data=df);"
   ]
  },
  {
   "cell_type": "code",
   "execution_count": 14,
   "metadata": {},
   "outputs": [],
   "source": [
    "#change the title from 'Dr' to 'Dr (female)' for the female\n",
    "df.loc[(df.Title=='Dr') & (df.Sex == 'female'), 'Title'] = 'Dr (female)'"
   ]
  },
  {
   "cell_type": "code",
   "execution_count": 15,
   "metadata": {},
   "outputs": [],
   "source": [
    "#group the titles to combine as many rare titles with the common ones as possible\n",
    "#based on the title definitions and the sex information of the dataset\n",
    "#rare titles are those in less than 10 samples\n",
    "title_groups = {'Male adult': ['Mr', 'Don', 'Rev', 'Dr',  'Sir', 'Major',  'Col', 'Capt', 'Countess', 'Jonkheer'],\n",
    "                'Boy': ['Master'],\n",
    "                'Miss': ['Miss'],\n",
    "               'Other female': ['Mrs', 'Dona', 'Mme', 'Mlle', 'Ms', 'Lady', 'Dr (female)']}"
   ]
  },
  {
   "cell_type": "code",
   "execution_count": 16,
   "metadata": {},
   "outputs": [],
   "source": [
    "df['Title_group'] = df['Title']\n",
    "for k in title_groups:\n",
    "    df['Title_group'].replace(title_groups[k], k, inplace=True)"
   ]
  },
  {
   "cell_type": "code",
   "execution_count": 17,
   "metadata": {},
   "outputs": [
    {
     "data": {
      "text/plain": [
       "Male adult      783\n",
       "Miss            260\n",
       "Other female    205\n",
       "Boy              61\n",
       "Name: Title_group, dtype: int64"
      ]
     },
     "execution_count": 17,
     "metadata": {},
     "output_type": "execute_result"
    }
   ],
   "source": [
    "df['Title_group'].value_counts()"
   ]
  },
  {
   "cell_type": "code",
   "execution_count": 18,
   "metadata": {},
   "outputs": [
    {
     "data": {
      "text/html": [
       "<div>\n",
       "<style scoped>\n",
       "    .dataframe tbody tr th:only-of-type {\n",
       "        vertical-align: middle;\n",
       "    }\n",
       "\n",
       "    .dataframe tbody tr th {\n",
       "        vertical-align: top;\n",
       "    }\n",
       "\n",
       "    .dataframe thead th {\n",
       "        text-align: right;\n",
       "    }\n",
       "</style>\n",
       "<table border=\"1\" class=\"dataframe\">\n",
       "  <thead>\n",
       "    <tr style=\"text-align: right;\">\n",
       "      <th>Title_group</th>\n",
       "      <th>Boy</th>\n",
       "      <th>Male adult</th>\n",
       "      <th>Miss</th>\n",
       "      <th>Other female</th>\n",
       "    </tr>\n",
       "    <tr>\n",
       "      <th>Pclass</th>\n",
       "      <th></th>\n",
       "      <th></th>\n",
       "      <th></th>\n",
       "      <th></th>\n",
       "    </tr>\n",
       "  </thead>\n",
       "  <tbody>\n",
       "    <tr>\n",
       "      <th>1</th>\n",
       "      <td>6.0</td>\n",
       "      <td>42.0</td>\n",
       "      <td>30.0</td>\n",
       "      <td>45.0</td>\n",
       "    </tr>\n",
       "    <tr>\n",
       "      <th>2</th>\n",
       "      <td>2.0</td>\n",
       "      <td>30.0</td>\n",
       "      <td>20.0</td>\n",
       "      <td>30.0</td>\n",
       "    </tr>\n",
       "    <tr>\n",
       "      <th>3</th>\n",
       "      <td>6.0</td>\n",
       "      <td>26.0</td>\n",
       "      <td>18.0</td>\n",
       "      <td>31.0</td>\n",
       "    </tr>\n",
       "  </tbody>\n",
       "</table>\n",
       "</div>"
      ],
      "text/plain": [
       "Title_group  Boy  Male adult  Miss  Other female\n",
       "Pclass                                          \n",
       "1            6.0        42.0  30.0          45.0\n",
       "2            2.0        30.0  20.0          30.0\n",
       "3            6.0        26.0  18.0          31.0"
      ]
     },
     "execution_count": 18,
     "metadata": {},
     "output_type": "execute_result"
    }
   ],
   "source": [
    "pd.pivot_table(df, values='Age', index='Pclass', columns='Title_group', aggfunc='median')"
   ]
  },
  {
   "cell_type": "code",
   "execution_count": 19,
   "metadata": {},
   "outputs": [
    {
     "data": {
      "text/html": [
       "<div>\n",
       "<style scoped>\n",
       "    .dataframe tbody tr th:only-of-type {\n",
       "        vertical-align: middle;\n",
       "    }\n",
       "\n",
       "    .dataframe tbody tr th {\n",
       "        vertical-align: top;\n",
       "    }\n",
       "\n",
       "    .dataframe thead th {\n",
       "        text-align: right;\n",
       "    }\n",
       "</style>\n",
       "<table border=\"1\" class=\"dataframe\">\n",
       "  <thead>\n",
       "    <tr style=\"text-align: right;\">\n",
       "      <th>Title_group</th>\n",
       "      <th>Boy</th>\n",
       "      <th>Male adult</th>\n",
       "      <th>Miss</th>\n",
       "      <th>Other female</th>\n",
       "    </tr>\n",
       "    <tr>\n",
       "      <th>Pclass</th>\n",
       "      <th></th>\n",
       "      <th></th>\n",
       "      <th></th>\n",
       "      <th></th>\n",
       "    </tr>\n",
       "  </thead>\n",
       "  <tbody>\n",
       "    <tr>\n",
       "      <th>1</th>\n",
       "      <td>5</td>\n",
       "      <td>147</td>\n",
       "      <td>59</td>\n",
       "      <td>73</td>\n",
       "    </tr>\n",
       "    <tr>\n",
       "      <th>2</th>\n",
       "      <td>11</td>\n",
       "      <td>147</td>\n",
       "      <td>48</td>\n",
       "      <td>55</td>\n",
       "    </tr>\n",
       "    <tr>\n",
       "      <th>3</th>\n",
       "      <td>37</td>\n",
       "      <td>315</td>\n",
       "      <td>103</td>\n",
       "      <td>49</td>\n",
       "    </tr>\n",
       "  </tbody>\n",
       "</table>\n",
       "</div>"
      ],
      "text/plain": [
       "Title_group  Boy  Male adult  Miss  Other female\n",
       "Pclass                                          \n",
       "1              5         147    59            73\n",
       "2             11         147    48            55\n",
       "3             37         315   103            49"
      ]
     },
     "execution_count": 19,
     "metadata": {},
     "output_type": "execute_result"
    }
   ],
   "source": [
    "pd.pivot_table(df, values='Age', index='Pclass', columns='Title_group', aggfunc='count')"
   ]
  },
  {
   "cell_type": "markdown",
   "metadata": {},
   "source": [
    "Imputation strategy:   \n",
    "The male with 'Master' title are boys while the male with the other titles are adults.   \n",
    "The median age value of the same title group increases with the drecreasing Pclass value in most cases.\n",
    "So imputation with the median values of the subsets by 'Title_group'('Title') and Pclass is better than the previous two.   \n",
    "Due to the small sample size of 'Boy' group and close median values, their imputation is made with the median value of all the samples in that title group."
   ]
  },
  {
   "cell_type": "code",
   "execution_count": 21,
   "metadata": {},
   "outputs": [],
   "source": [
    "#median age for boys\n",
    "boy_median_age = df.loc[df.Title_group == 'Boy', 'Age'].median()\n",
    "#fillna for boys' age\n",
    "df.loc[df.Title_group=='Boy', 'Age'] = df.loc[df.Title_group=='Boy', 'Age'].fillna(boy_median_age)\n",
    "#check the number of missing age values for boys\n",
    "df.loc[df.Title_group == 'Boy', 'Age'].isnull().sum()"
   ]
  },
  {
   "cell_type": "code",
   "execution_count": 39,
   "metadata": {},
   "outputs": [],
   "source": [
    "#filling missing age values for other title groups in different pclasses\n",
    "df['Age'] = df[['Pclass', 'Title_group', 'Age']].\\\n",
    "            groupby(by=['Pclass', 'Title_group']).transform(lambda x: x.fillna(x.median()))"
   ]
  },
  {
   "cell_type": "code",
   "execution_count": 40,
   "metadata": {},
   "outputs": [
    {
     "data": {
      "text/plain": [
       "0"
      ]
     },
     "execution_count": 40,
     "metadata": {},
     "output_type": "execute_result"
    }
   ],
   "source": [
    "#check the number of missing age values\n",
    "df['Age'].isnull().sum()"
   ]
  }
 ],
 "metadata": {
  "kernelspec": {
   "display_name": "Python 3",
   "language": "python",
   "name": "python3"
  },
  "language_info": {
   "codemirror_mode": {
    "name": "ipython",
    "version": 3
   },
   "file_extension": ".py",
   "mimetype": "text/x-python",
   "name": "python",
   "nbconvert_exporter": "python",
   "pygments_lexer": "ipython3",
   "version": "3.6.9"
  },
  "toc": {
   "base_numbering": 1,
   "nav_menu": {},
   "number_sections": true,
   "sideBar": true,
   "skip_h1_title": false,
   "title_cell": "Table of Contents",
   "title_sidebar": "Contents",
   "toc_cell": false,
   "toc_position": {},
   "toc_section_display": true,
   "toc_window_display": true
  }
 },
 "nbformat": 4,
 "nbformat_minor": 2
}
