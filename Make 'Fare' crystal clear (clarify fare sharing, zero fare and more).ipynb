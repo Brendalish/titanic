{
 "cells": [
  {
   "cell_type": "markdown",
   "metadata": {},
   "source": [
    "## Background of this notebook\n",
    "Two things unusual were found with 'Fare' variable, described in my previous [EDA notebook](https://www.kaggle.com/bofangli/titanic-eda-with-detailed-explanation):\n",
    "- Almost half of samples' ticket numbers are not unique, which means that many of the passengers shared the ticket number with someone else.\n",
    "-  All three pclasses overlapped in the fare range below 100.\n",
    "\n",
    "Besides, the 'Fare' variable is strongly correlated with the 'Pclass' variable (-0.71 with 'Spearman method').\n",
    "\n",
    "It made me wonder - What caused the overlapping of fares? How to compare the fare values properly? What additional  information does 'Fare' provide compared to 'Pclass'? So I'm aiming at these three questions in this notebook."
   ]
  },
  {
   "cell_type": "markdown",
   "metadata": {},
   "source": [
    "## Review challenge description"
   ]
  },
  {
   "cell_type": "markdown",
   "metadata": {},
   "source": [
    "The sinking of the Titanic is one of the most infamous shipwrecks in history.\n",
    "\n",
    "On April 15, 1912, during her maiden voyage, the widely considered “unsinkable” RMS Titanic sank after colliding with an iceberg. Unfortunately, there weren’t enough lifeboats for everyone onboard, resulting in the death of 1502 out of 2224 passengers and crew.\n",
    "\n",
    "While there was some element of luck involved in surviving, it seems some groups of people were more likely to survive than others.\n",
    "\n",
    "In this challenge, we are asked build a predictive model that answers the question: “what sorts of people were more likely to survive?” using passenger data (ie name, age, gender, socio-economic class, etc)."
   ]
  },
  {
   "cell_type": "markdown",
   "metadata": {},
   "source": [
    "**Finding:**   \n",
    "Based on the description and [Wikipedia](https://en.wikipedia.org/wiki/Lifeboats_of_the_Titanic), people's chances of survival basically depended on whether they got to board the lifeboats before the Titanic sank."
   ]
  },
  {
   "cell_type": "markdown",
   "metadata": {},
   "source": [
    "## Load packages, modules, data and fix data errors"
   ]
  },
  {
   "cell_type": "markdown",
   "metadata": {},
   "source": [
    "### Load libraries, packages and modules"
   ]
  },
  {
   "cell_type": "code",
   "execution_count": 1,
   "metadata": {},
   "outputs": [],
   "source": [
    "import pandas as pd\n",
    "import matplotlib.pyplot as plt\n",
    "%matplotlib inline\n",
    "import numpy as np\n",
    "import seaborn as sns\n",
    "plt.style.use('fivethirtyeight')\n",
    "\n",
    "from scipy import stats\n",
    "from scipy.stats import skew"
   ]
  },
  {
   "cell_type": "markdown",
   "metadata": {},
   "source": [
    "### Load the two datasets and combine them\n",
    "The relationship (family member, wife-husband, child-parent, etc.) among passengers is a potential influential factor for the survival rate. For its analysis, the data of all the passengers needs to put together. So the training data and the testing data will be combined."
   ]
  },
  {
   "cell_type": "code",
   "execution_count": 2,
   "metadata": {},
   "outputs": [],
   "source": [
    "#load train data\n",
    "train_df = pd.read_csv('data/train.csv')\n",
    "test_df = pd.read_csv('data/test.csv')\n",
    "#create a new column 'Is_train' to differentiate the training data from the testing data, 1 = training, 0 = testing\n",
    "train_df['Is_train'] = 1\n",
    "test_df['Is_train'] = 0\n",
    "#create the 'Survived' column filled with null values in the testing data\n",
    "#so as to share the same columns as the training data\n",
    "test_df['Survived'] = np.nan\n",
    "#combine the trainning data and testing data\n",
    "full_df = pd.concat([train_df, test_df], ignore_index=True)\n",
    "# delete the two dataframes which are no longer needed\n",
    "del train_df, test_df"
   ]
  },
  {
   "cell_type": "code",
   "execution_count": 3,
   "metadata": {},
   "outputs": [
    {
     "data": {
      "text/plain": [
       "1309"
      ]
     },
     "execution_count": 3,
     "metadata": {},
     "output_type": "execute_result"
    }
   ],
   "source": [
    "#Get the total number of passengers in the full dataset\n",
    "len(full_df)"
   ]
  },
  {
   "cell_type": "markdown",
   "metadata": {},
   "source": [
    "**Finding & analysis:**   \n",
    "Our full data has 1309 records, one for each passenger. According to [WIKIPEDIA](https://en.wikipedia.org/wiki/Passengers_of_the_Titanic) and [HISTORY ON THE NET](https://www.historyonthenet.com/how-many-people-were-on-the-titanic), the total number of Titanic's passengers was 1,317 or 1316. So our full data covers 99% of the passenger population, with only 7 or 8 missing records."
   ]
  },
  {
   "cell_type": "markdown",
   "metadata": {},
   "source": [
    "### Fix some data errors and fill in a couple of missing age values\n",
    "\n",
    "References:   \n",
    "[Some SibSp/Parch values are wrong](https://www.kaggle.com/c/titanic/discussion/39787)   \n",
    "[Miss Erna Alexandra Andersson](https://www.encyclopedia-titanica.org/titanic-survivor/erna-andersson.html)   \n",
    "[Miss Ida Augusta Margareta Andersson](https://www.encyclopedia-titanica.org/titanic-victim/ida-augusta-margareta-andersson.html)"
   ]
  },
  {
   "cell_type": "code",
   "execution_count": 4,
   "metadata": {},
   "outputs": [],
   "source": [
    "#fix the errors and fill in the missing age values for the Sammann family\n",
    "indices = [279, 746, 1283, 987, 1188, 48, 920, 13, 610, 119, 541, 542, 813, 850, 68, 1105, 736, 436, 1058, 86, 147]\n",
    "full_df.loc[279, ['SibSp', 'Parch']]= 0, 2\n",
    "full_df.loc[1283, ['SibSp', 'Parch']] = 1, 1\n",
    "full_df.loc[987, 'Age'] = 26\n",
    "full_df.loc[1188, ['Age', 'SibSp', 'Parch']] = 40, 0, 2\n",
    "full_df.loc[48, ['Age', 'SibSp', 'Parch']] = 16, 1, 1\n",
    "full_df.loc[920, ['Age', 'SibSp', 'Parch']] = 18, 1, 1\n",
    "full_df.loc[68, ['SibSp', 'Parch']] = 0, 0\n",
    "full_df.loc[1105, ['SibSp', 'Parch']] = 0, 0\n",
    "full_df.loc[736, ['SibSp', 'Parch']] = 0, 4\n",
    "full_df.loc[[436, 1058, 86, 147], ['SibSp', 'Parch']] = 3, 1"
   ]
  },
  {
   "cell_type": "markdown",
   "metadata": {},
   "source": [
    "## Fare sharing among passengers?\n",
    "According to [encyclopedia-titanic](https://www.encyclopedia-titanica.org/), I found that the passengers sharing the ticket numbers ( I refer them to a ticket group) might share the ticket fares as well, which means that the fare is actually the total fare for them.[LeonardFI](https://www.kaggle.com/c/titanic/discussion/3916) found it too.   \n",
    "\n",
    "The fare values are to be analyzed from these perspecitves:\n",
    "- What is the distribution of the ticekt-group-size values?\n",
    "- Are the fare values of the same ticket group the same?\n",
    "- Do the fare values increase with the increase in the ticket group size?\n",
    "- Is there less fare overlapping between pclasses for the samples with ticket group size of 1?\n",
    "- Are the fare max/medium ratios much smaller?"
   ]
  },
  {
   "cell_type": "markdown",
   "metadata": {},
   "source": [
    "### What is the distribution of the ticket-group-size values?"
   ]
  },
  {
   "cell_type": "code",
   "execution_count": 5,
   "metadata": {},
   "outputs": [],
   "source": [
    "#group the samples by the ticket numbers and count each group\n",
    "ticket_group_sizes = full_df.groupby('Ticket').size()\n",
    "\n",
    "#create a new feature 'Ticket_group_size'    \n",
    "full_df['Ticket_group_size'] = full_df['Ticket'].apply(lambda x: ticket_group_sizes[x])"
   ]
  },
  {
   "cell_type": "code",
   "execution_count": 6,
   "metadata": {},
   "outputs": [
    {
     "data": {
      "text/html": [
       "<div>\n",
       "<style scoped>\n",
       "    .dataframe tbody tr th:only-of-type {\n",
       "        vertical-align: middle;\n",
       "    }\n",
       "\n",
       "    .dataframe tbody tr th {\n",
       "        vertical-align: top;\n",
       "    }\n",
       "\n",
       "    .dataframe thead th {\n",
       "        text-align: right;\n",
       "    }\n",
       "</style>\n",
       "<table border=\"1\" class=\"dataframe\">\n",
       "  <thead>\n",
       "    <tr style=\"text-align: right;\">\n",
       "      <th></th>\n",
       "      <th>Quantity</th>\n",
       "      <th>Percentage</th>\n",
       "    </tr>\n",
       "  </thead>\n",
       "  <tbody>\n",
       "    <tr>\n",
       "      <th>1</th>\n",
       "      <td>713</td>\n",
       "      <td>54.0</td>\n",
       "    </tr>\n",
       "    <tr>\n",
       "      <th>2</th>\n",
       "      <td>264</td>\n",
       "      <td>20.0</td>\n",
       "    </tr>\n",
       "    <tr>\n",
       "      <th>3</th>\n",
       "      <td>147</td>\n",
       "      <td>11.0</td>\n",
       "    </tr>\n",
       "    <tr>\n",
       "      <th>4</th>\n",
       "      <td>64</td>\n",
       "      <td>5.0</td>\n",
       "    </tr>\n",
       "    <tr>\n",
       "      <th>7</th>\n",
       "      <td>35</td>\n",
       "      <td>3.0</td>\n",
       "    </tr>\n",
       "    <tr>\n",
       "      <th>5</th>\n",
       "      <td>35</td>\n",
       "      <td>3.0</td>\n",
       "    </tr>\n",
       "    <tr>\n",
       "      <th>6</th>\n",
       "      <td>24</td>\n",
       "      <td>2.0</td>\n",
       "    </tr>\n",
       "    <tr>\n",
       "      <th>8</th>\n",
       "      <td>16</td>\n",
       "      <td>1.0</td>\n",
       "    </tr>\n",
       "    <tr>\n",
       "      <th>11</th>\n",
       "      <td>11</td>\n",
       "      <td>1.0</td>\n",
       "    </tr>\n",
       "  </tbody>\n",
       "</table>\n",
       "</div>"
      ],
      "text/plain": [
       "    Quantity  Percentage\n",
       "1        713        54.0\n",
       "2        264        20.0\n",
       "3        147        11.0\n",
       "4         64         5.0\n",
       "7         35         3.0\n",
       "5         35         3.0\n",
       "6         24         2.0\n",
       "8         16         1.0\n",
       "11        11         1.0"
      ]
     },
     "execution_count": 6,
     "metadata": {},
     "output_type": "execute_result"
    }
   ],
   "source": [
    "#check the distribution of Ticket_group_size\n",
    "ticket_group_sizes = full_df['Ticket_group_size'].value_counts()\n",
    "ticket_group_percentages = round(full_df['Ticket_group_size'].value_counts()/len(full_df)*100)\n",
    "ticket_groups = pd.concat([ticket_group_sizes, ticket_group_percentages], axis=1)\n",
    "ticket_groups.columns = ['Quantity', 'Percentage']\n",
    "ticket_groups"
   ]
  },
  {
   "cell_type": "code",
   "execution_count": 7,
   "metadata": {},
   "outputs": [
    {
     "data": {
      "image/png": "[encoded data removed]",
      "text/plain": [
       "<Figure size 432x288 with 1 Axes>"
      ]
     },
     "metadata": {},
     "output_type": "display_data"
    }
   ],
   "source": [
    "ticket_group_sizes.plot.pie();"
   ]
  },
  {
   "cell_type": "markdown",
   "metadata": {},
   "source": [
    "**Finding:**   \n",
    "Half of the passengers had unique ticket numbers.   \n",
    "The rest passengers were mainly in the ticket groups of 2 or 3 people.  "
   ]
  },
  {
   "cell_type": "markdown",
   "metadata": {},
   "source": [
    "### Are the fare values of the same ticket group the same?"
   ]
  },
  {
   "cell_type": "code",
   "execution_count": 8,
   "metadata": {},
   "outputs": [
    {
     "data": {
      "text/plain": [
       "['7534']"
      ]
     },
     "execution_count": 8,
     "metadata": {},
     "output_type": "execute_result"
    }
   ],
   "source": [
    "#check whether the fare values within each ticket group are the same\n",
    "are_fares_different = full_df.groupby('Ticket').Fare.nunique() > 1\n",
    "are_fares_different[are_fares_different].index.tolist()"
   ]
  },
  {
   "cell_type": "code",
   "execution_count": 9,
   "metadata": {},
   "outputs": [
    {
     "data": {
      "text/html": [
       "<div>\n",
       "<style scoped>\n",
       "    .dataframe tbody tr th:only-of-type {\n",
       "        vertical-align: middle;\n",
       "    }\n",
       "\n",
       "    .dataframe tbody tr th {\n",
       "        vertical-align: top;\n",
       "    }\n",
       "\n",
       "    .dataframe thead th {\n",
       "        text-align: right;\n",
       "    }\n",
       "</style>\n",
       "<table border=\"1\" class=\"dataframe\">\n",
       "  <thead>\n",
       "    <tr style=\"text-align: right;\">\n",
       "      <th></th>\n",
       "      <th>PassengerId</th>\n",
       "      <th>Survived</th>\n",
       "      <th>Pclass</th>\n",
       "      <th>Name</th>\n",
       "      <th>Sex</th>\n",
       "      <th>Age</th>\n",
       "      <th>SibSp</th>\n",
       "      <th>Parch</th>\n",
       "      <th>Ticket</th>\n",
       "      <th>Fare</th>\n",
       "      <th>Cabin</th>\n",
       "      <th>Embarked</th>\n",
       "      <th>Is_train</th>\n",
       "      <th>Ticket_group_size</th>\n",
       "    </tr>\n",
       "  </thead>\n",
       "  <tbody>\n",
       "    <tr>\n",
       "      <th>138</th>\n",
       "      <td>139</td>\n",
       "      <td>0.0</td>\n",
       "      <td>3</td>\n",
       "      <td>Osen, Mr. Olaf Elon</td>\n",
       "      <td>male</td>\n",
       "      <td>16.0</td>\n",
       "      <td>0</td>\n",
       "      <td>0</td>\n",
       "      <td>7534</td>\n",
       "      <td>9.2167</td>\n",
       "      <td>NaN</td>\n",
       "      <td>S</td>\n",
       "      <td>1</td>\n",
       "      <td>2</td>\n",
       "    </tr>\n",
       "    <tr>\n",
       "      <th>876</th>\n",
       "      <td>877</td>\n",
       "      <td>0.0</td>\n",
       "      <td>3</td>\n",
       "      <td>Gustafsson, Mr. Alfred Ossian</td>\n",
       "      <td>male</td>\n",
       "      <td>20.0</td>\n",
       "      <td>0</td>\n",
       "      <td>0</td>\n",
       "      <td>7534</td>\n",
       "      <td>9.8458</td>\n",
       "      <td>NaN</td>\n",
       "      <td>S</td>\n",
       "      <td>1</td>\n",
       "      <td>2</td>\n",
       "    </tr>\n",
       "  </tbody>\n",
       "</table>\n",
       "</div>"
      ],
      "text/plain": [
       "     PassengerId  Survived  Pclass                           Name   Sex   Age  \\\n",
       "138          139       0.0       3            Osen, Mr. Olaf Elon  male  16.0   \n",
       "876          877       0.0       3  Gustafsson, Mr. Alfred Ossian  male  20.0   \n",
       "\n",
       "     SibSp  Parch Ticket    Fare Cabin Embarked  Is_train  Ticket_group_size  \n",
       "138      0      0   7534  9.2167   NaN        S         1                  2  \n",
       "876      0      0   7534  9.8458   NaN        S         1                  2  "
      ]
     },
     "execution_count": 9,
     "metadata": {},
     "output_type": "execute_result"
    }
   ],
   "source": [
    "full_df[full_df['Ticket']=='7534']"
   ]
  },
  {
   "cell_type": "markdown",
   "metadata": {},
   "source": [
    "**Finding:**  \n",
    "Within each ticket group, the fare values are exactly the same. There's only one exception - ticket '7534'.   \n",
    "The two fare values of ticket '7534' are slightly different (9.2167, 9.8458).  \n",
    "[Geni](https://www.geni.com/people/Olaf-Elon-Os%C3%A9n/6000000015915621723) mentions that Mr. Olaf Elon Osen\ttravelled with Mr Alfred Ossian Gustafsson on titanic.So the two passengers of ticket '7534' were travelling companions."
   ]
  },
  {
   "cell_type": "markdown",
   "metadata": {},
   "source": [
    "### Do the fare values increase with the increase in the ticket group size?"
   ]
  },
  {
   "cell_type": "code",
   "execution_count": 10,
   "metadata": {},
   "outputs": [
    {
     "data": {
      "image/png": "[encoded data removed]",
      "text/plain": [
       "<Figure size 432x288 with 1 Axes>"
      ]
     },
     "metadata": {
      "needs_background": "light"
     },
     "output_type": "display_data"
    }
   ],
   "source": [
    "sns.barplot(x='Pclass', y='Fare', hue='Ticket_group_size', data=full_df);"
   ]
  },
  {
   "cell_type": "markdown",
   "metadata": {},
   "source": [
    "**Finding:**   \n",
    "In general , within each pclass, the fare values tend to increase with the ticket group sizes.   \n",
    "In pclass1, the variations of fare values for ticket group sizes 3~6 are relatively big."
   ]
  },
  {
   "cell_type": "markdown",
   "metadata": {},
   "source": [
    "### Is there less fare overlapping between pclasses for the samples with ticket group size of 1?"
   ]
  },
  {
   "cell_type": "code",
   "execution_count": 11,
   "metadata": {},
   "outputs": [
    {
     "data": {
      "image/png": "[encoded data removed]",
      "text/plain": [
       "<Figure size 432x288 with 2 Axes>"
      ]
     },
     "metadata": {
      "needs_background": "light"
     },
     "output_type": "display_data"
    }
   ],
   "source": [
    "#plot the distributions of fares across pclasses\n",
    "fig, ax =plt.subplots(1,2)\n",
    "plt.subplots_adjust(right = 2)\n",
    "#plot for all the samples, on the left\n",
    "sns.boxplot(x='Pclass', y='Fare', data=full_df, ax=ax[0]);\n",
    "ax[0].set_title('All Samples')\n",
    "#plot only for the samples of Ticket_group_size value of 1, on the right\n",
    "tickets_not_shared = full_df['Ticket_group_size']==1\n",
    "sns.boxplot(x='Pclass', y='Fare', data=full_df[tickets_not_shared], ax=ax[1])\n",
    "ax[1].set_title('Ticket_group_size=1');"
   ]
  },
  {
   "cell_type": "markdown",
   "metadata": {},
   "source": [
    "**Finding:**   \n",
    "The fare scale (500) of the left subplot is 10 times as big as that (50) of the right one.\n",
    "For all the samples, the fare range of each pclass is big and they much overlap below 100.   \n",
    "For the samples with ticket group size of 1, the fare range is much smaller in each pclass and there's little overlapping of fare values between pclasses. Besides,some outliers are more noticeable and they will be further analyzed next"
   ]
  },
  {
   "cell_type": "markdown",
   "metadata": {},
   "source": [
    "### Analyze the outliers in the samples of unique ticket numbers\n",
    "\n",
    "During the analysis of the samples of unique ticket numbers (ticket group size of 1), some outliers were noticed. They may be wrong data and had better be checked."
   ]
  },
  {
   "cell_type": "markdown",
   "metadata": {},
   "source": [
    "As described in my previous [EDA](https://www.kaggle.com/bofangli/titanic-eda-with-detailed-explanation), some tickets were complimentary (fare value=0).   \n",
    "According to [Tammy Keefer](https://www.kaggle.com/c/titanic/discussion/10570), one of those passengers who had the complimentary tickets was the employee."
   ]
  },
  {
   "cell_type": "code",
   "execution_count": 12,
   "metadata": {},
   "outputs": [
    {
     "data": {
      "text/html": [
       "<div>\n",
       "<style scoped>\n",
       "    .dataframe tbody tr th:only-of-type {\n",
       "        vertical-align: middle;\n",
       "    }\n",
       "\n",
       "    .dataframe tbody tr th {\n",
       "        vertical-align: top;\n",
       "    }\n",
       "\n",
       "    .dataframe thead th {\n",
       "        text-align: right;\n",
       "    }\n",
       "</style>\n",
       "<table border=\"1\" class=\"dataframe\">\n",
       "  <thead>\n",
       "    <tr style=\"text-align: right;\">\n",
       "      <th></th>\n",
       "      <th>PassengerId</th>\n",
       "      <th>Survived</th>\n",
       "      <th>Pclass</th>\n",
       "      <th>Name</th>\n",
       "      <th>Sex</th>\n",
       "      <th>Age</th>\n",
       "      <th>SibSp</th>\n",
       "      <th>Parch</th>\n",
       "      <th>Ticket</th>\n",
       "      <th>Fare</th>\n",
       "      <th>Cabin</th>\n",
       "      <th>Embarked</th>\n",
       "      <th>Is_train</th>\n",
       "      <th>Ticket_group_size</th>\n",
       "    </tr>\n",
       "  </thead>\n",
       "  <tbody>\n",
       "    <tr>\n",
       "      <th>872</th>\n",
       "      <td>873</td>\n",
       "      <td>0.0</td>\n",
       "      <td>1</td>\n",
       "      <td>Carlsson, Mr. Frans Olof</td>\n",
       "      <td>male</td>\n",
       "      <td>33.0</td>\n",
       "      <td>0</td>\n",
       "      <td>0</td>\n",
       "      <td>695</td>\n",
       "      <td>5.0</td>\n",
       "      <td>B51 B53 B55</td>\n",
       "      <td>S</td>\n",
       "      <td>1</td>\n",
       "      <td>1</td>\n",
       "    </tr>\n",
       "  </tbody>\n",
       "</table>\n",
       "</div>"
      ],
      "text/plain": [
       "     PassengerId  Survived  Pclass                      Name   Sex   Age  \\\n",
       "872          873       0.0       1  Carlsson, Mr. Frans Olof  male  33.0   \n",
       "\n",
       "     SibSp  Parch Ticket  Fare        Cabin Embarked  Is_train  \\\n",
       "872      0      0    695   5.0  B51 B53 B55        S         1   \n",
       "\n",
       "     Ticket_group_size  \n",
       "872                  1  "
      ]
     },
     "execution_count": 12,
     "metadata": {},
     "output_type": "execute_result"
    }
   ],
   "source": [
    "#Locate the record of the Pclass1 ticket of which the fare is far below the median\n",
    "fare_between_one_ten = (full_df.Fare < 10) & (full_df.Fare > 1) \n",
    "full_df[tickets_not_shared & (full_df.Pclass==1) & fare_between_one_ten]"
   ]
  },
  {
   "cell_type": "markdown",
   "metadata": {},
   "source": [
    "**Search online about the ticket fare of Mr. Frans:**   \n",
    "According to [Geni](https://www.geni.com/people/Frans-Olof-Carlsson-1st-Class-RMS-Titanic-Casualty/6000000015948569078), Mr. Frans' ticket fare was indeed  £5. But he was the employee."
   ]
  },
  {
   "cell_type": "code",
   "execution_count": 13,
   "metadata": {},
   "outputs": [
    {
     "data": {
      "text/html": [
       "<div>\n",
       "<style scoped>\n",
       "    .dataframe tbody tr th:only-of-type {\n",
       "        vertical-align: middle;\n",
       "    }\n",
       "\n",
       "    .dataframe tbody tr th {\n",
       "        vertical-align: top;\n",
       "    }\n",
       "\n",
       "    .dataframe thead th {\n",
       "        text-align: right;\n",
       "    }\n",
       "</style>\n",
       "<table border=\"1\" class=\"dataframe\">\n",
       "  <thead>\n",
       "    <tr style=\"text-align: right;\">\n",
       "      <th></th>\n",
       "      <th>PassengerId</th>\n",
       "      <th>Survived</th>\n",
       "      <th>Pclass</th>\n",
       "      <th>Name</th>\n",
       "      <th>Sex</th>\n",
       "      <th>Age</th>\n",
       "      <th>SibSp</th>\n",
       "      <th>Parch</th>\n",
       "      <th>Ticket</th>\n",
       "      <th>Fare</th>\n",
       "      <th>Cabin</th>\n",
       "      <th>Embarked</th>\n",
       "      <th>Is_train</th>\n",
       "      <th>Ticket_group_size</th>\n",
       "    </tr>\n",
       "  </thead>\n",
       "  <tbody>\n",
       "    <tr>\n",
       "      <th>867</th>\n",
       "      <td>868</td>\n",
       "      <td>0.0</td>\n",
       "      <td>1</td>\n",
       "      <td>Roebling, Mr. Washington Augustus II</td>\n",
       "      <td>male</td>\n",
       "      <td>31.0</td>\n",
       "      <td>0</td>\n",
       "      <td>0</td>\n",
       "      <td>PC 17590</td>\n",
       "      <td>50.4958</td>\n",
       "      <td>A24</td>\n",
       "      <td>S</td>\n",
       "      <td>1</td>\n",
       "      <td>1</td>\n",
       "    </tr>\n",
       "    <tr>\n",
       "      <th>1057</th>\n",
       "      <td>1058</td>\n",
       "      <td>NaN</td>\n",
       "      <td>1</td>\n",
       "      <td>Brandeis, Mr. Emil</td>\n",
       "      <td>male</td>\n",
       "      <td>48.0</td>\n",
       "      <td>0</td>\n",
       "      <td>0</td>\n",
       "      <td>PC 17591</td>\n",
       "      <td>50.4958</td>\n",
       "      <td>B10</td>\n",
       "      <td>C</td>\n",
       "      <td>0</td>\n",
       "      <td>1</td>\n",
       "    </tr>\n",
       "  </tbody>\n",
       "</table>\n",
       "</div>"
      ],
      "text/plain": [
       "      PassengerId  Survived  Pclass                                  Name  \\\n",
       "867           868       0.0       1  Roebling, Mr. Washington Augustus II   \n",
       "1057         1058       NaN       1                    Brandeis, Mr. Emil   \n",
       "\n",
       "       Sex   Age  SibSp  Parch    Ticket     Fare Cabin Embarked  Is_train  \\\n",
       "867   male  31.0      0      0  PC 17590  50.4958   A24        S         1   \n",
       "1057  male  48.0      0      0  PC 17591  50.4958   B10        C         0   \n",
       "\n",
       "      Ticket_group_size  \n",
       "867                   1  \n",
       "1057                  1  "
      ]
     },
     "execution_count": 13,
     "metadata": {},
     "output_type": "execute_result"
    }
   ],
   "source": [
    "#Locate the record of the Pclass1 ticket of which the fare is far above the median\n",
    "full_df[tickets_not_shared & (full_df.Pclass==1) & (full_df.Fare > 50)]"
   ]
  },
  {
   "cell_type": "markdown",
   "metadata": {},
   "source": [
    "**Search online about the ticket fare of Mr. Washington:**  \n",
    "As [Encyclopedia-titanica](https://www.encyclopedia-titanica.org/titanic-victim/washington-roebling.html) mentions, Mr. Washington carried ticket no. PC 17590 (£50 9s 11d). So the high value around 50 was confirmed."
   ]
  },
  {
   "cell_type": "code",
   "execution_count": 14,
   "metadata": {},
   "outputs": [
    {
     "data": {
      "text/html": [
       "<div>\n",
       "<style scoped>\n",
       "    .dataframe tbody tr th:only-of-type {\n",
       "        vertical-align: middle;\n",
       "    }\n",
       "\n",
       "    .dataframe tbody tr th {\n",
       "        vertical-align: top;\n",
       "    }\n",
       "\n",
       "    .dataframe thead th {\n",
       "        text-align: right;\n",
       "    }\n",
       "</style>\n",
       "<table border=\"1\" class=\"dataframe\">\n",
       "  <thead>\n",
       "    <tr style=\"text-align: right;\">\n",
       "      <th></th>\n",
       "      <th>PassengerId</th>\n",
       "      <th>Survived</th>\n",
       "      <th>Pclass</th>\n",
       "      <th>Name</th>\n",
       "      <th>Sex</th>\n",
       "      <th>Age</th>\n",
       "      <th>SibSp</th>\n",
       "      <th>Parch</th>\n",
       "      <th>Ticket</th>\n",
       "      <th>Fare</th>\n",
       "      <th>Cabin</th>\n",
       "      <th>Embarked</th>\n",
       "      <th>Is_train</th>\n",
       "      <th>Ticket_group_size</th>\n",
       "    </tr>\n",
       "  </thead>\n",
       "  <tbody>\n",
       "    <tr>\n",
       "      <th>451</th>\n",
       "      <td>452</td>\n",
       "      <td>0.0</td>\n",
       "      <td>3</td>\n",
       "      <td>Hagland, Mr. Ingvald Olai Olsen</td>\n",
       "      <td>male</td>\n",
       "      <td>NaN</td>\n",
       "      <td>1</td>\n",
       "      <td>0</td>\n",
       "      <td>65303</td>\n",
       "      <td>19.9667</td>\n",
       "      <td>NaN</td>\n",
       "      <td>S</td>\n",
       "      <td>1</td>\n",
       "      <td>1</td>\n",
       "    </tr>\n",
       "    <tr>\n",
       "      <th>490</th>\n",
       "      <td>491</td>\n",
       "      <td>0.0</td>\n",
       "      <td>3</td>\n",
       "      <td>Hagland, Mr. Konrad Mathias Reiersen</td>\n",
       "      <td>male</td>\n",
       "      <td>NaN</td>\n",
       "      <td>1</td>\n",
       "      <td>0</td>\n",
       "      <td>65304</td>\n",
       "      <td>19.9667</td>\n",
       "      <td>NaN</td>\n",
       "      <td>S</td>\n",
       "      <td>1</td>\n",
       "      <td>1</td>\n",
       "    </tr>\n",
       "  </tbody>\n",
       "</table>\n",
       "</div>"
      ],
      "text/plain": [
       "     PassengerId  Survived  Pclass                                  Name  \\\n",
       "451          452       0.0       3       Hagland, Mr. Ingvald Olai Olsen   \n",
       "490          491       0.0       3  Hagland, Mr. Konrad Mathias Reiersen   \n",
       "\n",
       "      Sex  Age  SibSp  Parch Ticket     Fare Cabin Embarked  Is_train  \\\n",
       "451  male  NaN      1      0  65303  19.9667   NaN        S         1   \n",
       "490  male  NaN      1      0  65304  19.9667   NaN        S         1   \n",
       "\n",
       "     Ticket_group_size  \n",
       "451                  1  \n",
       "490                  1  "
      ]
     },
     "execution_count": 14,
     "metadata": {},
     "output_type": "execute_result"
    }
   ],
   "source": [
    "#Locate the record of the Pclass3 ticket of which the fare is far above the median\n",
    "full_df[tickets_not_shared & (full_df.Pclass==3) & (full_df.Fare > 15)]"
   ]
  },
  {
   "cell_type": "markdown",
   "metadata": {},
   "source": [
    "**Search online about the ticket fares of Mr. Ingvald and Mr. Konrad**   \n",
    "As [Encyclopedia-titanica ](https://www.encyclopedia-titanica.org/titanic-victim/ingvald-olai-olsen-hagland.html) mentions, Mr. Ingvald was the brother in law of Mr. Konrad and their ticket fares were £6, 19s, 4d, within the normal fare range of Pclass 3. So their fare values in our data are wrong and should be 6.9667.\n",
    "<a id=\"wrong_fares\"></a>"
   ]
  },
  {
   "cell_type": "code",
   "execution_count": 15,
   "metadata": {},
   "outputs": [
    {
     "data": {
      "text/html": [
       "<div>\n",
       "<style scoped>\n",
       "    .dataframe tbody tr th:only-of-type {\n",
       "        vertical-align: middle;\n",
       "    }\n",
       "\n",
       "    .dataframe tbody tr th {\n",
       "        vertical-align: top;\n",
       "    }\n",
       "\n",
       "    .dataframe thead th {\n",
       "        text-align: right;\n",
       "    }\n",
       "</style>\n",
       "<table border=\"1\" class=\"dataframe\">\n",
       "  <thead>\n",
       "    <tr style=\"text-align: right;\">\n",
       "      <th></th>\n",
       "      <th>PassengerId</th>\n",
       "      <th>Survived</th>\n",
       "      <th>Pclass</th>\n",
       "      <th>Name</th>\n",
       "      <th>Sex</th>\n",
       "      <th>Age</th>\n",
       "      <th>SibSp</th>\n",
       "      <th>Parch</th>\n",
       "      <th>Ticket</th>\n",
       "      <th>Fare</th>\n",
       "      <th>Cabin</th>\n",
       "      <th>Embarked</th>\n",
       "      <th>Is_train</th>\n",
       "      <th>Ticket_group_size</th>\n",
       "    </tr>\n",
       "  </thead>\n",
       "  <tbody>\n",
       "    <tr>\n",
       "      <th>451</th>\n",
       "      <td>452</td>\n",
       "      <td>0.0</td>\n",
       "      <td>3</td>\n",
       "      <td>Hagland, Mr. Ingvald Olai Olsen</td>\n",
       "      <td>male</td>\n",
       "      <td>NaN</td>\n",
       "      <td>1</td>\n",
       "      <td>0</td>\n",
       "      <td>65303</td>\n",
       "      <td>6.9667</td>\n",
       "      <td>NaN</td>\n",
       "      <td>S</td>\n",
       "      <td>1</td>\n",
       "      <td>1</td>\n",
       "    </tr>\n",
       "    <tr>\n",
       "      <th>490</th>\n",
       "      <td>491</td>\n",
       "      <td>0.0</td>\n",
       "      <td>3</td>\n",
       "      <td>Hagland, Mr. Konrad Mathias Reiersen</td>\n",
       "      <td>male</td>\n",
       "      <td>NaN</td>\n",
       "      <td>1</td>\n",
       "      <td>0</td>\n",
       "      <td>65304</td>\n",
       "      <td>6.9667</td>\n",
       "      <td>NaN</td>\n",
       "      <td>S</td>\n",
       "      <td>1</td>\n",
       "      <td>1</td>\n",
       "    </tr>\n",
       "  </tbody>\n",
       "</table>\n",
       "</div>"
      ],
      "text/plain": [
       "     PassengerId  Survived  Pclass                                  Name  \\\n",
       "451          452       0.0       3       Hagland, Mr. Ingvald Olai Olsen   \n",
       "490          491       0.0       3  Hagland, Mr. Konrad Mathias Reiersen   \n",
       "\n",
       "      Sex  Age  SibSp  Parch Ticket    Fare Cabin Embarked  Is_train  \\\n",
       "451  male  NaN      1      0  65303  6.9667   NaN        S         1   \n",
       "490  male  NaN      1      0  65304  6.9667   NaN        S         1   \n",
       "\n",
       "     Ticket_group_size  \n",
       "451                  1  \n",
       "490                  1  "
      ]
     },
     "execution_count": 15,
     "metadata": {},
     "output_type": "execute_result"
    }
   ],
   "source": [
    "#Correct the two wrong fare values\n",
    "full_df.loc[[451, 490], 'Fare'] = 6.9667\n",
    "full_df.loc[[451, 490]]"
   ]
  },
  {
   "cell_type": "markdown",
   "metadata": {},
   "source": [
    "### Are the fare max/medium ratios much smaller?"
   ]
  },
  {
   "cell_type": "code",
   "execution_count": 16,
   "metadata": {},
   "outputs": [
    {
     "name": "stdout",
     "output_type": "stream",
     "text": [
      "Fares' distribution in each Pclass:\n"
     ]
    },
    {
     "data": {
      "text/html": [
       "<div>\n",
       "<style scoped>\n",
       "    .dataframe tbody tr th:only-of-type {\n",
       "        vertical-align: middle;\n",
       "    }\n",
       "\n",
       "    .dataframe tbody tr th {\n",
       "        vertical-align: top;\n",
       "    }\n",
       "\n",
       "    .dataframe thead th {\n",
       "        text-align: right;\n",
       "    }\n",
       "</style>\n",
       "<table border=\"1\" class=\"dataframe\">\n",
       "  <thead>\n",
       "    <tr style=\"text-align: right;\">\n",
       "      <th></th>\n",
       "      <th>Pclass 1</th>\n",
       "      <th>Pclass 2</th>\n",
       "      <th>Pclass 3</th>\n",
       "    </tr>\n",
       "  </thead>\n",
       "  <tbody>\n",
       "    <tr>\n",
       "      <th>count</th>\n",
       "      <td>106.000000</td>\n",
       "      <td>136.000000</td>\n",
       "      <td>470.000000</td>\n",
       "    </tr>\n",
       "    <tr>\n",
       "      <th>mean</th>\n",
       "      <td>29.113715</td>\n",
       "      <td>12.176285</td>\n",
       "      <td>7.834636</td>\n",
       "    </tr>\n",
       "    <tr>\n",
       "      <th>std</th>\n",
       "      <td>9.518051</td>\n",
       "      <td>2.295573</td>\n",
       "      <td>0.665863</td>\n",
       "    </tr>\n",
       "    <tr>\n",
       "      <th>min</th>\n",
       "      <td>0.000000</td>\n",
       "      <td>0.000000</td>\n",
       "      <td>3.170800</td>\n",
       "    </tr>\n",
       "    <tr>\n",
       "      <th>25%</th>\n",
       "      <td>26.550000</td>\n",
       "      <td>10.500000</td>\n",
       "      <td>7.629200</td>\n",
       "    </tr>\n",
       "    <tr>\n",
       "      <th>50%</th>\n",
       "      <td>27.720800</td>\n",
       "      <td>13.000000</td>\n",
       "      <td>7.829200</td>\n",
       "    </tr>\n",
       "    <tr>\n",
       "      <th>75%</th>\n",
       "      <td>30.695800</td>\n",
       "      <td>13.000000</td>\n",
       "      <td>8.050000</td>\n",
       "    </tr>\n",
       "    <tr>\n",
       "      <th>max</th>\n",
       "      <td>50.495800</td>\n",
       "      <td>16.000000</td>\n",
       "      <td>10.516700</td>\n",
       "    </tr>\n",
       "  </tbody>\n",
       "</table>\n",
       "</div>"
      ],
      "text/plain": [
       "         Pclass 1    Pclass 2    Pclass 3\n",
       "count  106.000000  136.000000  470.000000\n",
       "mean    29.113715   12.176285    7.834636\n",
       "std      9.518051    2.295573    0.665863\n",
       "min      0.000000    0.000000    3.170800\n",
       "25%     26.550000   10.500000    7.629200\n",
       "50%     27.720800   13.000000    7.829200\n",
       "75%     30.695800   13.000000    8.050000\n",
       "max     50.495800   16.000000   10.516700"
      ]
     },
     "metadata": {},
     "output_type": "display_data"
    }
   ],
   "source": [
    "#obtain descriptive statistics of fares at different pclasses for the samples of Ticket_group_size value of 1\n",
    "fares_by_pclasses = {}\n",
    "\n",
    "for i in range(1,4):\n",
    "    fares_by_pclasses[i]=full_df.loc[tickets_not_shared & (full_df.Pclass==i), 'Fare'].describe()\n",
    "    \n",
    "fares_by_pclasses_df = pd.concat([v[1] for v in fares_by_pclasses.items()], axis=1)\n",
    "fares_by_pclasses_df.columns=['Pclass ' + str(i) for i in range(1, 4)]\n",
    "print(\"Fares' distribution in each Pclass:\")\n",
    "display(fares_by_pclasses_df)"
   ]
  },
  {
   "cell_type": "markdown",
   "metadata": {},
   "source": [
    "**Finding:**   \n",
    "Two fare errors were found and corrected. They were mentioned in my previous [EDA notebook](https://www.kaggle.com/bofangli/titanic-eda-with-detailed-explanation).\n",
    "That notebook shows that the max/median fare ratios of three pclasses of all samples are unusally big, 5~9.   \n",
    "For the samples of Ticket_group_size value of 1, the ratios are much smaller, only 1.2~1.8."
   ]
  },
  {
   "cell_type": "markdown",
   "metadata": {},
   "source": [
    "**Finding and analysis on fare-sharing possibility:**   \n",
    "Are the fare values of the same ticket group the same? Yes.   \n",
    "Do the fare values increase with the increase in the ticket group size? Yes.   \n",
    "Is there less fare overlapping between pclasses for the samples with ticket group size of 1? Yes.  \n",
    "Are the fare max/medium ratios much smaller? Yes.   \n",
    "\n",
    "With these evidences, the possibility is high that half of the titanic passengers shared the fares. My further analysis will be based on this assumption until some new evidence proves it wrong. In this case, each fare value is not the fare of an individual passenger, but the total fare of a ticket group. So the direct comparison of the fare values can be misleading.   \n",
    "\n",
    "How to treat the fare variable to avoid misleading? Can we just drop fare due to its strong correlation with pclass?\n",
    "The way we handle the fare variable depend on what information we would like to extract from it."
   ]
  },
  {
   "cell_type": "markdown",
   "metadata": {},
   "source": [
    "## What additional  information does the 'Fare' variable provide compared to the 'Pclass' variable?"
   ]
  },
  {
   "cell_type": "markdown",
   "metadata": {},
   "source": [
    "### Correlation between fare and pclass with the removal of the fare-sharing influence"
   ]
  },
  {
   "cell_type": "code",
   "execution_count": 17,
   "metadata": {},
   "outputs": [
    {
     "data": {
      "text/plain": [
       "-0.77"
      ]
     },
     "execution_count": 17,
     "metadata": {},
     "output_type": "execute_result"
    }
   ],
   "source": [
    "# What's the correlation between fare and pclass for the samples of Ticket_group_size value of 1\n",
    "round(full_df.loc[tickets_not_shared, ['Fare', 'Pclass']].corr('spearman').iloc[0,1], 2)"
   ]
  },
  {
   "cell_type": "markdown",
   "metadata": {},
   "source": [
    "**Finding and analysis:**   \n",
    "With the removal of the fare-sharing influence, the correlation between fare and pclass gets stronger by 8%, from -0.71 to -0.77.    \n",
    "   \n",
    "In this challenge, we are asked to build a predictive model that answers the question: “what sorts of people were more likely to survive?” using passenger data (ie name, age, gender, socio-economic class, etc). Pclass stands for the socio-economic class. Is the fare an indication for the subclasses of socio-economic class? No such information is included in the data or description provided by Kaggle. So external data is necessary for its clarification. "
   ]
  },
  {
   "cell_type": "markdown",
   "metadata": {},
   "source": [
    "### Are there any subclasses of each pclass with different prices?"
   ]
  },
  {
   "cell_type": "markdown",
   "metadata": {},
   "source": [
    "#### Are there any subclasses of each pclass with different prices?"
   ]
  },
  {
   "cell_type": "markdown",
   "metadata": {},
   "source": [
    "[Wikipedia](https://en.wikipedia.org/wiki/Passengers_of_the_Titanic) says,   \n",
    "'**The ship's passengers were divided into three separate classes determined by the price of their ticket:** those travelling in first class, most of them the wealthiest passengers on board, included prominent members of the upper class, businessmen, politicians, high-ranking military personnel, industrialists, bankers, entertainers, socialites, and professional athletes. Second-class passengers were predominantly middle-class travellers and included professors, authors, clergymen, and tourists. Third-class or steerage passengers were primarily immigrants moving to the United States and Canada.'"
   ]
  },
  {
   "cell_type": "markdown",
   "metadata": {},
   "source": [
    "**Price table** based on Wikipedia[1](https://en.wikipedia.org/wiki/Passengers_of_the_Titanic) [2](https://en.wikipedia.org/wiki/First-class_facilities_of_the_Titanic)\n",
    "\n",
    "|Accommodation|Price|\n",
    "| :- | -: | \n",
    "|First-class more lavish and opulent parlor suite|\t£500-1000|\n",
    "|First-class smaller parlor suite|\t£100-300|\n",
    "|Berth in first-class standard cabin| £30 |\n",
    "|Berth in second-class cabin| £12 (average)|\n",
    "|Berth in third-class cabin| £3 for children, £7 (average) for adults|\n",
    "\n",
    "\n",
    "Wikipedia[1](https://en.wikipedia.org/wiki/Passengers_of_the_Titanic) also mentions, \"Third-class passengers paid £7 (£698 today) for their ticket, depending on their place of origin; ticket prices often included the price of rail travel to the three departure ports\".\n",
    "\n",
    "[Encyclopedia](https://www.encyclopedia-titanica.org/community/threads/children-on-the-titanic.20096/) mentions,Titanic's Certificates for Clearance defined **the children as under age 12**, age 12 and upwards were counted as adults."
   ]
  },
  {
   "cell_type": "code",
   "execution_count": 18,
   "metadata": {},
   "outputs": [
    {
     "data": {
      "text/html": [
       "<div>\n",
       "<style scoped>\n",
       "    .dataframe tbody tr th:only-of-type {\n",
       "        vertical-align: middle;\n",
       "    }\n",
       "\n",
       "    .dataframe tbody tr th {\n",
       "        vertical-align: top;\n",
       "    }\n",
       "\n",
       "    .dataframe thead th {\n",
       "        text-align: right;\n",
       "    }\n",
       "</style>\n",
       "<table border=\"1\" class=\"dataframe\">\n",
       "  <thead>\n",
       "    <tr style=\"text-align: right;\">\n",
       "      <th></th>\n",
       "      <th>PassengerId</th>\n",
       "      <th>Survived</th>\n",
       "      <th>Pclass</th>\n",
       "      <th>Name</th>\n",
       "      <th>Sex</th>\n",
       "      <th>Age</th>\n",
       "      <th>SibSp</th>\n",
       "      <th>Parch</th>\n",
       "      <th>Ticket</th>\n",
       "      <th>Fare</th>\n",
       "      <th>Cabin</th>\n",
       "      <th>Embarked</th>\n",
       "      <th>Is_train</th>\n",
       "      <th>Ticket_group_size</th>\n",
       "    </tr>\n",
       "  </thead>\n",
       "  <tbody>\n",
       "    <tr>\n",
       "      <th>912</th>\n",
       "      <td>913</td>\n",
       "      <td>NaN</td>\n",
       "      <td>3</td>\n",
       "      <td>Olsen, Master. Artur Karl</td>\n",
       "      <td>male</td>\n",
       "      <td>9.0</td>\n",
       "      <td>0</td>\n",
       "      <td>1</td>\n",
       "      <td>C 17368</td>\n",
       "      <td>3.1708</td>\n",
       "      <td>NaN</td>\n",
       "      <td>S</td>\n",
       "      <td>0</td>\n",
       "      <td>1</td>\n",
       "    </tr>\n",
       "  </tbody>\n",
       "</table>\n",
       "</div>"
      ],
      "text/plain": [
       "     PassengerId  Survived  Pclass                       Name   Sex  Age  \\\n",
       "912          913       NaN       3  Olsen, Master. Artur Karl  male  9.0   \n",
       "\n",
       "     SibSp  Parch   Ticket    Fare Cabin Embarked  Is_train  Ticket_group_size  \n",
       "912      0      1  C 17368  3.1708   NaN        S         0                  1  "
      ]
     },
     "execution_count": 18,
     "metadata": {},
     "output_type": "execute_result"
    }
   ],
   "source": [
    "#Look for children with uniuqe ticket number and check if their fare was around 3\n",
    "full_df[tickets_not_shared & (full_df.Age <12)]"
   ]
  },
  {
   "cell_type": "markdown",
   "metadata": {},
   "source": [
    "**Finding and analysis:**   \n",
    "The second class and third class had no subclasses.   \n",
    "The third class' fares' variation was related with the place of origin (ticket prices often included the price of rail travel to the three departure ports) and the children fee.\n",
    "\n",
    "The first class had three separate price ranges: **£500-1000** for lavish parlor suite, **£100-300** for smaller parlor suite,  **£30** for cabin.The pclass1 fare values will be further analyzed next."
   ]
  },
  {
   "cell_type": "markdown",
   "metadata": {},
   "source": [
    "#### Further analyze the fare distribution of Pclass1"
   ]
  },
  {
   "cell_type": "code",
   "execution_count": 19,
   "metadata": {},
   "outputs": [
    {
     "data": {
      "image/png": "[encoded data removed]",
      "text/plain": [
       "<Figure size 432x288 with 2 Axes>"
      ]
     },
     "metadata": {
      "needs_background": "light"
     },
     "output_type": "display_data"
    }
   ],
   "source": [
    "#plot the distributions of fares of pclass1, violinplot (left), swarmplot(right)\n",
    "fig, ax =plt.subplots(1,2)\n",
    "plt.subplots_adjust(right = 2)\n",
    "#Fare distribution by violinplot\n",
    "sns.violinplot(x='Fare', data=full_df[full_df.Pclass==1], ax=ax[0]);\n",
    "ax[0].set_title('Fare Violinplot for Pclass1')\n",
    "# Fare distribution by swarmplot in which every data point is displayed\n",
    "sns.swarmplot(x='Fare', size=3, data=full_df[full_df.Pclass==1], ax=ax[1]);\n",
    "ax[1].set_title('Fare Swarmplot for Pclass1');"
   ]
  },
  {
   "cell_type": "markdown",
   "metadata": {},
   "source": [
    "**Finding and analysis:**   \n",
    "The violinplot on the left shows that there are three peaks (over 500, ~230, ~30) and hence the distribution has three modes. The majority of the data points belong to the third distribution (peak ~30), and very few of them belong to the first distribution (peak over 500).The number of modes are consistent with the number of price categories of Pclass1.   \n",
    "Besides, there's a big gap of the fare values between the first distribution and the second, consistent with the price table.   \n",
    "However, there is no clear gap between the second distribution and the third. The fare values of non-complimentary pclass1 tickets below 100 was expected to be the same or very close to 30 according to the price table but the swarmplot shows that most of the data points are scattered between 30~100. This inconsistency needs to be clarified with external information. "
   ]
  },
  {
   "cell_type": "markdown",
   "metadata": {},
   "source": [
    "**Online Search for Titanic Pclass1:**   \n",
    "[Ultimatetitanic](https://www.ultimatetitanic.com/interior-fittings) says, \"If a parlor suite didn’t suffice, a wealthy family could purchase several first-class cabins adjacent to one another and open the interconnecting doors between the cabins to have a suite of their own\". \n",
    "So many of the fare values of Pclass 1 are of the \"customized suite\" comprised of several adjacent standard cabins. Each Pclass1 ticket's cabin quantity is to be analyzed."
   ]
  },
  {
   "cell_type": "markdown",
   "metadata": {},
   "source": [
    "#### Analyze cabin quantity of Pclass1 samples\n",
    "\n",
    "It's shown in my notebook [Dealing with missing values (Part 1 type-analysis)](), the Cabin variable has 77% missing values. Apart from the recollections of survivors and a few tickets and boarding cards, the only authoritative source of cabin data is the incomplete first class passenger list recovered.\n",
    "So before counting the cabin numbers of the Pclass1 samples, I'll first check the number and percentage of missing cabin values."
   ]
  },
  {
   "cell_type": "markdown",
   "metadata": {},
   "source": [
    "##### Check the quantity and percentage of missing cabin values"
   ]
  },
  {
   "cell_type": "code",
   "execution_count": 34,
   "metadata": {},
   "outputs": [
    {
     "data": {
      "text/plain": [
       "323"
      ]
     },
     "execution_count": 34,
     "metadata": {},
     "output_type": "execute_result"
    }
   ],
   "source": [
    "#the number of Pclass1 samples\n",
    "len(full_df[full_df.Pclass==1])"
   ]
  },
  {
   "cell_type": "code",
   "execution_count": 35,
   "metadata": {},
   "outputs": [
    {
     "data": {
      "text/plain": [
       "67"
      ]
     },
     "execution_count": 35,
     "metadata": {},
     "output_type": "execute_result"
    }
   ],
   "source": [
    "#the number of missing cabin values of the Pclass1 samples\n",
    "full_df.loc[full_df.Pclass==1, 'Cabin'].isnull().sum()"
   ]
  },
  {
   "cell_type": "code",
   "execution_count": 37,
   "metadata": {},
   "outputs": [
    {
     "data": {
      "text/plain": [
       "21"
      ]
     },
     "execution_count": 37,
     "metadata": {},
     "output_type": "execute_result"
    }
   ],
   "source": [
    "#the percentage of missing cabin values\n",
    "round(67/323*100)"
   ]
  },
  {
   "cell_type": "markdown",
   "metadata": {},
   "source": [
    "**Finding:**   \n",
    "67 out of 323 (21%) samples have missing cabin values. So most cabin values are available."
   ]
  },
  {
   "cell_type": "markdown",
   "metadata": {},
   "source": [
    "##### Check cabin values"
   ]
  },
  {
   "cell_type": "code",
   "execution_count": 38,
   "metadata": {},
   "outputs": [
    {
     "data": {
      "text/plain": [
       "array(['C85', 'C123', 'E46', 'C103', 'A6', 'C23 C25 C27', nan, 'B78',\n",
       "       'D33', 'B30', 'C52', 'B28', 'C83', 'E31', 'A5', 'D10 D12', 'D26',\n",
       "       'C110', 'B58 B60', 'D47', 'B86', 'C2', 'E33', 'B19', 'A7', 'C49',\n",
       "       'A32', 'B4', 'B80', 'A31', 'D36', 'D15', 'C93', 'C78', 'D35',\n",
       "       'C87', 'B77', 'E67', 'B94', 'C125', 'C99', 'C118', 'D7', 'A19',\n",
       "       'B49', 'C22 C26', 'C106', 'C65', 'E36', 'C54', 'B57 B59 B63 B66',\n",
       "       'C7', 'E34', 'C32', 'B18', 'C124', 'C91', 'E40', 'T', 'C128',\n",
       "       'D37', 'B35', 'E50', 'C82', 'B96 B98', 'E44', 'A34', 'C104',\n",
       "       'C111', 'C92', 'E38', 'D21', 'E12', 'E63', 'A14', 'B37', 'C30',\n",
       "       'D20', 'B79', 'E25', 'D46', 'B73', 'C95', 'B38', 'B39', 'B22',\n",
       "       'C86', 'C70', 'A16', 'C101', 'C68', 'A10', 'E68', 'B41', 'A20',\n",
       "       'D19', 'D50', 'D9', 'A23', 'B50', 'A26', 'D48', 'E58', 'C126',\n",
       "       'B71', 'B51 B53 B55', 'D49', 'B5', 'B20', 'C62 C64', 'E24', 'C90',\n",
       "       'C45', 'E8', 'B101', 'D45', 'C46', 'D30', 'D11', 'B3', 'D6',\n",
       "       'B82 B84', 'D17', 'A36', 'B102', 'B69', 'E49', 'C47', 'D28', 'E17',\n",
       "       'A24', 'C50', 'B42', 'C148', 'B45', 'B36', 'A21', 'D34', 'A9',\n",
       "       'C31', 'B61', 'C53', 'D43', 'C130', 'C132', 'C55 C57', 'C116',\n",
       "       'A29', 'C6', 'C28', 'C51', 'C97', 'D22', 'B10', 'E45', 'E52',\n",
       "       'A11', 'B11', 'C80', 'C89', 'B26', 'A18', 'E60', 'E39 E41',\n",
       "       'B52 B54 B56', 'C39', 'B24', 'D40', 'C105'], dtype=object)"
      ]
     },
     "execution_count": 38,
     "metadata": {},
     "output_type": "execute_result"
    }
   ],
   "source": [
    "#Cabin values of Pclass1 samples\n",
    "full_df.loc[full_df.Pclass==1, 'Cabin'].unique()"
   ]
  },
  {
   "cell_type": "code",
   "execution_count": 39,
   "metadata": {},
   "outputs": [],
   "source": [
    "#make a copy of Pclass1 samples\n",
    "pclass1_df = full_df[full_df.Pclass==1].copy()"
   ]
  },
  {
   "cell_type": "code",
   "execution_count": 41,
   "metadata": {},
   "outputs": [],
   "source": [
    "#count the total number of cabins within each ticket group  \n",
    "#create a new column named as 'Cabin_quantity'\n",
    "pclass1_df['Cabin_quantity'] = pclass1_df.Cabin.apply(lambda x: np.nan if pd.isna(x) else len(x.split(' ')))\n",
    "\n",
    "#drop the samples of missing or duplicated cabin values\n",
    "pclass1_unique_cabins = pclass1_df[['Ticket', 'Cabin', 'Cabin_quantity', 'Fare']].\\\n",
    "                        dropna(subset=['Cabin']).drop_duplicates(subset=['Cabin'])\n",
    "\n",
    "#add up the cabin quantities within each ticket group\n",
    "cabin_quantity_per_ticket = pclass1_unique_cabins.groupby('Ticket')['Cabin_quantity'].sum().to_frame()"
   ]
  },
  {
   "cell_type": "code",
   "execution_count": 49,
   "metadata": {},
   "outputs": [],
   "source": [
    "#count the number of missing cabin values within each ticket group\n",
    "null_cabin_quantity_per_ticket = pclass1_df.groupby('Ticket').agg({'Cabin': lambda x: x.isnull().sum()})"
   ]
  },
  {
   "cell_type": "code",
   "execution_count": 54,
   "metadata": {},
   "outputs": [
    {
     "data": {
      "text/html": [
       "<div>\n",
       "<style scoped>\n",
       "    .dataframe tbody tr th:only-of-type {\n",
       "        vertical-align: middle;\n",
       "    }\n",
       "\n",
       "    .dataframe tbody tr th {\n",
       "        vertical-align: top;\n",
       "    }\n",
       "\n",
       "    .dataframe thead th {\n",
       "        text-align: right;\n",
       "    }\n",
       "</style>\n",
       "<table border=\"1\" class=\"dataframe\">\n",
       "  <thead>\n",
       "    <tr style=\"text-align: right;\">\n",
       "      <th></th>\n",
       "      <th>Cabin_quantity</th>\n",
       "      <th>Cabin</th>\n",
       "    </tr>\n",
       "    <tr>\n",
       "      <th>Ticket</th>\n",
       "      <th></th>\n",
       "      <th></th>\n",
       "    </tr>\n",
       "  </thead>\n",
       "  <tbody>\n",
       "    <tr>\n",
       "      <th>110152</th>\n",
       "      <td>2.0</td>\n",
       "      <td>0</td>\n",
       "    </tr>\n",
       "    <tr>\n",
       "      <th>110413</th>\n",
       "      <td>2.0</td>\n",
       "      <td>0</td>\n",
       "    </tr>\n",
       "    <tr>\n",
       "      <th>110465</th>\n",
       "      <td>2.0</td>\n",
       "      <td>0</td>\n",
       "    </tr>\n",
       "    <tr>\n",
       "      <th>110469</th>\n",
       "      <td>NaN</td>\n",
       "      <td>0</td>\n",
       "    </tr>\n",
       "    <tr>\n",
       "      <th>110489</th>\n",
       "      <td>1.0</td>\n",
       "      <td>0</td>\n",
       "    </tr>\n",
       "    <tr>\n",
       "      <th>...</th>\n",
       "      <td>...</td>\n",
       "      <td>...</td>\n",
       "    </tr>\n",
       "    <tr>\n",
       "      <th>PC 17759</th>\n",
       "      <td>2.0</td>\n",
       "      <td>0</td>\n",
       "    </tr>\n",
       "    <tr>\n",
       "      <th>PC 17760</th>\n",
       "      <td>2.0</td>\n",
       "      <td>1</td>\n",
       "    </tr>\n",
       "    <tr>\n",
       "      <th>PC 17761</th>\n",
       "      <td>1.0</td>\n",
       "      <td>1</td>\n",
       "    </tr>\n",
       "    <tr>\n",
       "      <th>W.E.P. 5734</th>\n",
       "      <td>1.0</td>\n",
       "      <td>0</td>\n",
       "    </tr>\n",
       "    <tr>\n",
       "      <th>WE/P 5735</th>\n",
       "      <td>1.0</td>\n",
       "      <td>0</td>\n",
       "    </tr>\n",
       "  </tbody>\n",
       "</table>\n",
       "<p>188 rows × 2 columns</p>\n",
       "</div>"
      ],
      "text/plain": [
       "             Cabin_quantity  Cabin\n",
       "Ticket                            \n",
       "110152                  2.0      0\n",
       "110413                  2.0      0\n",
       "110465                  2.0      0\n",
       "110469                  NaN      0\n",
       "110489                  1.0      0\n",
       "...                     ...    ...\n",
       "PC 17759                2.0      0\n",
       "PC 17760                2.0      1\n",
       "PC 17761                1.0      1\n",
       "W.E.P. 5734             1.0      0\n",
       "WE/P 5735               1.0      0\n",
       "\n",
       "[188 rows x 2 columns]"
      ]
     },
     "execution_count": 54,
     "metadata": {},
     "output_type": "execute_result"
    }
   ],
   "source": [
    "#combine the two dataframes (cabin_quantity_per_ticket, null_cabin_quantity_per_ticket)\n",
    "cabin_quantity_per_ticket.join(null_cabin_quantity_per_ticket, how='outer')"
   ]
  },
  {
   "cell_type": "markdown",
   "metadata": {},
   "source": [
    "#### Does the subclass affect the survival rate?\n",
    "- Check the first subclass\n",
    "- Check the second and third subclass"
   ]
  },
  {
   "cell_type": "code",
   "execution_count": 27,
   "metadata": {},
   "outputs": [
    {
     "data": {
      "text/html": [
       "<div>\n",
       "<style scoped>\n",
       "    .dataframe tbody tr th:only-of-type {\n",
       "        vertical-align: middle;\n",
       "    }\n",
       "\n",
       "    .dataframe tbody tr th {\n",
       "        vertical-align: top;\n",
       "    }\n",
       "\n",
       "    .dataframe thead th {\n",
       "        text-align: right;\n",
       "    }\n",
       "</style>\n",
       "<table border=\"1\" class=\"dataframe\">\n",
       "  <thead>\n",
       "    <tr style=\"text-align: right;\">\n",
       "      <th></th>\n",
       "      <th>PassengerId</th>\n",
       "      <th>Survived</th>\n",
       "      <th>Pclass</th>\n",
       "      <th>Name</th>\n",
       "      <th>Sex</th>\n",
       "      <th>Age</th>\n",
       "      <th>SibSp</th>\n",
       "      <th>Parch</th>\n",
       "      <th>Ticket</th>\n",
       "      <th>Fare</th>\n",
       "      <th>Cabin</th>\n",
       "      <th>Embarked</th>\n",
       "      <th>Is_train</th>\n",
       "      <th>Ticket_group_size</th>\n",
       "    </tr>\n",
       "  </thead>\n",
       "  <tbody>\n",
       "    <tr>\n",
       "      <th>258</th>\n",
       "      <td>259</td>\n",
       "      <td>1.0</td>\n",
       "      <td>1</td>\n",
       "      <td>Ward, Miss. Anna</td>\n",
       "      <td>female</td>\n",
       "      <td>35.0</td>\n",
       "      <td>0</td>\n",
       "      <td>0</td>\n",
       "      <td>PC 17755</td>\n",
       "      <td>512.3292</td>\n",
       "      <td>NaN</td>\n",
       "      <td>C</td>\n",
       "      <td>1</td>\n",
       "      <td>4</td>\n",
       "    </tr>\n",
       "    <tr>\n",
       "      <th>679</th>\n",
       "      <td>680</td>\n",
       "      <td>1.0</td>\n",
       "      <td>1</td>\n",
       "      <td>Cardeza, Mr. Thomas Drake Martinez</td>\n",
       "      <td>male</td>\n",
       "      <td>36.0</td>\n",
       "      <td>0</td>\n",
       "      <td>1</td>\n",
       "      <td>PC 17755</td>\n",
       "      <td>512.3292</td>\n",
       "      <td>B51 B53 B55</td>\n",
       "      <td>C</td>\n",
       "      <td>1</td>\n",
       "      <td>4</td>\n",
       "    </tr>\n",
       "    <tr>\n",
       "      <th>737</th>\n",
       "      <td>738</td>\n",
       "      <td>1.0</td>\n",
       "      <td>1</td>\n",
       "      <td>Lesurer, Mr. Gustave J</td>\n",
       "      <td>male</td>\n",
       "      <td>35.0</td>\n",
       "      <td>0</td>\n",
       "      <td>0</td>\n",
       "      <td>PC 17755</td>\n",
       "      <td>512.3292</td>\n",
       "      <td>B101</td>\n",
       "      <td>C</td>\n",
       "      <td>1</td>\n",
       "      <td>4</td>\n",
       "    </tr>\n",
       "    <tr>\n",
       "      <th>1234</th>\n",
       "      <td>1235</td>\n",
       "      <td>NaN</td>\n",
       "      <td>1</td>\n",
       "      <td>Cardeza, Mrs. James Warburton Martinez (Charlo...</td>\n",
       "      <td>female</td>\n",
       "      <td>58.0</td>\n",
       "      <td>0</td>\n",
       "      <td>1</td>\n",
       "      <td>PC 17755</td>\n",
       "      <td>512.3292</td>\n",
       "      <td>B51 B53 B55</td>\n",
       "      <td>C</td>\n",
       "      <td>0</td>\n",
       "      <td>4</td>\n",
       "    </tr>\n",
       "  </tbody>\n",
       "</table>\n",
       "</div>"
      ],
      "text/plain": [
       "      PassengerId  Survived  Pclass  \\\n",
       "258           259       1.0       1   \n",
       "679           680       1.0       1   \n",
       "737           738       1.0       1   \n",
       "1234         1235       NaN       1   \n",
       "\n",
       "                                                   Name     Sex   Age  SibSp  \\\n",
       "258                                    Ward, Miss. Anna  female  35.0      0   \n",
       "679                  Cardeza, Mr. Thomas Drake Martinez    male  36.0      0   \n",
       "737                              Lesurer, Mr. Gustave J    male  35.0      0   \n",
       "1234  Cardeza, Mrs. James Warburton Martinez (Charlo...  female  58.0      0   \n",
       "\n",
       "      Parch    Ticket      Fare        Cabin Embarked  Is_train  \\\n",
       "258       0  PC 17755  512.3292          NaN        C         1   \n",
       "679       1  PC 17755  512.3292  B51 B53 B55        C         1   \n",
       "737       0  PC 17755  512.3292         B101        C         1   \n",
       "1234      1  PC 17755  512.3292  B51 B53 B55        C         0   \n",
       "\n",
       "      Ticket_group_size  \n",
       "258                   4  \n",
       "679                   4  \n",
       "737                   4  \n",
       "1234                  4  "
      ]
     },
     "execution_count": 27,
     "metadata": {},
     "output_type": "execute_result"
    }
   ],
   "source": [
    "#check the first subclass (fare >500)\n",
    "full_df[full_df.Fare>500]"
   ]
  },
  {
   "cell_type": "markdown",
   "metadata": {},
   "source": [
    "**Finding:**   \n",
    "Only four passengers' fares were above 500 - 2 male (both survived) and 2 female (one survived, one unknown from the data), of the same ticket number.These males' survival rate were higher than the rest pclass1 male passengers. The previous [EDA notebook](https://www.kaggle.com/bofangli/titanic-eda-with-detailed-explanation) shows that for pclass1, less than 40% males survived and almost all females survived.\n",
    "However, the samples of small size are susceptible to randomness. No reliable conclusions can be made only based on the data analysis of such few samples (size of 4). External evidence is necessary to prove that these top pclass1 passengers (esp. men) were given higher priority to board the lifeboat."
   ]
  },
  {
   "cell_type": "markdown",
   "metadata": {},
   "source": [
    "**Online search for these four top pclass1 passengers:**   \n",
    "[Titanicpages](https://www.titanicpages.com/thomascardeza) says that Thomas Cardeza, his mother, and their servants boarded lifeboat 3 and survived.   \n",
    "\n",
    "According to [Wikipedia](https://en.wikipedia.org/wiki/Lifeboats_of_the_Titanic), lifeboat 3 was the third to be lowered from the **starboard** side.One very important clue was found there: the men's chances of survival largely depend on which side of the ship the men tried to find lifeboat seats. Captain Smith ordered his officers to put the \"women and children in and lower away\".However, **Murdoch and Lightoller interpreted the evacuation order differently: Murdoch (in charge of starboard side) as women and children first, while Lightoller (port side) as women and children only**.   \n",
    "\n",
    "If the family of Thomas Cardeza had tried to find lifeboat seats from the port side, Thomas and his manservant might have not been able to access the lifeboat due to the 'women and children only' principle at that side.\n",
    "\n",
    "So I did not find any strong evidence that the top pclass1 passengers (fare >500) were given higher priority to board the life boat than the rest pclass1 passengers."
   ]
  },
  {
   "cell_type": "markdown",
   "metadata": {},
   "source": [
    "**Conclusion:**   \n",
    "The second class and third class had no subclasses.   \n",
    "Pclass1 did have subclasses. Though pclass1 had three separate price ranges, there were only two fare ranges clearly separated - above 500, and below 300.   \n",
    "Among the pclass1 passengers, the four passengers (esp. men) of the first subclass (fare >500) had a much higher survival rate than those of the second subclass (below 300). However, due to the small sample size, this observation is highly susceptible to randomness, which is supported by the external resources."
   ]
  },
  {
   "cell_type": "markdown",
   "metadata": {},
   "source": [
    "### Is the special fare (zero and unusually low) related with the survival rate?\n",
    "\n",
    "My previous [EDA notebook](https://www.kaggle.com/bofangli/titanic-eda-with-detailed-explanation) and the fare outliers analysis of this notebook show that there were some free tickets and one very cheap pclass1 ticket of £5."
   ]
  },
  {
   "cell_type": "code",
   "execution_count": 28,
   "metadata": {},
   "outputs": [
    {
     "name": "stdout",
     "output_type": "stream",
     "text": [
      "There were 17 free tickets.\n"
     ]
    },
    {
     "data": {
      "text/html": [
       "<div>\n",
       "<style scoped>\n",
       "    .dataframe tbody tr th:only-of-type {\n",
       "        vertical-align: middle;\n",
       "    }\n",
       "\n",
       "    .dataframe tbody tr th {\n",
       "        vertical-align: top;\n",
       "    }\n",
       "\n",
       "    .dataframe thead th {\n",
       "        text-align: right;\n",
       "    }\n",
       "</style>\n",
       "<table border=\"1\" class=\"dataframe\">\n",
       "  <thead>\n",
       "    <tr style=\"text-align: right;\">\n",
       "      <th></th>\n",
       "      <th>PassengerId</th>\n",
       "      <th>Survived</th>\n",
       "      <th>Pclass</th>\n",
       "      <th>Name</th>\n",
       "      <th>Sex</th>\n",
       "      <th>Age</th>\n",
       "      <th>SibSp</th>\n",
       "      <th>Parch</th>\n",
       "      <th>Ticket</th>\n",
       "      <th>Fare</th>\n",
       "      <th>Cabin</th>\n",
       "      <th>Embarked</th>\n",
       "      <th>Is_train</th>\n",
       "      <th>Ticket_group_size</th>\n",
       "    </tr>\n",
       "  </thead>\n",
       "  <tbody>\n",
       "    <tr>\n",
       "      <th>806</th>\n",
       "      <td>807</td>\n",
       "      <td>0.0</td>\n",
       "      <td>1</td>\n",
       "      <td>Andrews, Mr. Thomas Jr</td>\n",
       "      <td>male</td>\n",
       "      <td>39.0</td>\n",
       "      <td>0</td>\n",
       "      <td>0</td>\n",
       "      <td>112050</td>\n",
       "      <td>0.0</td>\n",
       "      <td>A36</td>\n",
       "      <td>S</td>\n",
       "      <td>1</td>\n",
       "      <td>1</td>\n",
       "    </tr>\n",
       "    <tr>\n",
       "      <th>1157</th>\n",
       "      <td>1158</td>\n",
       "      <td>NaN</td>\n",
       "      <td>1</td>\n",
       "      <td>Chisholm, Mr. Roderick Robert Crispin</td>\n",
       "      <td>male</td>\n",
       "      <td>NaN</td>\n",
       "      <td>0</td>\n",
       "      <td>0</td>\n",
       "      <td>112051</td>\n",
       "      <td>0.0</td>\n",
       "      <td>NaN</td>\n",
       "      <td>S</td>\n",
       "      <td>0</td>\n",
       "      <td>1</td>\n",
       "    </tr>\n",
       "    <tr>\n",
       "      <th>633</th>\n",
       "      <td>634</td>\n",
       "      <td>0.0</td>\n",
       "      <td>1</td>\n",
       "      <td>Parr, Mr. William Henry Marsh</td>\n",
       "      <td>male</td>\n",
       "      <td>NaN</td>\n",
       "      <td>0</td>\n",
       "      <td>0</td>\n",
       "      <td>112052</td>\n",
       "      <td>0.0</td>\n",
       "      <td>NaN</td>\n",
       "      <td>S</td>\n",
       "      <td>1</td>\n",
       "      <td>1</td>\n",
       "    </tr>\n",
       "    <tr>\n",
       "      <th>815</th>\n",
       "      <td>816</td>\n",
       "      <td>0.0</td>\n",
       "      <td>1</td>\n",
       "      <td>Fry, Mr. Richard</td>\n",
       "      <td>male</td>\n",
       "      <td>NaN</td>\n",
       "      <td>0</td>\n",
       "      <td>0</td>\n",
       "      <td>112058</td>\n",
       "      <td>0.0</td>\n",
       "      <td>B102</td>\n",
       "      <td>S</td>\n",
       "      <td>1</td>\n",
       "      <td>2</td>\n",
       "    </tr>\n",
       "    <tr>\n",
       "      <th>1263</th>\n",
       "      <td>1264</td>\n",
       "      <td>NaN</td>\n",
       "      <td>1</td>\n",
       "      <td>Ismay, Mr. Joseph Bruce</td>\n",
       "      <td>male</td>\n",
       "      <td>49.0</td>\n",
       "      <td>0</td>\n",
       "      <td>0</td>\n",
       "      <td>112058</td>\n",
       "      <td>0.0</td>\n",
       "      <td>B52 B54 B56</td>\n",
       "      <td>S</td>\n",
       "      <td>0</td>\n",
       "      <td>2</td>\n",
       "    </tr>\n",
       "    <tr>\n",
       "      <th>263</th>\n",
       "      <td>264</td>\n",
       "      <td>0.0</td>\n",
       "      <td>1</td>\n",
       "      <td>Harrison, Mr. William</td>\n",
       "      <td>male</td>\n",
       "      <td>40.0</td>\n",
       "      <td>0</td>\n",
       "      <td>0</td>\n",
       "      <td>112059</td>\n",
       "      <td>0.0</td>\n",
       "      <td>B94</td>\n",
       "      <td>S</td>\n",
       "      <td>1</td>\n",
       "      <td>1</td>\n",
       "    </tr>\n",
       "    <tr>\n",
       "      <th>822</th>\n",
       "      <td>823</td>\n",
       "      <td>0.0</td>\n",
       "      <td>1</td>\n",
       "      <td>Reuchlin, Jonkheer. John George</td>\n",
       "      <td>male</td>\n",
       "      <td>38.0</td>\n",
       "      <td>0</td>\n",
       "      <td>0</td>\n",
       "      <td>19972</td>\n",
       "      <td>0.0</td>\n",
       "      <td>NaN</td>\n",
       "      <td>S</td>\n",
       "      <td>1</td>\n",
       "      <td>1</td>\n",
       "    </tr>\n",
       "    <tr>\n",
       "      <th>277</th>\n",
       "      <td>278</td>\n",
       "      <td>0.0</td>\n",
       "      <td>2</td>\n",
       "      <td>Parkes, Mr. Francis \"Frank\"</td>\n",
       "      <td>male</td>\n",
       "      <td>NaN</td>\n",
       "      <td>0</td>\n",
       "      <td>0</td>\n",
       "      <td>239853</td>\n",
       "      <td>0.0</td>\n",
       "      <td>NaN</td>\n",
       "      <td>S</td>\n",
       "      <td>1</td>\n",
       "      <td>3</td>\n",
       "    </tr>\n",
       "    <tr>\n",
       "      <th>413</th>\n",
       "      <td>414</td>\n",
       "      <td>0.0</td>\n",
       "      <td>2</td>\n",
       "      <td>Cunningham, Mr. Alfred Fleming</td>\n",
       "      <td>male</td>\n",
       "      <td>NaN</td>\n",
       "      <td>0</td>\n",
       "      <td>0</td>\n",
       "      <td>239853</td>\n",
       "      <td>0.0</td>\n",
       "      <td>NaN</td>\n",
       "      <td>S</td>\n",
       "      <td>1</td>\n",
       "      <td>3</td>\n",
       "    </tr>\n",
       "    <tr>\n",
       "      <th>466</th>\n",
       "      <td>467</td>\n",
       "      <td>0.0</td>\n",
       "      <td>2</td>\n",
       "      <td>Campbell, Mr. William</td>\n",
       "      <td>male</td>\n",
       "      <td>NaN</td>\n",
       "      <td>0</td>\n",
       "      <td>0</td>\n",
       "      <td>239853</td>\n",
       "      <td>0.0</td>\n",
       "      <td>NaN</td>\n",
       "      <td>S</td>\n",
       "      <td>1</td>\n",
       "      <td>3</td>\n",
       "    </tr>\n",
       "    <tr>\n",
       "      <th>481</th>\n",
       "      <td>482</td>\n",
       "      <td>0.0</td>\n",
       "      <td>2</td>\n",
       "      <td>Frost, Mr. Anthony Wood \"Archie\"</td>\n",
       "      <td>male</td>\n",
       "      <td>NaN</td>\n",
       "      <td>0</td>\n",
       "      <td>0</td>\n",
       "      <td>239854</td>\n",
       "      <td>0.0</td>\n",
       "      <td>NaN</td>\n",
       "      <td>S</td>\n",
       "      <td>1</td>\n",
       "      <td>1</td>\n",
       "    </tr>\n",
       "    <tr>\n",
       "      <th>732</th>\n",
       "      <td>733</td>\n",
       "      <td>0.0</td>\n",
       "      <td>2</td>\n",
       "      <td>Knight, Mr. Robert J</td>\n",
       "      <td>male</td>\n",
       "      <td>NaN</td>\n",
       "      <td>0</td>\n",
       "      <td>0</td>\n",
       "      <td>239855</td>\n",
       "      <td>0.0</td>\n",
       "      <td>NaN</td>\n",
       "      <td>S</td>\n",
       "      <td>1</td>\n",
       "      <td>1</td>\n",
       "    </tr>\n",
       "    <tr>\n",
       "      <th>674</th>\n",
       "      <td>675</td>\n",
       "      <td>0.0</td>\n",
       "      <td>2</td>\n",
       "      <td>Watson, Mr. Ennis Hastings</td>\n",
       "      <td>male</td>\n",
       "      <td>NaN</td>\n",
       "      <td>0</td>\n",
       "      <td>0</td>\n",
       "      <td>239856</td>\n",
       "      <td>0.0</td>\n",
       "      <td>NaN</td>\n",
       "      <td>S</td>\n",
       "      <td>1</td>\n",
       "      <td>1</td>\n",
       "    </tr>\n",
       "    <tr>\n",
       "      <th>179</th>\n",
       "      <td>180</td>\n",
       "      <td>0.0</td>\n",
       "      <td>3</td>\n",
       "      <td>Leonard, Mr. Lionel</td>\n",
       "      <td>male</td>\n",
       "      <td>36.0</td>\n",
       "      <td>0</td>\n",
       "      <td>0</td>\n",
       "      <td>LINE</td>\n",
       "      <td>0.0</td>\n",
       "      <td>NaN</td>\n",
       "      <td>S</td>\n",
       "      <td>1</td>\n",
       "      <td>4</td>\n",
       "    </tr>\n",
       "    <tr>\n",
       "      <th>271</th>\n",
       "      <td>272</td>\n",
       "      <td>1.0</td>\n",
       "      <td>3</td>\n",
       "      <td>Tornquist, Mr. William Henry</td>\n",
       "      <td>male</td>\n",
       "      <td>25.0</td>\n",
       "      <td>0</td>\n",
       "      <td>0</td>\n",
       "      <td>LINE</td>\n",
       "      <td>0.0</td>\n",
       "      <td>NaN</td>\n",
       "      <td>S</td>\n",
       "      <td>1</td>\n",
       "      <td>4</td>\n",
       "    </tr>\n",
       "    <tr>\n",
       "      <th>302</th>\n",
       "      <td>303</td>\n",
       "      <td>0.0</td>\n",
       "      <td>3</td>\n",
       "      <td>Johnson, Mr. William Cahoone Jr</td>\n",
       "      <td>male</td>\n",
       "      <td>19.0</td>\n",
       "      <td>0</td>\n",
       "      <td>0</td>\n",
       "      <td>LINE</td>\n",
       "      <td>0.0</td>\n",
       "      <td>NaN</td>\n",
       "      <td>S</td>\n",
       "      <td>1</td>\n",
       "      <td>4</td>\n",
       "    </tr>\n",
       "    <tr>\n",
       "      <th>597</th>\n",
       "      <td>598</td>\n",
       "      <td>0.0</td>\n",
       "      <td>3</td>\n",
       "      <td>Johnson, Mr. Alfred</td>\n",
       "      <td>male</td>\n",
       "      <td>49.0</td>\n",
       "      <td>0</td>\n",
       "      <td>0</td>\n",
       "      <td>LINE</td>\n",
       "      <td>0.0</td>\n",
       "      <td>NaN</td>\n",
       "      <td>S</td>\n",
       "      <td>1</td>\n",
       "      <td>4</td>\n",
       "    </tr>\n",
       "  </tbody>\n",
       "</table>\n",
       "</div>"
      ],
      "text/plain": [
       "      PassengerId  Survived  Pclass                                   Name  \\\n",
       "806           807       0.0       1                 Andrews, Mr. Thomas Jr   \n",
       "1157         1158       NaN       1  Chisholm, Mr. Roderick Robert Crispin   \n",
       "633           634       0.0       1          Parr, Mr. William Henry Marsh   \n",
       "815           816       0.0       1                       Fry, Mr. Richard   \n",
       "1263         1264       NaN       1                Ismay, Mr. Joseph Bruce   \n",
       "263           264       0.0       1                  Harrison, Mr. William   \n",
       "822           823       0.0       1        Reuchlin, Jonkheer. John George   \n",
       "277           278       0.0       2            Parkes, Mr. Francis \"Frank\"   \n",
       "413           414       0.0       2         Cunningham, Mr. Alfred Fleming   \n",
       "466           467       0.0       2                  Campbell, Mr. William   \n",
       "481           482       0.0       2       Frost, Mr. Anthony Wood \"Archie\"   \n",
       "732           733       0.0       2                   Knight, Mr. Robert J   \n",
       "674           675       0.0       2             Watson, Mr. Ennis Hastings   \n",
       "179           180       0.0       3                    Leonard, Mr. Lionel   \n",
       "271           272       1.0       3           Tornquist, Mr. William Henry   \n",
       "302           303       0.0       3        Johnson, Mr. William Cahoone Jr   \n",
       "597           598       0.0       3                    Johnson, Mr. Alfred   \n",
       "\n",
       "       Sex   Age  SibSp  Parch  Ticket  Fare        Cabin Embarked  Is_train  \\\n",
       "806   male  39.0      0      0  112050   0.0          A36        S         1   \n",
       "1157  male   NaN      0      0  112051   0.0          NaN        S         0   \n",
       "633   male   NaN      0      0  112052   0.0          NaN        S         1   \n",
       "815   male   NaN      0      0  112058   0.0         B102        S         1   \n",
       "1263  male  49.0      0      0  112058   0.0  B52 B54 B56        S         0   \n",
       "263   male  40.0      0      0  112059   0.0          B94        S         1   \n",
       "822   male  38.0      0      0   19972   0.0          NaN        S         1   \n",
       "277   male   NaN      0      0  239853   0.0          NaN        S         1   \n",
       "413   male   NaN      0      0  239853   0.0          NaN        S         1   \n",
       "466   male   NaN      0      0  239853   0.0          NaN        S         1   \n",
       "481   male   NaN      0      0  239854   0.0          NaN        S         1   \n",
       "732   male   NaN      0      0  239855   0.0          NaN        S         1   \n",
       "674   male   NaN      0      0  239856   0.0          NaN        S         1   \n",
       "179   male  36.0      0      0    LINE   0.0          NaN        S         1   \n",
       "271   male  25.0      0      0    LINE   0.0          NaN        S         1   \n",
       "302   male  19.0      0      0    LINE   0.0          NaN        S         1   \n",
       "597   male  49.0      0      0    LINE   0.0          NaN        S         1   \n",
       "\n",
       "      Ticket_group_size  \n",
       "806                   1  \n",
       "1157                  1  \n",
       "633                   1  \n",
       "815                   2  \n",
       "1263                  2  \n",
       "263                   1  \n",
       "822                   1  \n",
       "277                   3  \n",
       "413                   3  \n",
       "466                   3  \n",
       "481                   1  \n",
       "732                   1  \n",
       "674                   1  \n",
       "179                   4  \n",
       "271                   4  \n",
       "302                   4  \n",
       "597                   4  "
      ]
     },
     "execution_count": 28,
     "metadata": {},
     "output_type": "execute_result"
    }
   ],
   "source": [
    "print(\"There were {} free tickets.\".format(len(full_df[full_df.Fare==0])))\n",
    "full_df[full_df.Fare==0].sort_values(by=['Pclass', 'Ticket'])"
   ]
  },
  {
   "cell_type": "code",
   "execution_count": 29,
   "metadata": {},
   "outputs": [
    {
     "data": {
      "text/plain": [
       "1    7\n",
       "2    6\n",
       "3    4\n",
       "Name: Pclass, dtype: int64"
      ]
     },
     "execution_count": 29,
     "metadata": {},
     "output_type": "execute_result"
    }
   ],
   "source": [
    "#Pclass values of the passengers with free tickets\n",
    "full_df[full_df.Fare==0].Pclass.value_counts()"
   ]
  },
  {
   "cell_type": "code",
   "execution_count": 30,
   "metadata": {},
   "outputs": [
    {
     "data": {
      "text/plain": [
       "0.0    14\n",
       "1.0     1\n",
       "Name: Survived, dtype: int64"
      ]
     },
     "execution_count": 30,
     "metadata": {},
     "output_type": "execute_result"
    }
   ],
   "source": [
    "#Survival status of the passengers with free tickets\n",
    "full_df[full_df.Fare==0].Survived.value_counts()"
   ]
  },
  {
   "cell_type": "code",
   "execution_count": 31,
   "metadata": {},
   "outputs": [
    {
     "data": {
      "text/plain": [
       "Pclass\n",
       "1    0.368852\n",
       "2    0.157407\n",
       "3    0.135447\n",
       "Name: Survived, dtype: float64"
      ]
     },
     "execution_count": 31,
     "metadata": {},
     "output_type": "execute_result"
    }
   ],
   "source": [
    "#Survival rates of males of three Pclasses\n",
    "full_df[full_df.Sex=='male'].groupby('Pclass')['Survived'].mean()"
   ]
  },
  {
   "cell_type": "markdown",
   "metadata": {},
   "source": [
    "**Finding:**   \n",
    "As mentioned above in [outlier analysis](#Analyze-the-outliers-in-the-samples-of-unique-ticket-numbers), Mr. Frans' pclass1 ticket fare was £5, and he was the employee and died during the titanic voyage.\n",
    "\n",
    "Among these 17 passengers with complimentary tickets and another passenger with a very cheap pclass1 ticket:   \n",
    "- 8 of Pclass1, 6 of Pclass2, 4 of Pclass3.   \n",
    "- 15 died, 1 survived (Pclass3), 2 unknown survival status (Pclass1) from the data.\n",
    "\n",
    "The survival status of 16 out of them are known from the data. Among these 16 passengers:\n",
    "- Pclass1: 6 totally, all died. Their survival rates was lower than those of Pclass1 male passengers on average.\n",
    "- Pclass2: 6 totally, all died. The sample size is not big enough for comparison because the survival rate was only 0.16 on average.\n",
    "- Pclass3: 4 totally, only 1 survived. The survival rate was higher than those of Pclass1 male passengers on average.\n",
    "- Survival rate: 6% (1 out of 16)."
   ]
  },
  {
   "cell_type": "markdown",
   "metadata": {},
   "source": [
    "**Finding from online search for the reasons behind the free or low-price tickets:**   \n",
    "Among the owners of complementary tickets:   \n",
    "All second-class （six totally) and three first-class passengerss(passengerIds 264, 807, 1158) belonged to [The nine-strong \"guarantee group\"](https://maritimebelfast.com/case-studies/titanic-heritage-plaques-the-guarantee-group/) of Harland and Wolff employees chosen to oversee the smooth running of the Titanic's maiden voyage.   \n",
    "All third-class (four totally) were [American Line employee](https://www.geni.com/people/Lionel-Leonard/6000000016211210238).   \n",
    "[Naval architect](https://en.wikipedia.org/wiki/Thomas_Andrews) that was in charge of the plans for the ocean liner RMS Titanic: Thomas_Andrews(807).\n",
    "Other first-class:   \n",
    "- [Chairman and managing director of the White Star Line]((https://en.wikipedia.org/wiki/J._Bruce_Ismay): Ismay, Mr. Joseph Bruce(1264).\n",
    "- [His valet (816) and secretary (634)](https://www.geni.com/people/John-Richard-Fry/6000000016142357235) \n",
    "- Reuchlin, Jonkheer. John George (823), his ticket was complementary because of his position with the Holland America Line which was part of the International Mercantile according to [geni](https://www.geni.com/people/Jonkheer-Johan-George-Reuchlin/6000000015519745032)\n",
    "\n",
    "[Wikipedia](https://en.wikipedia.org/wiki/Crew_of_the_Titanic) says that the nine-member Guarantee Group and the eight members of the ship's band, who were given passenger accommodations and treated as both passengers and crew."
   ]
  },
  {
   "cell_type": "markdown",
   "metadata": {},
   "source": [
    "**Crew statistics of [Titanicfacts](https://titanicfacts.net/titanic-crew/):**    \n",
    "There were Totally 908 crew members on board the RMS Titanic.Among them, 212 survived (23%).\n",
    "885 crew members were male and 192 out of them survived (22%)."
   ]
  },
  {
   "cell_type": "markdown",
   "metadata": {},
   "source": [
    "**Conclusion:**   \n",
    "The owners of the special fare (zero and unusually low) were the male employees of RMS titanic or related companies. They were not treated as both passengers and crew.    \n",
    "Their survival rate (6%) was much lower than that of the male crew (22%) and that of the male passengers (19%). However, as the sample size is so small, their observations were susceptible to randomness and hence the reliability of the analysis result is compromised."
   ]
  },
  {
   "cell_type": "markdown",
   "metadata": {},
   "source": [
    "### Can the fare be used as the indication for the ticket groups?"
   ]
  },
  {
   "cell_type": "code",
   "execution_count": 32,
   "metadata": {},
   "outputs": [],
   "source": [
    "#Number of unique ticket values of each fare group\n",
    "tickets_in_fareGroups = full_df.groupby('Fare')['Ticket'].nunique()"
   ]
  },
  {
   "cell_type": "code",
   "execution_count": 33,
   "metadata": {},
   "outputs": [
    {
     "data": {
      "text/plain": [
       "90"
      ]
     },
     "execution_count": 33,
     "metadata": {},
     "output_type": "execute_result"
    }
   ],
   "source": [
    "#How many fare groups have more than one ticket values\n",
    "np.sum(tickets_in_fareGroups>1)"
   ]
  },
  {
   "cell_type": "markdown",
   "metadata": {},
   "source": [
    "**Finding:**   \n",
    "Fares can't be used as the indication for ticket groups because the tickets of same fares are not necessarily of the same number."
   ]
  },
  {
   "cell_type": "markdown",
   "metadata": {},
   "source": [
    "## Summary"
   ]
  },
  {
   "cell_type": "markdown",
   "metadata": {},
   "source": [
    "- The overlapping of fares were mainly caused by the sharing of fares. 46% fare values are not of the individual, but of the ticket group.   \n",
    "- The direct comparison of fare values can be misleading.  \n",
    "- The Fare variable is strongly coorelated with the Pclass variable which is the indication of socio-economic class.\n",
    "- Some additional information can be extracted from fare values: \n",
    "    - Subclass of Pclass1. Pclass2 and Pclass3 had no subclasses. Pclass1 had at least two subclasses.   \n",
    "    - Special passengers (including the nine-member Guarantee Group and the eight members of the ship's band) who had free tickets and another employee with £5 pclass1 ticket.   "
   ]
  }
 ],
 "metadata": {
  "kernelspec": {
   "display_name": "Python 3",
   "language": "python",
   "name": "python3"
  },
  "language_info": {
   "codemirror_mode": {
    "name": "ipython",
    "version": 3
   },
   "file_extension": ".py",
   "mimetype": "text/x-python",
   "name": "python",
   "nbconvert_exporter": "python",
   "pygments_lexer": "ipython3",
   "version": "3.6.9"
  },
  "toc": {
   "base_numbering": 1,
   "nav_menu": {},
   "number_sections": true,
   "sideBar": true,
   "skip_h1_title": false,
   "title_cell": "Table of Contents",
   "title_sidebar": "Contents",
   "toc_cell": false,
   "toc_position": {
    "height": "430px",
    "left": "569px",
    "top": "110px",
    "width": "225px"
   },
   "toc_section_display": true,
   "toc_window_display": true
  }
 },
 "nbformat": 4,
 "nbformat_minor": 2
}
